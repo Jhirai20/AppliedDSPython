{
 "cells": [
  {
   "cell_type": "code",
   "execution_count": null,
   "id": "dda2b1bb-755d-4669-bab5-b2fe16619f4a",
   "metadata": {},
   "outputs": [],
   "source": [
    "#Basic python jupyter notebook manipulation 6/4/22"
   ]
  },
  {
   "cell_type": "code",
   "execution_count": 69,
   "id": "4344b804-50e6-4ea4-996d-ca84f85bb661",
   "metadata": {},
   "outputs": [],
   "source": [
    "#Applied data Sci w/ python  -Lesson 3 -class practice"
   ]
  },
  {
   "cell_type": "markdown",
   "id": "e0e4e38f-7cb3-449d-af58-7801d3242792",
   "metadata": {},
   "source": [
    "# --List of hotkeys--\n",
    "Tab: finding a function from lib   ex: plt. [Tab]\n",
    "Shift+Tab :description on method\n",
    "\n",
    "Shift+Enter: run selected cells\n",
    "Ctrl+Enter: run the current cell, select below\n",
    "Alt + Enter: run the current cell, insert below\n",
    "\n",
    "A(insert Above) vs B(insert Below vs D (deleting)\n"
   ]
  },
  {
   "cell_type": "code",
   "execution_count": 17,
   "id": "c0d8f80b-ae36-4730-99f7-0d764ed956a4",
   "metadata": {},
   "outputs": [
    {
     "ename": "ImportError",
     "evalue": "cannot import name 'cosin' from 'math' (unknown location)",
     "output_type": "error",
     "traceback": [
      "\u001b[1;31m---------------------------------------------------------------------------\u001b[0m",
      "\u001b[1;31mImportError\u001b[0m                               Traceback (most recent call last)",
      "Input \u001b[1;32mIn [17]\u001b[0m, in \u001b[0;36m<cell line: 1>\u001b[1;34m()\u001b[0m\n\u001b[1;32m----> 1\u001b[0m \u001b[38;5;28;01mfrom\u001b[39;00m \u001b[38;5;21;01mmath\u001b[39;00m \u001b[38;5;28;01mimport\u001b[39;00m sqrt, sin, cosin\n",
      "\u001b[1;31mImportError\u001b[0m: cannot import name 'cosin' from 'math' (unknown location)"
     ]
    }
   ],
   "source": [
    "from math import sqrt, sin, cosin"
   ]
  },
  {
   "cell_type": "code",
   "execution_count": 9,
   "id": "075ccf51-6248-4266-b249-abd6d41d6359",
   "metadata": {},
   "outputs": [
    {
     "data": {
      "text/plain": [
       "0.0015926529164868282"
      ]
     },
     "execution_count": 9,
     "metadata": {},
     "output_type": "execute_result"
    }
   ],
   "source": [
    "sqrt(4)\n",
    "sin(3.14)"
   ]
  },
  {
   "cell_type": "code",
   "execution_count": 4,
   "id": "04dc4e39-2aa5-4ec4-97f6-261bf058ce12",
   "metadata": {},
   "outputs": [
    {
     "name": "stdout",
     "output_type": "stream",
     "text": [
      "Hello World\n"
     ]
    }
   ],
   "source": [
    "print(\"Hello World\")"
   ]
  },
  {
   "cell_type": "code",
   "execution_count": 18,
   "id": "a4cc4570-08cf-44d1-8bf9-f4bc6a2de7c9",
   "metadata": {},
   "outputs": [
    {
     "ename": "NameError",
     "evalue": "name 'cos' is not defined",
     "output_type": "error",
     "traceback": [
      "\u001b[1;31m---------------------------------------------------------------------------\u001b[0m",
      "\u001b[1;31mNameError\u001b[0m                                 Traceback (most recent call last)",
      "Input \u001b[1;32mIn [18]\u001b[0m, in \u001b[0;36m<cell line: 1>\u001b[1;34m()\u001b[0m\n\u001b[1;32m----> 1\u001b[0m \u001b[43mcos\u001b[49m(\u001b[38;5;241m3.14\u001b[39m)\n",
      "\u001b[1;31mNameError\u001b[0m: name 'cos' is not defined"
     ]
    }
   ],
   "source": [
    "cos(3.14)"
   ]
  },
  {
   "cell_type": "code",
   "execution_count": 19,
   "id": "7be20e13-f63a-4b18-854f-a2387e0b48ec",
   "metadata": {},
   "outputs": [],
   "source": [
    "import math"
   ]
  },
  {
   "cell_type": "code",
   "execution_count": 21,
   "id": "5ff1c2cc-a401-4265-9dc1-e70f728818af",
   "metadata": {},
   "outputs": [
    {
     "data": {
      "text/plain": [
       "-0.9999987317275395"
      ]
     },
     "execution_count": 21,
     "metadata": {},
     "output_type": "execute_result"
    }
   ],
   "source": [
    "math.cos(3.14)"
   ]
  },
  {
   "cell_type": "code",
   "execution_count": 22,
   "id": "b8237a0d-c892-4a94-93b4-0c101bb03a7b",
   "metadata": {
    "tags": []
   },
   "outputs": [],
   "source": [
    "# If you import a specific attribute from a library you dont have to declare the parent math\n"
   ]
  },
  {
   "cell_type": "code",
   "execution_count": null,
   "id": "aa0fb5c6-a5b5-4819-98a3-96ae227db7da",
   "metadata": {},
   "outputs": [],
   "source": [
    "#numpy simple array and matrix manipulation "
   ]
  },
  {
   "cell_type": "code",
   "execution_count": 24,
   "id": "c315f08e-affd-47b0-ac56-afd0d795cc38",
   "metadata": {},
   "outputs": [],
   "source": [
    "import numpy as np"
   ]
  },
  {
   "cell_type": "code",
   "execution_count": 30,
   "id": "1bd21f18-96ae-404a-8728-6856d76aee2b",
   "metadata": {},
   "outputs": [],
   "source": [
    "dis=[1,2,3,4,5]\n",
    "time=[2,4,6,8,10]"
   ]
  },
  {
   "cell_type": "code",
   "execution_count": 31,
   "id": "a00803ba-6eb6-4486-8f8e-67912f733f90",
   "metadata": {},
   "outputs": [],
   "source": [
    "dis_arr = np.array(dis)"
   ]
  },
  {
   "cell_type": "code",
   "execution_count": 32,
   "id": "7d224bc6-2524-4d60-9ca8-7b9404d2a015",
   "metadata": {},
   "outputs": [],
   "source": [
    "tim_arr=np.array(time)"
   ]
  },
  {
   "cell_type": "code",
   "execution_count": 33,
   "id": "73d91158-243e-465f-a3f3-dfef0889af1b",
   "metadata": {},
   "outputs": [],
   "source": [
    "speed=dis_arr/tim_arr"
   ]
  },
  {
   "cell_type": "code",
   "execution_count": 34,
   "id": "702bfce0-abf7-4d2c-970c-22afd1133635",
   "metadata": {},
   "outputs": [
    {
     "name": "stdout",
     "output_type": "stream",
     "text": [
      "[0.5 0.5 0.5 0.5 0.5]\n"
     ]
    }
   ],
   "source": [
    "print(speed)"
   ]
  },
  {
   "cell_type": "code",
   "execution_count": 36,
   "id": "488c627f-e8fd-412c-a9e9-8bcada716b59",
   "metadata": {},
   "outputs": [
    {
     "data": {
      "text/plain": [
       "(5,)"
      ]
     },
     "execution_count": 36,
     "metadata": {},
     "output_type": "execute_result"
    }
   ],
   "source": [
    "dis_arr.shape"
   ]
  },
  {
   "cell_type": "code",
   "execution_count": 38,
   "id": "c0bf376a-c034-4ec3-901a-46bb82424168",
   "metadata": {},
   "outputs": [
    {
     "data": {
      "text/plain": [
       "0.5"
      ]
     },
     "execution_count": 38,
     "metadata": {},
     "output_type": "execute_result"
    }
   ],
   "source": [
    "np.median(speed)"
   ]
  },
  {
   "cell_type": "code",
   "execution_count": 43,
   "id": "fff6fdf7-7b88-4762-bf1d-2b5f4b74fa0b",
   "metadata": {},
   "outputs": [],
   "source": [
    "a=np.array([[1,2,4],[2,4,7]])"
   ]
  },
  {
   "cell_type": "code",
   "execution_count": 44,
   "id": "059ffbb4-3d22-4294-8e10-cb153f2c2df3",
   "metadata": {},
   "outputs": [
    {
     "data": {
      "text/plain": [
       "(2, 3)"
      ]
     },
     "execution_count": 44,
     "metadata": {},
     "output_type": "execute_result"
    }
   ],
   "source": [
    "a.shape"
   ]
  },
  {
   "cell_type": "code",
   "execution_count": 45,
   "id": "a42745e5-42c8-4091-b684-149401424563",
   "metadata": {},
   "outputs": [
    {
     "name": "stdout",
     "output_type": "stream",
     "text": [
      "[[1 2 4]\n",
      " [2 4 7]]\n"
     ]
    }
   ],
   "source": [
    "print(a)"
   ]
  },
  {
   "cell_type": "code",
   "execution_count": 46,
   "id": "57d11c4a-978d-4594-a4d4-dde13d46f16f",
   "metadata": {},
   "outputs": [],
   "source": [
    "b=np.array([1,2,3,4,5,6,7,8,9,10,11,12])"
   ]
  },
  {
   "cell_type": "code",
   "execution_count": 47,
   "id": "9d365f40-1a10-4731-a14a-c6da51964999",
   "metadata": {},
   "outputs": [
    {
     "data": {
      "text/plain": [
       "array([[ 1,  2,  3,  4],\n",
       "       [ 5,  6,  7,  8],\n",
       "       [ 9, 10, 11, 12]])"
      ]
     },
     "execution_count": 47,
     "metadata": {},
     "output_type": "execute_result"
    }
   ],
   "source": [
    "b.reshape(3,4)"
   ]
  },
  {
   "cell_type": "code",
   "execution_count": 53,
   "id": "5e1142bf-3183-4778-8c74-995a41227e0a",
   "metadata": {},
   "outputs": [
    {
     "data": {
      "text/plain": [
       "array([[ 1,  2,  3,  4,  5,  6],\n",
       "       [ 7,  8,  9, 10, 11, 12]])"
      ]
     },
     "execution_count": 53,
     "metadata": {},
     "output_type": "execute_result"
    }
   ],
   "source": [
    "b.reshape(2,6)"
   ]
  },
  {
   "cell_type": "code",
   "execution_count": 56,
   "id": "a18a0f7b-1d93-48fa-ac02-af71f3994c82",
   "metadata": {},
   "outputs": [
    {
     "data": {
      "text/plain": [
       "array([1, 2, 4, 2, 4, 7])"
      ]
     },
     "execution_count": 56,
     "metadata": {},
     "output_type": "execute_result"
    }
   ],
   "source": [
    "np.concatenate(a)"
   ]
  },
  {
   "cell_type": "code",
   "execution_count": 58,
   "id": "d5f09f39-9710-46cb-957e-6ea600640b81",
   "metadata": {},
   "outputs": [
    {
     "data": {
      "text/plain": [
       "(2, 3)"
      ]
     },
     "execution_count": 58,
     "metadata": {},
     "output_type": "execute_result"
    }
   ],
   "source": [
    "a.shape"
   ]
  },
  {
   "cell_type": "code",
   "execution_count": 59,
   "id": "dad5717e-a38c-4b32-b717-ba31a1b243cb",
   "metadata": {},
   "outputs": [
    {
     "data": {
      "text/plain": [
       "nan"
      ]
     },
     "execution_count": 59,
     "metadata": {},
     "output_type": "execute_result"
    }
   ],
   "source": [
    "np.nan"
   ]
  },
  {
   "cell_type": "code",
   "execution_count": 60,
   "id": "e168500f-7dff-423e-9a7f-350ef33e95ac",
   "metadata": {},
   "outputs": [],
   "source": [
    "a=np.empty([2,2])"
   ]
  },
  {
   "cell_type": "code",
   "execution_count": 61,
   "id": "9d57c6b3-7455-4a7d-98ca-8b85c6068809",
   "metadata": {},
   "outputs": [
    {
     "data": {
      "text/plain": [
       "array([[2.37663529e-312, 2.33419537e-312],\n",
       "       [2.33419537e-312, 1.11260755e-306]])"
      ]
     },
     "execution_count": 61,
     "metadata": {},
     "output_type": "execute_result"
    }
   ],
   "source": [
    "a"
   ]
  },
  {
   "cell_type": "code",
   "execution_count": 62,
   "id": "2939d075-614f-49f5-b4cd-4a9a9add8ace",
   "metadata": {},
   "outputs": [],
   "source": [
    "c=np.empty([3,3])"
   ]
  },
  {
   "cell_type": "code",
   "execution_count": 63,
   "id": "35911743-c4e3-429b-94ad-49d6f8c4152a",
   "metadata": {},
   "outputs": [
    {
     "data": {
      "text/plain": [
       "array([[4.67296746e-307, 1.69121096e-306, 1.11260755e-306],\n",
       "       [1.89146896e-307, 7.56571288e-307, 3.11525958e-307],\n",
       "       [1.24610723e-306, 1.29061142e-306, 3.79837247e-312]])"
      ]
     },
     "execution_count": 63,
     "metadata": {},
     "output_type": "execute_result"
    }
   ],
   "source": [
    "c\n"
   ]
  },
  {
   "cell_type": "code",
   "execution_count": 66,
   "id": "a8b436ed-6d15-40f5-a152-c526ce4f7507",
   "metadata": {},
   "outputs": [],
   "source": [
    "d=np.empty_like(b)"
   ]
  },
  {
   "cell_type": "code",
   "execution_count": 67,
   "id": "5f3cc6dc-c8b5-4ced-b44c-0326421139ed",
   "metadata": {},
   "outputs": [
    {
     "data": {
      "text/plain": [
       "array([[2.37663529e-312, 2.33419537e-312],\n",
       "       [2.33419537e-312, 1.11260755e-306]])"
      ]
     },
     "execution_count": 67,
     "metadata": {},
     "output_type": "execute_result"
    }
   ],
   "source": [
    "np.empty_like(a)"
   ]
  },
  {
   "cell_type": "code",
   "execution_count": 70,
   "id": "ab599b41-bb43-4acc-8889-65813ac210ea",
   "metadata": {},
   "outputs": [
    {
     "ename": "TypeError",
     "evalue": "_binary_op_dispatcher() missing 1 required positional argument: 'x2'",
     "output_type": "error",
     "traceback": [
      "\u001b[1;31m---------------------------------------------------------------------------\u001b[0m",
      "\u001b[1;31mTypeError\u001b[0m                                 Traceback (most recent call last)",
      "Input \u001b[1;32mIn [70]\u001b[0m, in \u001b[0;36m<cell line: 1>\u001b[1;34m()\u001b[0m\n\u001b[1;32m----> 1\u001b[0m \u001b[43mnp\u001b[49m\u001b[38;5;241;43m.\u001b[39;49m\u001b[43mchar\u001b[49m\u001b[38;5;241;43m.\u001b[39;49m\u001b[43madd\u001b[49m\u001b[43m(\u001b[49m\u001b[43md\u001b[49m\u001b[43m)\u001b[49m\n",
      "File \u001b[1;32m<__array_function__ internals>:4\u001b[0m, in \u001b[0;36madd\u001b[1;34m(*args, **kwargs)\u001b[0m\n",
      "\u001b[1;31mTypeError\u001b[0m: _binary_op_dispatcher() missing 1 required positional argument: 'x2'"
     ]
    }
   ],
   "source": [
    "np.char.add(d)"
   ]
  },
  {
   "cell_type": "code",
   "execution_count": null,
   "id": "8c78f041-b41d-44db-901b-a3e5f5823666",
   "metadata": {},
   "outputs": [],
   "source": [
    "# Manipulation of series"
   ]
  },
  {
   "cell_type": "code",
   "execution_count": 4,
   "id": "d49914e4-2b78-4824-8d18-833026521ad2",
   "metadata": {},
   "outputs": [],
   "source": [
    "import numpy as np # for arrays\n",
    "import pandas as pd # for lists"
   ]
  },
  {
   "cell_type": "code",
   "execution_count": 2,
   "id": "18955dac-9734-4ea0-b877-3e4662d165a8",
   "metadata": {},
   "outputs": [],
   "source": [
    "# S = pd.Series(data, index = [index])"
   ]
  },
  {
   "cell_type": "code",
   "execution_count": 5,
   "id": "90587cf4-a578-4f73-a7b6-7a4baaee1827",
   "metadata": {},
   "outputs": [],
   "source": [
    "first_series=pd.Series(list('abcdef')) #note capital S in series for class"
   ]
  },
  {
   "cell_type": "code",
   "execution_count": 6,
   "id": "f2da42d5-3c4c-43df-a9fc-e1df9ccc846c",
   "metadata": {},
   "outputs": [
    {
     "name": "stdout",
     "output_type": "stream",
     "text": [
      "0    a\n",
      "1    b\n",
      "2    c\n",
      "3    d\n",
      "4    e\n",
      "5    f\n",
      "dtype: object\n"
     ]
    }
   ],
   "source": [
    "print(first_series)"
   ]
  },
  {
   "cell_type": "code",
   "execution_count": null,
   "id": "9e10a7b4-c60c-4592-af19-67f3b94ea8de",
   "metadata": {},
   "outputs": [],
   "source": []
  },
  {
   "cell_type": "code",
   "execution_count": 9,
   "id": "79456ef3-06af-4218-b00b-07146e32239e",
   "metadata": {},
   "outputs": [],
   "source": [
    "#manipulation of Data Frames\n"
   ]
  },
  {
   "cell_type": "code",
   "execution_count": 22,
   "id": "2514b4b2-03b5-4133-afa6-b3f49b60c2d2",
   "metadata": {},
   "outputs": [],
   "source": [
    "olympic_data_list={'HostCity':['London','Beijing','Athens','Sydney','Atlanta'],\n",
    "                   'Year':[2012,2008,2004,2000,1996],\n",
    "                   'No of Participating countries':[205,204,201,200,197]}"
   ]
  },
  {
   "cell_type": "code",
   "execution_count": 23,
   "id": "5e4142c8-672b-4740-8f16-e208b5cfb6ba",
   "metadata": {},
   "outputs": [],
   "source": [
    "df_olympic_data=pd.DataFrame(olympic_data_list)"
   ]
  },
  {
   "cell_type": "code",
   "execution_count": 16,
   "id": "001a0f03-469e-4e84-806d-a8b5fd75ac52",
   "metadata": {},
   "outputs": [
    {
     "data": {
      "text/html": [
       "<div>\n",
       "<style scoped>\n",
       "    .dataframe tbody tr th:only-of-type {\n",
       "        vertical-align: middle;\n",
       "    }\n",
       "\n",
       "    .dataframe tbody tr th {\n",
       "        vertical-align: top;\n",
       "    }\n",
       "\n",
       "    .dataframe thead th {\n",
       "        text-align: right;\n",
       "    }\n",
       "</style>\n",
       "<table border=\"1\" class=\"dataframe\">\n",
       "  <thead>\n",
       "    <tr style=\"text-align: right;\">\n",
       "      <th></th>\n",
       "      <th>Host City</th>\n",
       "      <th>Year</th>\n",
       "      <th>No of Participating countries</th>\n",
       "    </tr>\n",
       "  </thead>\n",
       "  <tbody>\n",
       "    <tr>\n",
       "      <th>0</th>\n",
       "      <td>London</td>\n",
       "      <td>2012</td>\n",
       "      <td>205</td>\n",
       "    </tr>\n",
       "    <tr>\n",
       "      <th>1</th>\n",
       "      <td>Beijing</td>\n",
       "      <td>2008</td>\n",
       "      <td>204</td>\n",
       "    </tr>\n",
       "    <tr>\n",
       "      <th>2</th>\n",
       "      <td>Athens</td>\n",
       "      <td>2004</td>\n",
       "      <td>201</td>\n",
       "    </tr>\n",
       "    <tr>\n",
       "      <th>3</th>\n",
       "      <td>Sydney</td>\n",
       "      <td>2000</td>\n",
       "      <td>200</td>\n",
       "    </tr>\n",
       "    <tr>\n",
       "      <th>4</th>\n",
       "      <td>Atlanta</td>\n",
       "      <td>1996</td>\n",
       "      <td>197</td>\n",
       "    </tr>\n",
       "  </tbody>\n",
       "</table>\n",
       "</div>"
      ],
      "text/plain": [
       "  Host City  Year  No of Participating countries\n",
       "0    London  2012                            205\n",
       "1   Beijing  2008                            204\n",
       "2    Athens  2004                            201\n",
       "3    Sydney  2000                            200\n",
       "4   Atlanta  1996                            197"
      ]
     },
     "execution_count": 16,
     "metadata": {},
     "output_type": "execute_result"
    }
   ],
   "source": [
    "df_olympic_data"
   ]
  },
  {
   "cell_type": "code",
   "execution_count": 24,
   "id": "59e39302-9d11-46df-bd24-aa9e7d9ac88c",
   "metadata": {},
   "outputs": [
    {
     "data": {
      "text/plain": [
       "0     London\n",
       "1    Beijing\n",
       "2     Athens\n",
       "3     Sydney\n",
       "4    Atlanta\n",
       "Name: HostCity, dtype: object"
      ]
     },
     "execution_count": 24,
     "metadata": {},
     "output_type": "execute_result"
    }
   ],
   "source": [
    "df_olympic_data.HostCity"
   ]
  },
  {
   "cell_type": "code",
   "execution_count": 26,
   "id": "b2265470-61ce-4e87-aebe-7faf7648193c",
   "metadata": {},
   "outputs": [
    {
     "data": {
      "text/plain": [
       "<bound method NDFrame.describe of   HostCity  Year  No of Participating countries\n",
       "0   London  2012                            205\n",
       "1  Beijing  2008                            204\n",
       "2   Athens  2004                            201\n",
       "3   Sydney  2000                            200\n",
       "4  Atlanta  1996                            197>"
      ]
     },
     "execution_count": 26,
     "metadata": {},
     "output_type": "execute_result"
    }
   ],
   "source": [
    "df_olympic_data.describe"
   ]
  },
  {
   "cell_type": "code",
   "execution_count": 34,
   "id": "fded8677-8d8f-4d2c-99fb-394a741c74ff",
   "metadata": {},
   "outputs": [
    {
     "data": {
      "text/plain": [
       "0    205\n",
       "1    204\n",
       "2    201\n",
       "3    200\n",
       "4    197\n",
       "Name: No of Participating countries, dtype: int64"
      ]
     },
     "execution_count": 34,
     "metadata": {},
     "output_type": "execute_result"
    }
   ],
   "source": [
    "df_olympic_data ['No of Participating countries'] # note this is for spaces in Key"
   ]
  },
  {
   "cell_type": "code",
   "execution_count": 29,
   "id": "91d782dd-323b-42e2-8525-aeaced8088f4",
   "metadata": {},
   "outputs": [],
   "source": [
    "olympic_data_dict = {'London':{2012:205},'Beijing':{2008:204}}"
   ]
  },
  {
   "cell_type": "code",
   "execution_count": 31,
   "id": "d306fcc4-e396-4434-b87b-c7a69def0ecb",
   "metadata": {},
   "outputs": [],
   "source": [
    "df_olympic_data_dict=pd.DataFrame(olympic_data_dict)"
   ]
  },
  {
   "cell_type": "code",
   "execution_count": 32,
   "id": "2d349c02-cda3-440a-aac5-9d460cf7361e",
   "metadata": {},
   "outputs": [
    {
     "data": {
      "text/html": [
       "<div>\n",
       "<style scoped>\n",
       "    .dataframe tbody tr th:only-of-type {\n",
       "        vertical-align: middle;\n",
       "    }\n",
       "\n",
       "    .dataframe tbody tr th {\n",
       "        vertical-align: top;\n",
       "    }\n",
       "\n",
       "    .dataframe thead th {\n",
       "        text-align: right;\n",
       "    }\n",
       "</style>\n",
       "<table border=\"1\" class=\"dataframe\">\n",
       "  <thead>\n",
       "    <tr style=\"text-align: right;\">\n",
       "      <th></th>\n",
       "      <th>London</th>\n",
       "      <th>Beijing</th>\n",
       "    </tr>\n",
       "  </thead>\n",
       "  <tbody>\n",
       "    <tr>\n",
       "      <th>2012</th>\n",
       "      <td>205.0</td>\n",
       "      <td>NaN</td>\n",
       "    </tr>\n",
       "    <tr>\n",
       "      <th>2008</th>\n",
       "      <td>NaN</td>\n",
       "      <td>204.0</td>\n",
       "    </tr>\n",
       "  </tbody>\n",
       "</table>\n",
       "</div>"
      ],
      "text/plain": [
       "      London  Beijing\n",
       "2012   205.0      NaN\n",
       "2008     NaN    204.0"
      ]
     },
     "execution_count": 32,
     "metadata": {},
     "output_type": "execute_result"
    }
   ],
   "source": [
    "df_olympic_data_dict # note that this a dict dict data frame to use a costume index"
   ]
  },
  {
   "cell_type": "code",
   "execution_count": 35,
   "id": "50a44c5a-1b95-4508-97a2-934135b91f02",
   "metadata": {},
   "outputs": [],
   "source": [
    "#--Pandas Functions--"
   ]
  },
  {
   "cell_type": "code",
   "execution_count": 36,
   "id": "2d9e7c87-f6fe-4ed2-9be3-6b8d0b19b28e",
   "metadata": {},
   "outputs": [],
   "source": [
    "#pd.read csv() function to import a dataset\n",
    "#df.head() function to output the first five rows of a dataset"
   ]
  },
  {
   "cell_type": "code",
   "execution_count": 19,
   "id": "a1b3116e-a23b-4ce0-871c-618429d104dd",
   "metadata": {},
   "outputs": [
    {
     "data": {
      "text/html": [
       "<div>\n",
       "<style scoped>\n",
       "    .dataframe tbody tr th:only-of-type {\n",
       "        vertical-align: middle;\n",
       "    }\n",
       "\n",
       "    .dataframe tbody tr th {\n",
       "        vertical-align: top;\n",
       "    }\n",
       "\n",
       "    .dataframe thead th {\n",
       "        text-align: right;\n",
       "    }\n",
       "</style>\n",
       "<table border=\"1\" class=\"dataframe\">\n",
       "  <thead>\n",
       "    <tr style=\"text-align: right;\">\n",
       "      <th></th>\n",
       "      <th>instant</th>\n",
       "      <th>dteday</th>\n",
       "      <th>season</th>\n",
       "      <th>yr</th>\n",
       "      <th>mnth</th>\n",
       "      <th>hr</th>\n",
       "      <th>holiday</th>\n",
       "      <th>weekday</th>\n",
       "      <th>weathersit</th>\n",
       "      <th>temp</th>\n",
       "    </tr>\n",
       "  </thead>\n",
       "  <tbody>\n",
       "    <tr>\n",
       "      <th>0</th>\n",
       "      <td>1</td>\n",
       "      <td>01-01-2011</td>\n",
       "      <td>1</td>\n",
       "      <td>0</td>\n",
       "      <td>1</td>\n",
       "      <td>0</td>\n",
       "      <td>False</td>\n",
       "      <td>6</td>\n",
       "      <td>1</td>\n",
       "      <td>0.24</td>\n",
       "    </tr>\n",
       "    <tr>\n",
       "      <th>1</th>\n",
       "      <td>2</td>\n",
       "      <td>01-01-2011</td>\n",
       "      <td>1</td>\n",
       "      <td>0</td>\n",
       "      <td>1</td>\n",
       "      <td>1</td>\n",
       "      <td>False</td>\n",
       "      <td>6</td>\n",
       "      <td>1</td>\n",
       "      <td>0.22</td>\n",
       "    </tr>\n",
       "    <tr>\n",
       "      <th>2</th>\n",
       "      <td>3</td>\n",
       "      <td>01-01-2011</td>\n",
       "      <td>1</td>\n",
       "      <td>0</td>\n",
       "      <td>1</td>\n",
       "      <td>2</td>\n",
       "      <td>False</td>\n",
       "      <td>6</td>\n",
       "      <td>1</td>\n",
       "      <td>0.22</td>\n",
       "    </tr>\n",
       "    <tr>\n",
       "      <th>3</th>\n",
       "      <td>4</td>\n",
       "      <td>01-01-2011</td>\n",
       "      <td>1</td>\n",
       "      <td>0</td>\n",
       "      <td>1</td>\n",
       "      <td>3</td>\n",
       "      <td>False</td>\n",
       "      <td>6</td>\n",
       "      <td>1</td>\n",
       "      <td>0.24</td>\n",
       "    </tr>\n",
       "    <tr>\n",
       "      <th>4</th>\n",
       "      <td>5</td>\n",
       "      <td>01-01-2011</td>\n",
       "      <td>1</td>\n",
       "      <td>0</td>\n",
       "      <td>1</td>\n",
       "      <td>4</td>\n",
       "      <td>False</td>\n",
       "      <td>6</td>\n",
       "      <td>1</td>\n",
       "      <td>0.24</td>\n",
       "    </tr>\n",
       "  </tbody>\n",
       "</table>\n",
       "</div>"
      ],
      "text/plain": [
       "   instant      dteday  season  yr  mnth  hr  holiday  weekday  weathersit  \\\n",
       "0        1  01-01-2011       1   0     1   0    False        6           1   \n",
       "1        2  01-01-2011       1   0     1   1    False        6           1   \n",
       "2        3  01-01-2011       1   0     1   2    False        6           1   \n",
       "3        4  01-01-2011       1   0     1   3    False        6           1   \n",
       "4        5  01-01-2011       1   0     1   4    False        6           1   \n",
       "\n",
       "   temp  \n",
       "0  0.24  \n",
       "1  0.22  \n",
       "2  0.22  \n",
       "3  0.24  \n",
       "4  0.24  "
      ]
     },
     "execution_count": 19,
     "metadata": {},
     "output_type": "execute_result"
    }
   ],
   "source": [
    "df=pd.read_csv('dataset_1.csv')\n",
    "df.head() # shows top 5 rows"
   ]
  },
  {
   "cell_type": "code",
   "execution_count": 21,
   "id": "5ee3b799-6496-406f-b9ae-5c0788eb2e3e",
   "metadata": {},
   "outputs": [
    {
     "data": {
      "text/plain": [
       "(610, 10)"
      ]
     },
     "execution_count": 21,
     "metadata": {},
     "output_type": "execute_result"
    }
   ],
   "source": [
    "df.shape #shows (Rows,Columns)"
   ]
  },
  {
   "cell_type": "code",
   "execution_count": 15,
   "id": "e27af613-3f71-4ae0-8dc3-50ce24a20d95",
   "metadata": {},
   "outputs": [
    {
     "name": "stdout",
     "output_type": "stream",
     "text": [
      "<class 'pandas.core.frame.DataFrame'>\n",
      "RangeIndex: 610 entries, 0 to 609\n",
      "Data columns (total 10 columns):\n",
      " #   Column      Non-Null Count  Dtype  \n",
      "---  ------      --------------  -----  \n",
      " 0   instant     610 non-null    int64  \n",
      " 1   dteday      610 non-null    object \n",
      " 2   season      610 non-null    int64  \n",
      " 3   yr          610 non-null    int64  \n",
      " 4   mnth        610 non-null    int64  \n",
      " 5   hr          610 non-null    int64  \n",
      " 6   holiday     610 non-null    bool   \n",
      " 7   weekday     610 non-null    int64  \n",
      " 8   weathersit  610 non-null    int64  \n",
      " 9   temp        610 non-null    float64\n",
      "dtypes: bool(1), float64(1), int64(7), object(1)\n",
      "memory usage: 43.6+ KB\n"
     ]
    }
   ],
   "source": [
    "df.info() #output the information of the dataset. --data info--"
   ]
  },
  {
   "cell_type": "code",
   "execution_count": 22,
   "id": "331689b8-58f9-455e-ad74-68e6fd2341c1",
   "metadata": {},
   "outputs": [
    {
     "data": {
      "text/html": [
       "<div>\n",
       "<style scoped>\n",
       "    .dataframe tbody tr th:only-of-type {\n",
       "        vertical-align: middle;\n",
       "    }\n",
       "\n",
       "    .dataframe tbody tr th {\n",
       "        vertical-align: top;\n",
       "    }\n",
       "\n",
       "    .dataframe thead th {\n",
       "        text-align: right;\n",
       "    }\n",
       "</style>\n",
       "<table border=\"1\" class=\"dataframe\">\n",
       "  <thead>\n",
       "    <tr style=\"text-align: right;\">\n",
       "      <th></th>\n",
       "      <th>instant</th>\n",
       "      <th>season</th>\n",
       "      <th>yr</th>\n",
       "      <th>mnth</th>\n",
       "      <th>hr</th>\n",
       "      <th>weekday</th>\n",
       "      <th>weathersit</th>\n",
       "      <th>temp</th>\n",
       "    </tr>\n",
       "  </thead>\n",
       "  <tbody>\n",
       "    <tr>\n",
       "      <th>count</th>\n",
       "      <td>610.000000</td>\n",
       "      <td>610.0</td>\n",
       "      <td>610.0</td>\n",
       "      <td>610.0</td>\n",
       "      <td>610.000000</td>\n",
       "      <td>610.000000</td>\n",
       "      <td>610.000000</td>\n",
       "      <td>610.000000</td>\n",
       "    </tr>\n",
       "    <tr>\n",
       "      <th>mean</th>\n",
       "      <td>305.500000</td>\n",
       "      <td>1.0</td>\n",
       "      <td>0.0</td>\n",
       "      <td>1.0</td>\n",
       "      <td>11.795082</td>\n",
       "      <td>2.977049</td>\n",
       "      <td>1.477049</td>\n",
       "      <td>0.196885</td>\n",
       "    </tr>\n",
       "    <tr>\n",
       "      <th>std</th>\n",
       "      <td>176.236111</td>\n",
       "      <td>0.0</td>\n",
       "      <td>0.0</td>\n",
       "      <td>0.0</td>\n",
       "      <td>6.852107</td>\n",
       "      <td>2.054943</td>\n",
       "      <td>0.643496</td>\n",
       "      <td>0.081304</td>\n",
       "    </tr>\n",
       "    <tr>\n",
       "      <th>min</th>\n",
       "      <td>1.000000</td>\n",
       "      <td>1.0</td>\n",
       "      <td>0.0</td>\n",
       "      <td>1.0</td>\n",
       "      <td>0.000000</td>\n",
       "      <td>0.000000</td>\n",
       "      <td>1.000000</td>\n",
       "      <td>0.020000</td>\n",
       "    </tr>\n",
       "    <tr>\n",
       "      <th>25%</th>\n",
       "      <td>153.250000</td>\n",
       "      <td>1.0</td>\n",
       "      <td>0.0</td>\n",
       "      <td>1.0</td>\n",
       "      <td>6.000000</td>\n",
       "      <td>1.000000</td>\n",
       "      <td>1.000000</td>\n",
       "      <td>0.160000</td>\n",
       "    </tr>\n",
       "    <tr>\n",
       "      <th>50%</th>\n",
       "      <td>305.500000</td>\n",
       "      <td>1.0</td>\n",
       "      <td>0.0</td>\n",
       "      <td>1.0</td>\n",
       "      <td>12.000000</td>\n",
       "      <td>3.000000</td>\n",
       "      <td>1.000000</td>\n",
       "      <td>0.200000</td>\n",
       "    </tr>\n",
       "    <tr>\n",
       "      <th>75%</th>\n",
       "      <td>457.750000</td>\n",
       "      <td>1.0</td>\n",
       "      <td>0.0</td>\n",
       "      <td>1.0</td>\n",
       "      <td>18.000000</td>\n",
       "      <td>5.000000</td>\n",
       "      <td>2.000000</td>\n",
       "      <td>0.235000</td>\n",
       "    </tr>\n",
       "    <tr>\n",
       "      <th>max</th>\n",
       "      <td>610.000000</td>\n",
       "      <td>1.0</td>\n",
       "      <td>0.0</td>\n",
       "      <td>1.0</td>\n",
       "      <td>23.000000</td>\n",
       "      <td>6.000000</td>\n",
       "      <td>4.000000</td>\n",
       "      <td>0.460000</td>\n",
       "    </tr>\n",
       "  </tbody>\n",
       "</table>\n",
       "</div>"
      ],
      "text/plain": [
       "          instant  season     yr   mnth          hr     weekday  weathersit  \\\n",
       "count  610.000000   610.0  610.0  610.0  610.000000  610.000000  610.000000   \n",
       "mean   305.500000     1.0    0.0    1.0   11.795082    2.977049    1.477049   \n",
       "std    176.236111     0.0    0.0    0.0    6.852107    2.054943    0.643496   \n",
       "min      1.000000     1.0    0.0    1.0    0.000000    0.000000    1.000000   \n",
       "25%    153.250000     1.0    0.0    1.0    6.000000    1.000000    1.000000   \n",
       "50%    305.500000     1.0    0.0    1.0   12.000000    3.000000    1.000000   \n",
       "75%    457.750000     1.0    0.0    1.0   18.000000    5.000000    2.000000   \n",
       "max    610.000000     1.0    0.0    1.0   23.000000    6.000000    4.000000   \n",
       "\n",
       "             temp  \n",
       "count  610.000000  \n",
       "mean     0.196885  \n",
       "std      0.081304  \n",
       "min      0.020000  \n",
       "25%      0.160000  \n",
       "50%      0.200000  \n",
       "75%      0.235000  \n",
       "max      0.460000  "
      ]
     },
     "execution_count": 22,
     "metadata": {},
     "output_type": "execute_result"
    }
   ],
   "source": [
    "df.describe() # --stats--"
   ]
  },
  {
   "cell_type": "code",
   "execution_count": 23,
   "id": "67c020f8-a7b9-4d2b-9888-f027bb02dd33",
   "metadata": {},
   "outputs": [
    {
     "data": {
      "text/plain": [
       "<bound method DataFrame.info of      instant      dteday  season  yr  mnth  hr  holiday  weekday  weathersit  \\\n",
       "0          1  01-01-2011       1   0     1   0    False        6           1   \n",
       "1          2  01-01-2011       1   0     1   1    False        6           1   \n",
       "2          3  01-01-2011       1   0     1   2    False        6           1   \n",
       "3          4  01-01-2011       1   0     1   3    False        6           1   \n",
       "4          5  01-01-2011       1   0     1   4    False        6           1   \n",
       "..       ...         ...     ...  ..   ...  ..      ...      ...         ...   \n",
       "605      606  28-01-2011       1   0     1  11    False        5           3   \n",
       "606      607  28-01-2011       1   0     1  12    False        5           3   \n",
       "607      608  28-01-2011       1   0     1  13    False        5           3   \n",
       "608      609  28-01-2011       1   0     1  14    False        5           3   \n",
       "609      610  28-01-2011       1   0     1  15    False        5           2   \n",
       "\n",
       "     temp  \n",
       "0    0.24  \n",
       "1    0.22  \n",
       "2    0.22  \n",
       "3    0.24  \n",
       "4    0.24  \n",
       "..    ...  \n",
       "605  0.18  \n",
       "606  0.18  \n",
       "607  0.18  \n",
       "608  0.22  \n",
       "609  0.20  \n",
       "\n",
       "[610 rows x 10 columns]>"
      ]
     },
     "execution_count": 23,
     "metadata": {},
     "output_type": "execute_result"
    }
   ],
   "source": [
    "df.info # note the dif set of info"
   ]
  },
  {
   "cell_type": "code",
   "execution_count": null,
   "id": "0f447847-c17e-4915-a99c-17c14a13dd58",
   "metadata": {},
   "outputs": [],
   "source": []
  },
  {
   "cell_type": "code",
   "execution_count": null,
   "id": "049d9082-9df7-4f57-ad20-5938f68ab2ea",
   "metadata": {},
   "outputs": [],
   "source": []
  },
  {
   "cell_type": "code",
   "execution_count": 46,
   "id": "7115c8de-c2a9-4d86-a066-5d2545afcacc",
   "metadata": {
    "tags": []
   },
   "outputs": [],
   "source": [
    "# --Matplotlib-- : low-level graphical tool\n"
   ]
  },
  {
   "cell_type": "code",
   "execution_count": 67,
   "id": "debe3912-f56c-42ab-9bec-edb330497ee7",
   "metadata": {},
   "outputs": [
    {
     "name": "stderr",
     "output_type": "stream",
     "text": [
      "C:\\Users\\jhira\\AppData\\Local\\Temp\\ipykernel_9388\\4152545889.py:1: DeprecationWarning: Importing display from IPython.core.display is deprecated since IPython 7.14, please import from IPython display\n",
      "  from IPython.core.display import Image, display # --How to embed images--\n"
     ]
    },
    {
     "data": {
      "text/html": [
       "<img src=\"img/import_matplot.png\" width=\"1900\" class=\"unconfined\"/>"
      ],
      "text/plain": [
       "<IPython.core.display.Image object>"
      ]
     },
     "metadata": {},
     "output_type": "display_data"
    }
   ],
   "source": [
    "from IPython.core.display import Image, display # --How to embed images--\n",
    "display(Image(url='img/import_matplot.png', width=1900, unconfined=True))"
   ]
  },
  {
   "cell_type": "code",
   "execution_count": 25,
   "id": "09730fa7-5829-4b28-8b9b-c01e56b41c74",
   "metadata": {},
   "outputs": [],
   "source": [
    "import matplotlib.pyplot as plt"
   ]
  },
  {
   "cell_type": "code",
   "execution_count": 39,
   "id": "dd56b131-db49-4c3f-9cad-a85773301415",
   "metadata": {},
   "outputs": [],
   "source": [
    "from matplotlib import style\n",
    "%matplotlib inline"
   ]
  },
  {
   "cell_type": "code",
   "execution_count": 40,
   "id": "f14e62c7-30e7-4015-8b66-e9cd5ae5522f",
   "metadata": {},
   "outputs": [],
   "source": [
    "randomNumber = np.random.rand(10)"
   ]
  },
  {
   "cell_type": "code",
   "execution_count": 41,
   "id": "ad5332a2-7c3b-44ae-bb4c-9e584ab61691",
   "metadata": {},
   "outputs": [
    {
     "name": "stdout",
     "output_type": "stream",
     "text": [
      "[0.02780582 0.62974355 0.38384836 0.32066038 0.36626427 0.95244311\n",
      " 0.1230373  0.5420821  0.28742891 0.6265374 ]\n"
     ]
    }
   ],
   "source": [
    "print(randomNumber)"
   ]
  },
  {
   "cell_type": "code",
   "execution_count": 42,
   "id": "e42a6454-8b46-4e1c-85f2-a8ecc143584f",
   "metadata": {},
   "outputs": [],
   "source": [
    "style.use('ggplot') #Set the style"
   ]
  },
  {
   "cell_type": "code",
   "execution_count": 45,
   "id": "41057089-a356-42c6-af0c-b4a1c746fe9d",
   "metadata": {},
   "outputs": [
    {
     "data": {
      "image/png": "[encoded data removed]",
      "text/plain": [
       "<Figure size 432x288 with 1 Axes>"
      ]
     },
     "metadata": {},
     "output_type": "display_data"
    }
   ],
   "source": [
    "plt.plot(randomNumber,'g',label='line one',linewidth=2)\n",
    "plt.xlabel('Range')\n",
    "plt.ylabel('Numbers')\n",
    "plt.title('First Plot')\n",
    "plt.legend()\n",
    "plt.show()"
   ]
  },
  {
   "cell_type": "code",
   "execution_count": null,
   "id": "15254d8b-cc0f-41dc-bda2-98bade32c32e",
   "metadata": {},
   "outputs": [],
   "source": []
  },
  {
   "cell_type": "code",
   "execution_count": null,
   "id": "12b4230c-3526-47a2-a02c-4af1f2e8c6a0",
   "metadata": {},
   "outputs": [],
   "source": []
  },
  {
   "cell_type": "code",
   "execution_count": 68,
   "id": "bacfa3a6-1c49-4570-ae75-cc275e1297ef",
   "metadata": {},
   "outputs": [],
   "source": [
    "# --SciPy--\n",
    "# SciPy library used for scientific and technical computing.\n",
    "# It has greater optimization, statistics, and signal processing functions.\n",
    "# Lots of SciPy Sub-Package:IO  Integration  Optimize  Linear algebra  Weave packages  Statistics"
   ]
  },
  {
   "cell_type": "code",
   "execution_count": 73,
   "id": "e0a502b4-0718-4e78-9779-5d071d49a919",
   "metadata": {},
   "outputs": [
    {
     "data": {
      "text/plain": [
       "-7.0"
      ]
     },
     "execution_count": 73,
     "metadata": {},
     "output_type": "execute_result"
    }
   ],
   "source": [
    "from scipy import linalg #scipy.linalg as an example.\n",
    "import numpy as np\n",
    "two_d_array=np.array([[4,5],[3,2]])\n",
    "linalg.det(two_d_array) #Compute the determinant of a matrix used to manipulate the sq matrix like the inverse"
   ]
  },
  {
   "cell_type": "code",
   "execution_count": 74,
   "id": "3b02d736-fbfb-4af6-abe9-4367c00293cb",
   "metadata": {},
   "outputs": [
    {
     "name": "stdout",
     "output_type": "stream",
     "text": [
      "(0.33333333333333337, 3.700743415417189e-15)\n"
     ]
    }
   ],
   "source": [
    "from scipy import integrate #scipy.integrate as an example.\n",
    "f = lambda x : x**2\n",
    "integration = integrate.quad(f, 0 , 1) # f of x^2 from 0 to 1)\n",
    "print(integration)"
   ]
  },
  {
   "cell_type": "code",
   "execution_count": null,
   "id": "d2bc29cc-416a-4073-9d96-d75869666863",
   "metadata": {},
   "outputs": [],
   "source": []
  },
  {
   "cell_type": "code",
   "execution_count": null,
   "id": "fb531de8-5bdc-407e-a6dd-b5447358bf02",
   "metadata": {},
   "outputs": [],
   "source": []
  },
  {
   "cell_type": "code",
   "execution_count": 75,
   "id": "1534f8cd-88ad-4037-bd45-df692d3dd2b2",
   "metadata": {},
   "outputs": [
    {
     "data": {
      "text/html": [
       "<img src=\"img/workflow.png\" width=\"1900\" class=\"unconfined\"/>"
      ],
      "text/plain": [
       "<IPython.core.display.Image object>"
      ]
     },
     "metadata": {},
     "output_type": "display_data"
    }
   ],
   "source": [
    "# --Scikit-Learn--\n",
    "# Scikit is a powerful and modern machine learning Python library. It is used for fully- and\n",
    "# semi-automated data analysis and information extraction.\n",
    "#Prebuilt packages for learning:\n",
    "#build a machine learning model: classification, regression, and clustering.\n",
    "#algorithms: k-means, k-nearest neighbors, support vector machine(SVM), and decision tree.\n",
    "display(Image(url='img/workflow.png', width=1900, unconfined=True))"
   ]
  },
  {
   "cell_type": "code",
   "execution_count": 76,
   "id": "07036676-f2ec-4242-9932-a5fa07867042",
   "metadata": {},
   "outputs": [
    {
     "data": {
      "text/html": [
       "<img src=\"img/ConsidProb.png\" width=\"1900\" class=\"unconfined\"/>"
      ],
      "text/plain": [
       "<IPython.core.display.Image object>"
      ]
     },
     "metadata": {},
     "output_type": "display_data"
    }
   ],
   "source": [
    "#Problem-Solution Considerations\n",
    "display(Image(url='img/ConsidProb.png', width=1900, unconfined=True))"
   ]
  },
  {
   "cell_type": "code",
   "execution_count": null,
   "id": "7e0fff90-eda2-452a-8678-b66d333328a1",
   "metadata": {},
   "outputs": [],
   "source": []
  },
  {
   "cell_type": "code",
   "execution_count": null,
   "id": "c3b278e4-a095-424f-8b98-13f43e645225",
   "metadata": {},
   "outputs": [],
   "source": [
    "       "
   ]
  },
  {
   "cell_type": "code",
   "execution_count": 79,
   "id": "7b33fc06-382d-42d8-a963-529b5c44c4c8",
   "metadata": {},
   "outputs": [
    {
     "data": {
      "text/html": [
       "<img src=\"img/tools.png\" width=\"1900\" class=\"unconfined\"/>"
      ],
      "text/plain": [
       "<IPython.core.display.Image object>"
      ]
     },
     "metadata": {},
     "output_type": "display_data"
    }
   ],
   "source": [
    "# --Web Scraping--\n",
    "#  tools used for web scraping\n",
    "display(Image(url='img/tools.png', width=1900, unconfined=True))"
   ]
  },
  {
   "cell_type": "code",
   "execution_count": 3,
   "id": "b197daae-72ed-4884-add4-6d0c3ee9bd00",
   "metadata": {},
   "outputs": [
    {
     "name": "stdout",
     "output_type": "stream",
     "text": [
      "<!DOCTYPE html>\n",
      "<html class=\"no-js\" dir=\"ltr\" lang=\"en-US\">\n",
      " <head>\n",
      "  <title>\n",
      "   Inspirational Quotes - Motivational Quotes - Leadership Quotes | PassItOn.com\n",
      "  </title>\n",
      "  <meta charset=\"utf-8\"/>\n",
      "  <meta content=\"text/html; charset=utf-8\" http-equiv=\"content-type\"/>\n",
      "  <meta content=\"IE=edge\" http-equiv=\"X-UA-Compatible\"/>\n",
      "  <meta content=\"width=device-width,initial-scale=1.0\" name=\"viewport\"/>\n",
      "  <meta content=\"The Foundation for a Better Life | Pass It On.com\" name=\"description\"/>\n",
      "  <link href=\"/apple-touch-icon.png\" rel=\"apple-touch-icon\" sizes=\"180x180\"/>\n",
      "  <link href=\"/favicon-32x32.png\" rel=\"icon\" sizes=\"32x32\" type=\"image/png\"/>\n",
      "  <link href=\"/favicon-16x16.png\" rel=\"icon\" sizes=\"16x16\" type=\"image/png\"/>\n",
      "  <link href=\"/site.webmanifest\" rel=\"manifest\"/>\n",
      "  <link color=\"#c8102e\" href=\"/safari-pinned-tab.svg\" rel=\"mask-icon\"/>\n",
      "  <meta content=\"#c8102e\" name=\"msapplication-TileColor\"/>\n",
      "  <meta content=\"#ffffff\" name=\"theme-color\"/>\n",
      "  <link crossorigin=\"anonymous\" href=\"https://stackpath.bootstrapcdn.com/bootstrap/4.3.1/css/bootstrap.min.css\" integrity=\"sha384-ggOyR0iXCbMQv3Xipma34MD+dH/1fQ784/j6cY/iJTQUOhcWr7x9JvoRxT2MZw1T\" rel=\"stylesheet\"/>\n",
      "  <link href=\"/assets/application-2a7a8e6a1c3f620bac9efa66420f5579.css\" media=\"all\" rel=\"stylesheet\"/>\n",
      "  <meta content=\"authenticity_token\" name=\"csrf-param\"/>\n",
      "  <meta content=\"PiiLNZk877EnVSarp6KtVmuo+LwLUoSbiZPjoZAXbjKeN6IzcngYKKb1yCKhC6rymDMxeO4gJHH3VQs7OR8YKw==\" name=\"csrf-token\"/>\n",
      "  <!-- Global site tag (gtag.js) - Google Analytics -->\n",
      "  <script async=\"\" src=\"https://www.googletagmanager.com/gtag/js?id=UA-1179606-29\">\n",
      "  </script>\n",
      "  <script>\n",
      "   window.dataLayer = window.dataLayer || [];\n",
      "          function gtag(){dataLayer.push(arguments);}\n",
      "          gtag('js', new Date());\n",
      "          gtag('config', 'UA-1179606-29');\n",
      "  </script>\n",
      " </head>\n",
      " <body class=\"no-transition quotes_index\">\n",
      "  <div id=\"fb-root\">\n",
      "  </div>\n",
      "  <script>\n",
      "   window.fbAsyncInit = function() {\n",
      "            FB.init({\n",
      "              appId            : '483774921971842',\n",
      "              autoLogAppEvents : true,\n",
      "              xfbml            : true,\n",
      "              version          : 'v6.0'\n",
      "            });\n",
      "          };\n",
      "  </script>\n",
      "  <script async=\"\" crossorigin=\"anonymous\" defer=\"\" nonce=\"iEAX4Taz\" src=\"https://connect.facebook.net/en_US/sdk.js#xfbml=1&amp;version=v13.0\">\n",
      "  </script>\n",
      "  <meta content=\"passiton.com\" property=\"og:site_name\"/>\n",
      "  <meta content=\"Inspirational Quotes - Motivational Quotes - Leadership Quotes\" property=\"og:title\"/>\n",
      "  <meta content=\"website\" property=\"og:type\"/>\n",
      "  <meta content=\"https://www.passiton.com/passiton.jpg\" property=\"og:image\"/>\n",
      "  <meta content=\"https://www.passiton.com/inspirational-quotes\" property=\"og:url\"/>\n",
      "  <meta content=\"Find the perfect quotation from our hand-picked collection of inspiring quotes by hundreds of authors.\" property=\"og:description\"/>\n",
      "  <meta content=\"483774921971842\" property=\"fb:app_id\"/>\n",
      "  <meta content=\"summary_large_image\" name=\"twitter:card\"/>\n",
      "  <meta content=\"@passiton\" name=\"twitter:site\"/>\n",
      "  <meta content=\"@passiton\" name=\"twitter:creator\"/>\n",
      "  <meta content=\"Inspirational Quotes - Motivational Quotes - Leadership Quotes\" name=\"twitter:title\"/>\n",
      "  <meta content=\"Find the perfect quotation from our hand-picked collection of inspiring quotes by hundreds of authors.\" name=\"twitter:description\"/>\n",
      "  <meta content=\"https://www.passiton.com/passiton.jpg\" name=\"twitter:image\"/>\n",
      "  <meta content=\"https://www.passiton.com/inspirational-quotes\" name=\"twitter:url\"/>\n",
      "  <meta content=\"passiton.com\" itemprop=\"name\"/>\n",
      "  <meta content=\"Find the perfect quotation from our hand-picked collection of inspiring quotes by hundreds of authors.\" itemprop=\"description\"/>\n",
      "  <meta content=\"https://www.passiton.com/passiton.jpg\" itemprop=\"image\"/>\n",
      "  <link href=\"/apple-touch-icon.png\" rel=\"apple-touch-icon\" sizes=\"180x180\"/>\n",
      "  <link href=\"/favicon-32x32.png\" rel=\"icon\" sizes=\"32x32\" type=\"image/png\"/>\n",
      "  <link href=\"/favicon-16x16.png\" rel=\"icon\" sizes=\"16x16\" type=\"image/png\"/>\n",
      "  <link color=\"#C8102E\" href=\"/passiton_arrow.svg\" rel=\"mask-icon\"/>\n",
      "  <link href=\"/manifest.json\" rel=\"manifest\"/>\n",
      "  <link color=\"#5bbad5\" href=\"/safari-pinned-tab.svg\" rel=\"mask-icon\"/>\n",
      "  <meta content=\"passiton\" name=\"apple-mobile-web-app-title\"/>\n",
      "  <meta content=\"passiton\" name=\"application-name\"/>\n",
      "  <meta content=\"#f1f1f1\" name=\"theme-color\"/>\n",
      "  <link href=\"https://www.passiton.com/inspirational-quotes.atom\" rel=\"alternate\" title=\"RSS\" type=\"application/rss+xml\"/>\n",
      "  <header>\n",
      "   <nav class=\"navbar navbar-default bootsnav background-transparent header-dark white-link navbar-fixed-top navbar-expand-lg nav-box-width\">\n",
      "    <div class=\"container-fluid nav-header-container\">\n",
      "     <div class=\"col-auto pl-0\">\n",
      "      <a class=\"logo\" href=\"/\" title=\"Pass It On®\">\n",
      "       <img alt=\"Pass It On\" class=\"logo-dark\" data-rjs=\"/assets/site/logo@2x-77b9f4fa1e4bafa6ff119f8f162b7bd9.png\" src=\"/assets/site/logo-6d680decaadef58e4fbb586e147bc135.png\"/>\n",
      "       <img alt=\"Pass It On\" class=\"logo-light default\" data-rjs=\"/assets/site/logo-white@2x-82bf2486063a48e9207811cc7f6d5e5f.png\" src=\"/assets/site/logo-white-2d99f390ad2f6d3bbf59a52aadb55d60.png\"/>\n",
      "      </a>\n",
      "     </div>\n",
      "     <div class=\"col accordion-menu pr-0 pr-md-3\">\n",
      "      <button class=\"navbar-toggler collapsed\" data-target=\"#navbar-collapse-toggle-1\" data-toggle=\"collapse\" type=\"button\">\n",
      "       <span class=\"sr-only\">\n",
      "        toggle navigation\n",
      "       </span>\n",
      "       <span class=\"icon-bar\">\n",
      "       </span>\n",
      "       <span class=\"icon-bar\">\n",
      "       </span>\n",
      "       <span class=\"icon-bar\">\n",
      "       </span>\n",
      "      </button>\n",
      "      <div class=\"navbar-collapse collapse justify-content-end\" id=\"navbar-collapse-toggle-1\">\n",
      "       <ul class=\"nav navbar-nav navbar-left no-margin alt-font text-normal\" data-in=\"fadeIn\" data-out=\"fadeOut\" id=\"accordion\">\n",
      "        <li>\n",
      "         <a href=\"/inspirational-quotes\">\n",
      "          Quotes\n",
      "         </a>\n",
      "        </li>\n",
      "        <li>\n",
      "         <a href=\"/inspirational-stories-tv-spots\">\n",
      "          Videos\n",
      "         </a>\n",
      "        </li>\n",
      "        <li class=\"dropdown simple-dropdown\">\n",
      "         <a href=\"/inspirational-sayings-billboards\">\n",
      "          Billboards\n",
      "          <i aria-hidden=\"true\" class=\"fas fa-caret-down d-none d-lg-inline\">\n",
      "          </i>\n",
      "         </a>\n",
      "         <i aria-hidden=\"true\" class=\"fas fa-caret-down dropdown-toggle\" data-toggle=\"dropdown\">\n",
      "         </i>\n",
      "         <ul class=\"dropdown-menu\" role=\"menu\">\n",
      "          <li>\n",
      "           <a href=\"/inspirational-sayings-billboards\">\n",
      "            Official Billboards\n",
      "           </a>\n",
      "          </li>\n",
      "          <li>\n",
      "           <a href=\"/is-in-you\">\n",
      "            Is In You® Billboards\n",
      "           </a>\n",
      "          </li>\n",
      "          <li>\n",
      "           <a href=\"/your-billboards\">\n",
      "            Create Your Own Billboard\n",
      "           </a>\n",
      "          </li>\n",
      "         </ul>\n",
      "        </li>\n",
      "        <li>\n",
      "         <a href=\"/positive-good-news-columns\">\n",
      "          Newspapers\n",
      "         </a>\n",
      "        </li>\n",
      "        <li>\n",
      "         <a href=\"/radio\">\n",
      "          Radio\n",
      "         </a>\n",
      "        </li>\n",
      "        <li>\n",
      "         <a href=\"/passiton-blog\">\n",
      "          Blog\n",
      "         </a>\n",
      "        </li>\n",
      "        <li>\n",
      "         <a href=\"/poster-requests/new\">\n",
      "          Schools\n",
      "         </a>\n",
      "        </li>\n",
      "        <li class=\"dropdown simple-dropdown\">\n",
      "         <a href=\"#\">\n",
      "          <i aria-hidden=\"true\" class=\"fas fa-globe d-none d-lg-inline text-normal\">\n",
      "          </i>\n",
      "          <i aria-hidden=\"true\" class=\"fas fa-caret-down d-none d-lg-inline\">\n",
      "          </i>\n",
      "         </a>\n",
      "         <i aria-hidden=\"true\" class=\"fas fa-caret-down dropdown-toggle\" data-toggle=\"dropdown\">\n",
      "         </i>\n",
      "         <ul class=\"dropdown-menu\" role=\"menu\">\n",
      "          <li>\n",
      "           <a href=\"https://www.pasala.org/\" target=\"_blank\">\n",
      "            Spanish | Español\n",
      "           </a>\n",
      "          </li>\n",
      "          <li>\n",
      "           <a href=\"https://www.umavidamelhor.org/\" target=\"_blank\">\n",
      "            Portuguese | Português\n",
      "           </a>\n",
      "          </li>\n",
      "          <li>\n",
      "           <a href=\"https://www.values.cn.com/\" target=\"_blank\">\n",
      "            Chinese | 中文\n",
      "           </a>\n",
      "          </li>\n",
      "         </ul>\n",
      "        </li>\n",
      "       </ul>\n",
      "      </div>\n",
      "     </div>\n",
      "     <div class=\"col-auto pr-0\">\n",
      "      <div class=\"header-searchbar\">\n",
      "       <a class=\"header-search-form\" href=\"#search-header\">\n",
      "        <i class=\"fas fa-search search-button\">\n",
      "        </i>\n",
      "       </a>\n",
      "       <form action=\"/search\" class=\"mfp-hide search-form-result\" id=\"search-header\" method=\"post\" name=\"search-header\">\n",
      "        <div class=\"search-form position-relative\">\n",
      "         <button class=\"fas fa-search close-search search-button\" type=\"submit\">\n",
      "         </button>\n",
      "         <input autocomplete=\"off\" class=\"search-input\" name=\"q\" placeholder=\"Search passiton.com...\" type=\"text\"/>\n",
      "        </div>\n",
      "       </form>\n",
      "      </div>\n",
      "     </div>\n",
      "    </div>\n",
      "   </nav>\n",
      "  </header>\n",
      "  <section class=\"parallax padding-six-all bg-black\" data-stellar-background-ratio=\"0.2\" style=\"background-image:url('/assets/backgrounds/flowers-8d19415bc3bc371f5beaed468d9a1970.jpg');\">\n",
      "   <div class=\"container\">\n",
      "    <div class=\"row justify-content-center\">\n",
      "     <div class=\"col-12 col-lg-10 text-center\">\n",
      "      <div class=\"shadow bg-extra-dark-gray padding-two-all border-radius-6 width-70 lg-width-80 sm-width-100 mx-auto lg-padding-30px-all sm-padding-15px-all sm-margin-40px-top\">\n",
      "       <h6 class=\"font-weight-300 text-white-2 margin-20px-bottom sm-margin-15px-bottom\">\n",
      "        Get our FREE daily quote emails!\n",
      "       </h6>\n",
      "       <p class=\"text-medium width-70 mx-auto margin-40px-bottom sm-width-100 sm-margin-15px-bottom\">\n",
      "        Get a daily inspirational quote in your inbox each weekday! Enter your email below to subscribe.\n",
      "       </p>\n",
      "       <form accept-charset=\"UTF-8\" action=\"/users\" class=\"simple_form search-box3 margin-10px-bottom\" id=\"new_user\" method=\"post\" novalidate=\"novalidate\">\n",
      "        <input name=\"utf8\" type=\"hidden\" value=\"✓\"/>\n",
      "        <input name=\"authenticity_token\" type=\"hidden\" value=\"e1EK7n/AC5OlrkrSE1I23l0FEI/pFPkTYhYDe59SDa7bTiPolIT8CiQOpFsV+zF6rp7ZSwxmWfkc0OvhNlp7tw==\"/>\n",
      "        <div class=\"input-group add-on width-75 mx-auto sm-width-100\">\n",
      "         <input class=\"string email optional form-control text-white\" id=\"user_email\" label=\"false\" name=\"user[email]\" placeholder=\"you@your-email.com\" type=\"text\"/>\n",
      "         <div class=\"input-group-append\">\n",
      "          <button class=\"btn btn-default\" type=\"submit\">\n",
      "           <i class=\"ti-arrow-right text-small m-0\">\n",
      "           </i>\n",
      "          </button>\n",
      "         </div>\n",
      "        </div>\n",
      "       </form>\n",
      "      </div>\n",
      "     </div>\n",
      "    </div>\n",
      "   </div>\n",
      "  </section>\n",
      "  <section class=\"half-section bg-extra-dark-gray half-section\">\n",
      "   <div class=\"container\">\n",
      "    <div class=\"row m-0\">\n",
      "     <div class=\"col-12 d-flex flex-column justify-content-center text-center wow fadeIn\" data-wow-delay=\"0.2s\">\n",
      "      <h5 class=\"text-white alt-font font-weight-400 letter-spacing-1 margin-10px-bottom\">\n",
      "       INSPIRATIONAL QUOTES\n",
      "      </h5>\n",
      "      <span class=\"text-white-2 opacity8 alt-font mb-0 padding-20px-bottom\">\n",
      "       Find the perfect quote... and Pass It On®\n",
      "      </span>\n",
      "      <form action=\"/inspirational-quotes\" class=\"search-box2 margin-30px-bottom\" method=\"get\">\n",
      "       <div class=\"input-group add-on width-75 mx-auto sm-width-100\">\n",
      "        <input class=\"form-control\" name=\"q\" placeholder=\"Search our inspiring quotes...\" type=\"text\" value=\"\"/>\n",
      "        <div class=\"input-group-append\">\n",
      "         <button class=\"btn btn-default\" type=\"submit\">\n",
      "          <i class=\"ti-search text-small m-0\">\n",
      "          </i>\n",
      "         </button>\n",
      "        </div>\n",
      "       </div>\n",
      "      </form>\n",
      "     </div>\n",
      "    </div>\n",
      "    <div class=\"row m-0\">\n",
      "     <div class=\"col-8 d-flex flex-column justify-content-center text-center\">\n",
      "      <div class=\"row\" id=\"all_quotes\">\n",
      "       <div class=\"col-6 col-lg-4 text-center margin-30px-bottom sm-margin-30px-top\">\n",
      "        <a href=\"/inspirational-quotes/8219-before-you-are-a-leader-success-is-all-about\">\n",
      "         <img alt=\"Before you are a leader, success is all about growing yourself. When you become a leader, success is all about growing others. #&lt;Author:0x000055b94ab6b620&gt;\" class=\"margin-10px-bottom shadow\" height=\"310\" src=\"https://assets.passiton.com/quotes/quote_artwork/8219/medium/202200603_friday_quote.jpg?1652396482\" width=\"310\"/>\n",
      "        </a>\n",
      "        <h5 class=\"value_on_red\">\n",
      "         <a href=\"/inspirational-quotes/8219-before-you-are-a-leader-success-is-all-about\">\n",
      "          LEADERSHIP\n",
      "         </a>\n",
      "        </h5>\n",
      "       </div>\n",
      "       <div class=\"col-6 col-lg-4 text-center margin-30px-bottom sm-margin-30px-top\">\n",
      "        <a href=\"/inspirational-quotes/7732-leadership-is-unlocking-peoples-potential-to\">\n",
      "         <img alt=\"Leadership is unlocking people's potential to become better. #&lt;Author:0x000055b94ab91028&gt;\" class=\"margin-10px-bottom shadow\" height=\"310\" src=\"https://assets.passiton.com/quotes/quote_artwork/7732/medium/202200602_thursday_quote.jpg?1652396464\" width=\"310\"/>\n",
      "        </a>\n",
      "        <h5 class=\"value_on_red\">\n",
      "         <a href=\"/inspirational-quotes/7732-leadership-is-unlocking-peoples-potential-to\">\n",
      "          LEADERSHIP\n",
      "         </a>\n",
      "        </h5>\n",
      "       </div>\n",
      "       <div class=\"col-6 col-lg-4 text-center margin-30px-bottom sm-margin-30px-top\">\n",
      "        <a href=\"/inspirational-quotes/8221-if-your-actions-create-a-legacy-that-inspires\">\n",
      "         <img alt=\"If your actions create a legacy that inspires others to dream more, learn more, do more and become more, then, you are an excellent leader. #&lt;Author:0x000055b94ac25570&gt;\" class=\"margin-10px-bottom shadow\" height=\"310\" src=\"https://assets.passiton.com/quotes/quote_artwork/8221/medium/202200601_wednesday_quote.jpg?1652396446\" width=\"310\"/>\n",
      "        </a>\n",
      "        <h5 class=\"value_on_red\">\n",
      "         <a href=\"/inspirational-quotes/8221-if-your-actions-create-a-legacy-that-inspires\">\n",
      "          LEADERSHIP\n",
      "         </a>\n",
      "        </h5>\n",
      "       </div>\n",
      "       <div class=\"col-6 col-lg-4 text-center margin-30px-bottom sm-margin-30px-top\">\n",
      "        <a href=\"/inspirational-quotes/7789-great-things-can-be-achieved-by-leading-through\">\n",
      "         <img alt=\"Great things can be achieved by leading through wisdom, empathy, and integrity—with no other agenda than humanity. #&lt;Author:0x000055b94ac94a60&gt;\" class=\"margin-10px-bottom shadow\" height=\"310\" src=\"https://assets.passiton.com/quotes/quote_artwork/7789/medium/20220531_tuesday_quote.jpg?1652396429\" width=\"310\"/>\n",
      "        </a>\n",
      "        <h5 class=\"value_on_red\">\n",
      "         <a href=\"/inspirational-quotes/7789-great-things-can-be-achieved-by-leading-through\">\n",
      "          LEADERSHIP\n",
      "         </a>\n",
      "        </h5>\n",
      "       </div>\n",
      "       <div class=\"col-6 col-lg-4 text-center margin-30px-bottom sm-margin-30px-top\">\n",
      "        <a href=\"/inspirational-quotes/6193-do-not-follow-where-the-path-may-lead-go\">\n",
      "         <img alt=\"Do not follow where the path may lead. Go instead where there is no path and leave a trail. #&lt;Author:0x000055b94ad1f408&gt;\" class=\"margin-10px-bottom shadow\" height=\"310\" src=\"https://assets.passiton.com/quotes/quote_artwork/6193/medium/20220530_monday_quote.jpg?1652396407\" width=\"310\"/>\n",
      "        </a>\n",
      "        <h5 class=\"value_on_red\">\n",
      "         <a href=\"/inspirational-quotes/6193-do-not-follow-where-the-path-may-lead-go\">\n",
      "          LEADERSHIP\n",
      "         </a>\n",
      "        </h5>\n",
      "       </div>\n",
      "       <div class=\"col-6 col-lg-4 text-center margin-30px-bottom sm-margin-30px-top\">\n",
      "        <a href=\"/inspirational-quotes/8330-i-would-rather-walk-with-a-friend-in-the-dark\">\n",
      "         <img alt=\"I would rather walk with a friend in the dark, than alone in the light. #&lt;Author:0x000055b94ad6ba60&gt;\" class=\"margin-10px-bottom shadow\" height=\"310\" src=\"https://assets.passiton.com/quotes/quote_artwork/8330/medium/20220527_friday_quote.jpg?1652392408\" width=\"310\"/>\n",
      "        </a>\n",
      "        <h5 class=\"value_on_red\">\n",
      "         <a href=\"/inspirational-quotes/8330-i-would-rather-walk-with-a-friend-in-the-dark\">\n",
      "          FRIENDSHIP\n",
      "         </a>\n",
      "        </h5>\n",
      "       </div>\n",
      "       <div class=\"col-6 col-lg-4 text-center margin-30px-bottom sm-margin-30px-top\">\n",
      "        <a href=\"/inspirational-quotes/8036-good-friends-are-like-stars-you-dont-always\">\n",
      "         <img alt=\"Good friends are like stars. You don't always see them, but you know they're always there. #&lt;Author:0x000055b94ad788f0&gt;\" class=\"margin-10px-bottom shadow\" height=\"310\" src=\"https://assets.passiton.com/quotes/quote_artwork/8036/medium/20220526_thursday_quote.jpg?1652392380\" width=\"310\"/>\n",
      "        </a>\n",
      "        <h5 class=\"value_on_red\">\n",
      "         <a href=\"/inspirational-quotes/8036-good-friends-are-like-stars-you-dont-always\">\n",
      "          FRIENDSHIP\n",
      "         </a>\n",
      "        </h5>\n",
      "       </div>\n",
      "       <div class=\"col-6 col-lg-4 text-center margin-30px-bottom sm-margin-30px-top\">\n",
      "        <a href=\"/inspirational-quotes/8331-try-to-be-a-rainbow-in-someones-cloud\">\n",
      "         <img alt=\"Try to be a rainbow in someone's cloud. #&lt;Author:0x000055b94ad880e8&gt;\" class=\"margin-10px-bottom shadow\" height=\"310\" src=\"https://assets.passiton.com/quotes/quote_artwork/8331/medium/20220525_wednesday_quote.jpg?1652392349\" width=\"310\"/>\n",
      "        </a>\n",
      "        <h5 class=\"value_on_red\">\n",
      "         <a href=\"/inspirational-quotes/8331-try-to-be-a-rainbow-in-someones-cloud\">\n",
      "          FRIENDSHIP\n",
      "         </a>\n",
      "        </h5>\n",
      "       </div>\n",
      "       <div class=\"col-6 col-lg-4 text-center margin-30px-bottom sm-margin-30px-top\">\n",
      "        <a href=\"/inspirational-quotes/7641-friends-are-medicine-for-a-wounded-heart-and\">\n",
      "         <img alt=\"Friends are medicine for a wounded heart and vitamins for a hopeful soul. #&lt;Author:0x000055b94ad9f270&gt;\" class=\"margin-10px-bottom shadow\" height=\"310\" src=\"https://assets.passiton.com/quotes/quote_artwork/7641/medium/20220524_tuesday_quote.jpg?1652392319\" width=\"310\"/>\n",
      "        </a>\n",
      "        <h5 class=\"value_on_red\">\n",
      "         <a href=\"/inspirational-quotes/7641-friends-are-medicine-for-a-wounded-heart-and\">\n",
      "          FRIENDSHIP\n",
      "         </a>\n",
      "        </h5>\n",
      "       </div>\n",
      "       <div class=\"col-6 col-lg-4 text-center margin-30px-bottom sm-margin-30px-top\">\n",
      "        <a href=\"/inspirational-quotes/8192-anything-is-possible-when-you-have-the-right\">\n",
      "         <img alt=\"Anything is possible when you have the right people there to support you. #&lt;Author:0x000055b94adb2398&gt;\" class=\"margin-10px-bottom shadow\" height=\"310\" src=\"https://assets.passiton.com/quotes/quote_artwork/8192/medium/20220523_monday_quote.jpg?1652392295\" width=\"310\"/>\n",
      "        </a>\n",
      "        <h5 class=\"value_on_red\">\n",
      "         <a href=\"/inspirational-quotes/8192-anything-is-possible-when-you-have-the-right\">\n",
      "          FRIENDSHIP\n",
      "         </a>\n",
      "        </h5>\n",
      "       </div>\n",
      "       <div class=\"col-6 col-lg-4 text-center margin-30px-bottom sm-margin-30px-top\">\n",
      "        <a href=\"/inspirational-quotes/4543-be-curious-not-judgmental\">\n",
      "         <img alt=\"Be curious, not judgmental.  #&lt;Author:0x000055b94ae016f0&gt;\" class=\"margin-10px-bottom shadow\" height=\"310\" src=\"https://assets.passiton.com/quotes/quote_artwork/4543/medium/20220520_friday_quote.jpg?1652390708\" width=\"310\"/>\n",
      "        </a>\n",
      "        <h5 class=\"value_on_red\">\n",
      "         <a href=\"/inspirational-quotes/4543-be-curious-not-judgmental\">\n",
      "          CURIOSITY\n",
      "         </a>\n",
      "        </h5>\n",
      "       </div>\n",
      "       <div class=\"col-6 col-lg-4 text-center margin-30px-bottom sm-margin-30px-top\">\n",
      "        <a href=\"/inspirational-quotes/6799-above-all-watch-with-glittering-eyes-the-whole\">\n",
      "         <img alt=\"Above all, watch with glittering eyes the whole world around you, because the greatest secrets are always hidden in the most unlikely places. #&lt;Author:0x000055b94ae31468&gt;\" class=\"margin-10px-bottom shadow\" height=\"310\" src=\"https://assets.passiton.com/quotes/quote_artwork/6799/medium/20220519_thursday_quote.jpg?1652390687\" width=\"310\"/>\n",
      "        </a>\n",
      "        <h5 class=\"value_on_red\">\n",
      "         <a href=\"/inspirational-quotes/6799-above-all-watch-with-glittering-eyes-the-whole\">\n",
      "          CURIOSITY\n",
      "         </a>\n",
      "        </h5>\n",
      "       </div>\n",
      "       <div class=\"col-6 col-lg-4 text-center margin-30px-bottom sm-margin-30px-top\">\n",
      "        <a href=\"/inspirational-quotes/8329-curiosity-is-more-important-than-knowledge\">\n",
      "         <img alt=\"Curiosity is more important than knowledge. #&lt;Author:0x000055b94ae4ea90&gt;\" class=\"margin-10px-bottom shadow\" height=\"310\" src=\"https://assets.passiton.com/quotes/quote_artwork/8329/medium/20220518_wednesday_quote.jpg?1652390654\" width=\"310\"/>\n",
      "        </a>\n",
      "        <h5 class=\"value_on_red\">\n",
      "         <a href=\"/inspirational-quotes/8329-curiosity-is-more-important-than-knowledge\">\n",
      "          CURIOSITY\n",
      "         </a>\n",
      "        </h5>\n",
      "       </div>\n",
      "       <div class=\"col-6 col-lg-4 text-center margin-30px-bottom sm-margin-30px-top\">\n",
      "        <a href=\"/inspirational-quotes/8328-i-think-at-a-childs-birth-if-a-mother-could\">\n",
      "         <img alt=\"I think, at a child's birth, if a mother could ask a fairy godmother to endow it with the most useful gift, that gift would be curiosity. #&lt;Author:0x000055b94ae665f0&gt;\" class=\"margin-10px-bottom shadow\" height=\"310\" src=\"https://assets.passiton.com/quotes/quote_artwork/8328/medium/20220517_tuesday_quote.jpg?1652390623\" width=\"310\"/>\n",
      "        </a>\n",
      "        <h5 class=\"value_on_red\">\n",
      "         <a href=\"/inspirational-quotes/8328-i-think-at-a-childs-birth-if-a-mother-could\">\n",
      "          CURIOSITY\n",
      "         </a>\n",
      "        </h5>\n",
      "       </div>\n",
      "       <div class=\"col-6 col-lg-4 text-center margin-30px-bottom sm-margin-30px-top\">\n",
      "        <a href=\"/inspirational-quotes/4014-somewhere-something-incredible-is-waiting-to\">\n",
      "         <img alt=\"Somewhere, something incredible is waiting to be known. #&lt;Author:0x000055b94ae83e98&gt;\" class=\"margin-10px-bottom shadow\" height=\"310\" src=\"https://assets.passiton.com/quotes/quote_artwork/4014/medium/20220516_monday_quote.jpg?1652390606\" width=\"310\"/>\n",
      "        </a>\n",
      "        <h5 class=\"value_on_red\">\n",
      "         <a href=\"/inspirational-quotes/4014-somewhere-something-incredible-is-waiting-to\">\n",
      "          CURIOSITY\n",
      "         </a>\n",
      "        </h5>\n",
      "       </div>\n",
      "       <div class=\"col-6 col-lg-4 text-center margin-30px-bottom sm-margin-30px-top\">\n",
      "        <a href=\"/inspirational-quotes/7826-the-world-needs-dreamers-and-the-world-needs\">\n",
      "         <img alt=\"The world needs dreamers and the world needs doers. But above all, the world needs dreamers who do. #&lt;Author:0x000055b94ae9b430&gt;\" class=\"margin-10px-bottom shadow\" height=\"310\" src=\"https://assets.passiton.com/quotes/quote_artwork/7826/medium/20220513_friday_quote.jpg?1651853654\" width=\"310\"/>\n",
      "        </a>\n",
      "        <h5 class=\"value_on_red\">\n",
      "         <a href=\"/inspirational-quotes/7826-the-world-needs-dreamers-and-the-world-needs\">\n",
      "          ENCOURAGEMENT\n",
      "         </a>\n",
      "        </h5>\n",
      "       </div>\n",
      "       <div class=\"col-6 col-lg-4 text-center margin-30px-bottom sm-margin-30px-top\">\n",
      "        <a href=\"/inspirational-quotes/7075-our-chief-want-is-someone-who-will-inspire-us\">\n",
      "         <img alt=\"Our chief want is someone who will inspire us to be what we know we could be. #&lt;Author:0x000055b94aeb0600&gt;\" class=\"margin-10px-bottom shadow\" height=\"310\" src=\"https://assets.passiton.com/quotes/quote_artwork/7075/medium/20220512_thursday_quote.jpg?1651853635\" width=\"310\"/>\n",
      "        </a>\n",
      "        <h5 class=\"value_on_red\">\n",
      "         <a href=\"/inspirational-quotes/7075-our-chief-want-is-someone-who-will-inspire-us\">\n",
      "          ENCOURAGEMENT\n",
      "         </a>\n",
      "        </h5>\n",
      "       </div>\n",
      "       <div class=\"col-6 col-lg-4 text-center margin-30px-bottom sm-margin-30px-top\">\n",
      "        <a href=\"/inspirational-quotes/5008-encouragement-is-oxygen-to-the-soul\">\n",
      "         <img alt=\"Encouragement is oxygen to the soul. #&lt;Author:0x000055b94aecc210&gt;\" class=\"margin-10px-bottom shadow\" height=\"310\" src=\"https://assets.passiton.com/quotes/quote_artwork/5008/medium/20220511_wednesday_quote.jpg?1651853616\" width=\"310\"/>\n",
      "        </a>\n",
      "        <h5 class=\"value_on_red\">\n",
      "         <a href=\"/inspirational-quotes/5008-encouragement-is-oxygen-to-the-soul\">\n",
      "          ENCOURAGEMENT\n",
      "         </a>\n",
      "        </h5>\n",
      "       </div>\n",
      "       <div class=\"col-6 col-lg-4 text-center margin-30px-bottom sm-margin-30px-top\">\n",
      "        <a href=\"/inspirational-quotes/3521-correction-does-much-but-encouragement-does-more\">\n",
      "         <img alt=\"Correction does much, but encouragement does more. #&lt;Author:0x000055b94aef1f38&gt;\" class=\"margin-10px-bottom shadow\" height=\"310\" src=\"https://assets.passiton.com/quotes/quote_artwork/3521/medium/20220510_tuesday_quote.jpg?1651853598\" width=\"310\"/>\n",
      "        </a>\n",
      "        <h5 class=\"value_on_red\">\n",
      "         <a href=\"/inspirational-quotes/3521-correction-does-much-but-encouragement-does-more\">\n",
      "          ENCOURAGEMENT\n",
      "         </a>\n",
      "        </h5>\n",
      "       </div>\n",
      "       <div class=\"col-6 col-lg-4 text-center margin-30px-bottom sm-margin-30px-top\">\n",
      "        <a href=\"/inspirational-quotes/3434-most-of-us-swimming-against-the-tides-of\">\n",
      "         <img alt=\"Most of us, swimming against the tides of trouble the world knows nothing about, need only a bit of praise or encouragement—and we will make the goal. #&lt;Author:0x000055b94af10d98&gt;\" class=\"margin-10px-bottom shadow\" height=\"310\" src=\"https://assets.passiton.com/quotes/quote_artwork/3434/medium/20220509_monday_quote.jpg?1651853509\" width=\"310\"/>\n",
      "        </a>\n",
      "        <h5 class=\"value_on_red\">\n",
      "         <a href=\"/inspirational-quotes/3434-most-of-us-swimming-against-the-tides-of\">\n",
      "          ENCOURAGEMENT\n",
      "         </a>\n",
      "        </h5>\n",
      "       </div>\n",
      "       <div class=\"col-6 col-lg-4 text-center margin-30px-bottom sm-margin-30px-top\">\n",
      "        <a href=\"/inspirational-quotes/8327-ive-been-absolutely-terrified-every-moment-of\">\n",
      "         <img alt=\"I've been absolutely terrified every moment of my life and I've never let it keep me from doing a single thing that I wanted to do. #&lt;Author:0x000055b94af38b90&gt;\" class=\"margin-10px-bottom shadow\" height=\"310\" src=\"https://assets.passiton.com/quotes/quote_artwork/8327/medium/20220506_friday_quote.jpg?1651176300\" width=\"310\"/>\n",
      "        </a>\n",
      "        <h5 class=\"value_on_red\">\n",
      "         <a href=\"/inspirational-quotes/8327-ive-been-absolutely-terrified-every-moment-of\">\n",
      "          SPREAD YOUR WINGS\n",
      "         </a>\n",
      "        </h5>\n",
      "       </div>\n",
      "       <div class=\"col-6 col-lg-4 text-center margin-30px-bottom sm-margin-30px-top\">\n",
      "        <a href=\"/inspirational-quotes/7884-embrace-uncertainty-some-of-the-most-beautiful\">\n",
      "         <img alt=\"Embrace uncertainty. Some of the most beautiful chapters in our lives won’t have a title until much later. #&lt;Author:0x000055b94af4fcc8&gt;\" class=\"margin-10px-bottom shadow\" height=\"310\" src=\"https://assets.passiton.com/quotes/quote_artwork/7884/medium/20220505_thursday_quote.jpg?1651176276\" width=\"310\"/>\n",
      "        </a>\n",
      "        <h5 class=\"value_on_red\">\n",
      "         <a href=\"/inspirational-quotes/7884-embrace-uncertainty-some-of-the-most-beautiful\">\n",
      "          SPREAD YOUR WINGS\n",
      "         </a>\n",
      "        </h5>\n",
      "       </div>\n",
      "       <div class=\"col-6 col-lg-4 text-center margin-30px-bottom sm-margin-30px-top\">\n",
      "        <a href=\"/inspirational-quotes/3586-a-mind-that-is-stretched-by-a-new-experience\">\n",
      "         <img alt=\"A mind that is stretched by a new experience can never go back to its old dimensions. #&lt;Author:0x000055b94af65a28&gt;\" class=\"margin-10px-bottom shadow\" height=\"310\" src=\"https://assets.passiton.com/quotes/quote_artwork/3586/medium/20220504_wednesday_quote.jpg?1651176241\" width=\"310\"/>\n",
      "        </a>\n",
      "        <h5 class=\"value_on_red\">\n",
      "         <a href=\"/inspirational-quotes/3586-a-mind-that-is-stretched-by-a-new-experience\">\n",
      "          SPREAD YOUR WINGS\n",
      "         </a>\n",
      "        </h5>\n",
      "       </div>\n",
      "       <div class=\"col-6 col-lg-4 text-center margin-30px-bottom sm-margin-30px-top\">\n",
      "        <a href=\"/inspirational-quotes/8326-and-then-there-is-the-most-dangerous-risk-of\">\n",
      "         <img alt=\"And then there is the most dangerous risk of all...the risk of spending your life not doing what you want on the bet you can buy yourself the freedom to do it later. #&lt;Author:0x000055b94af79b40&gt;\" class=\"margin-10px-bottom shadow\" height=\"310\" src=\"https://assets.passiton.com/quotes/quote_artwork/8326/medium/20220503_tuesday_quote.jpg?1651176218\" width=\"310\"/>\n",
      "        </a>\n",
      "        <h5 class=\"value_on_red\">\n",
      "         <a href=\"/inspirational-quotes/8326-and-then-there-is-the-most-dangerous-risk-of\">\n",
      "          SPREAD YOUR WINGS\n",
      "         </a>\n",
      "        </h5>\n",
      "       </div>\n",
      "       <div class=\"col-6 col-lg-4 text-center margin-30px-bottom sm-margin-30px-top\">\n",
      "        <a href=\"/inspirational-quotes/6720-no-one-can-really-predict-to-what-heights-you\">\n",
      "         <img alt=\"No one can really predict to what heights you might soar. Even you will not know until you spread your wings. #&lt;Author:0x000055b94af99d00&gt;\" class=\"margin-10px-bottom shadow\" height=\"310\" src=\"https://assets.passiton.com/quotes/quote_artwork/6720/medium/20220502_monday_quote.jpg?1651176192\" width=\"310\"/>\n",
      "        </a>\n",
      "        <h5 class=\"value_on_red\">\n",
      "         <a href=\"/inspirational-quotes/6720-no-one-can-really-predict-to-what-heights-you\">\n",
      "          SPREAD YOUR WINGS\n",
      "         </a>\n",
      "        </h5>\n",
      "       </div>\n",
      "       <div class=\"col-6 col-lg-4 text-center margin-30px-bottom sm-margin-30px-top\">\n",
      "        <a href=\"/inspirational-quotes/8325-smile-at-the-obstacle-for-it-is-a-bridge\">\n",
      "         <img alt=\"Smile at the obstacle, for it is a bridge. #&lt;Author:0x000055b94afb6c70&gt;\" class=\"margin-10px-bottom shadow\" height=\"310\" src=\"https://assets.passiton.com/quotes/quote_artwork/8325/medium/20220429_friday_quote.jpg?1650648519\" width=\"310\"/>\n",
      "        </a>\n",
      "        <h5 class=\"value_on_red\">\n",
      "         <a href=\"/inspirational-quotes/8325-smile-at-the-obstacle-for-it-is-a-bridge\">\n",
      "          SMILE\n",
      "         </a>\n",
      "        </h5>\n",
      "       </div>\n",
      "       <div class=\"col-6 col-lg-4 text-center margin-30px-bottom sm-margin-30px-top\">\n",
      "        <a href=\"/inspirational-quotes/7043-we-shall-never-know-all-the-good-that-a-simple\">\n",
      "         <img alt=\"We shall never know all the good that a simple smile can do. #&lt;Author:0x000055b94afd2498&gt;\" class=\"margin-10px-bottom shadow\" height=\"310\" src=\"https://assets.passiton.com/quotes/quote_artwork/7043/medium/20220428_thursday_quote.jpg?1650648496\" width=\"310\"/>\n",
      "        </a>\n",
      "        <h5 class=\"value_on_red\">\n",
      "         <a href=\"/inspirational-quotes/7043-we-shall-never-know-all-the-good-that-a-simple\">\n",
      "          SMILE\n",
      "         </a>\n",
      "        </h5>\n",
      "       </div>\n",
      "       <div class=\"col-6 col-lg-4 text-center margin-30px-bottom sm-margin-30px-top\">\n",
      "        <a href=\"/inspirational-quotes/7530-a-warm-smile-is-the-universal-language-of\">\n",
      "         <img alt=\"A warm smile is the universal language of kindness. #&lt;Author:0x000055b94afec6b8&gt;\" class=\"margin-10px-bottom shadow\" height=\"310\" src=\"https://assets.passiton.com/quotes/quote_artwork/7530/medium/20220427_wednesday_quote.jpg?1650648477\" width=\"310\"/>\n",
      "        </a>\n",
      "        <h5 class=\"value_on_red\">\n",
      "         <a href=\"/inspirational-quotes/7530-a-warm-smile-is-the-universal-language-of\">\n",
      "          SMILE\n",
      "         </a>\n",
      "        </h5>\n",
      "       </div>\n",
      "       <div class=\"col-6 col-lg-4 text-center margin-30px-bottom sm-margin-30px-top\">\n",
      "        <a href=\"/inspirational-quotes/7598-a-gentle-word-a-kind-look-a-good-natured\">\n",
      "         <img alt=\"A gentle word, a kind look, a good-natured smile can work wonders and accomplish miracles. #&lt;Author:0x000055b94b008408&gt;\" class=\"margin-10px-bottom shadow\" height=\"310\" src=\"https://assets.passiton.com/quotes/quote_artwork/7598/medium/20220426_tuesday_quote.jpg?1650648453\" width=\"310\"/>\n",
      "        </a>\n",
      "        <h5 class=\"value_on_red\">\n",
      "         <a href=\"/inspirational-quotes/7598-a-gentle-word-a-kind-look-a-good-natured\">\n",
      "          SMILE\n",
      "         </a>\n",
      "        </h5>\n",
      "       </div>\n",
      "       <div class=\"col-6 col-lg-4 text-center margin-30px-bottom sm-margin-30px-top\">\n",
      "        <a href=\"/inspirational-quotes/3549-if-it-wasnt-hard-everyone-would-do-it-its-the\">\n",
      "         <img alt=\"If it wasn't hard, everyone would do it. It's the hard that makes it great. #&lt;Author:0x00007fbd211ea380&gt;\" class=\"margin-10px-bottom shadow\" height=\"310\" src=\"https://assets.passiton.com/quotes/quote_artwork/3549/medium/20220422_friday_quote_updated.jpg?1650641875\" width=\"310\"/>\n",
      "        </a>\n",
      "        <h5 class=\"value_on_red\">\n",
      "         <a href=\"/inspirational-quotes/3549-if-it-wasnt-hard-everyone-would-do-it-its-the\">\n",
      "          HARD WORK\n",
      "         </a>\n",
      "        </h5>\n",
      "       </div>\n",
      "       <div class=\"col-6 col-lg-4 text-center margin-30px-bottom sm-margin-30px-top\">\n",
      "        <a href=\"/inspirational-quotes/6141-the-highest-reward-for-mans-toil-is-not-what-he\">\n",
      "         <img alt=\"The highest reward for man's toil is not what he gets for it, but what he becomes by it. #&lt;Author:0x00007fbd214b7ea0&gt;\" class=\"margin-10px-bottom shadow\" height=\"310\" src=\"https://assets.passiton.com/quotes/quote_artwork/6141/medium/20220421_thursday_quote.jpg?1650051980\" width=\"310\"/>\n",
      "        </a>\n",
      "        <h5 class=\"value_on_red\">\n",
      "         <a href=\"/inspirational-quotes/6141-the-highest-reward-for-mans-toil-is-not-what-he\">\n",
      "          HARD WORK\n",
      "         </a>\n",
      "        </h5>\n",
      "       </div>\n",
      "       <div class=\"col-6 col-lg-4 text-center margin-30px-bottom sm-margin-30px-top\">\n",
      "        <a href=\"/inspirational-quotes/7893-success-isnt-always-about-greatness-its-about\">\n",
      "         <img alt=\"Success isn't always about greatness. It's about consistency. Consistent hard work leads to success. Greatness will come. #&lt;Author:0x00007fbd214d95f0&gt;\" class=\"margin-10px-bottom shadow\" height=\"310\" src=\"https://assets.passiton.com/quotes/quote_artwork/7893/medium/20220420_wednesday_quote.jpg?1650051954\" width=\"310\"/>\n",
      "        </a>\n",
      "        <h5 class=\"value_on_red\">\n",
      "         <a href=\"/inspirational-quotes/7893-success-isnt-always-about-greatness-its-about\">\n",
      "          HARD WORK\n",
      "         </a>\n",
      "        </h5>\n",
      "       </div>\n",
      "      </div>\n",
      "     </div>\n",
      "     <div class=\"col-4 d-flex flex-column text-center\">\n",
      "      <div class=\"row\" id=\"all_quotes\">\n",
      "       <span class=\"text-white text-left alt-font font-weight-400 letter-spacing-1 margin-20px-bottom\" style=\"font-size:  20px;\">\n",
      "        We publish our quotes and other inspirational stories on Facebook. Please 'like' our page to get daily inspiration.\n",
      "       </span>\n",
      "       <div class=\"fb-page\" data-adapt-container-width=\"true\" data-height=\"3000\" data-hide-cover=\"false\" data-href=\"https://www.facebook.com/valuescom\" data-show-facepile=\"true\" data-small-header=\"true\" data-tabs=\"timeline\" data-width=\"\">\n",
      "        <blockquote cite=\"https://www.facebook.com/valuescom\" class=\"fb-xfbml-parse-ignore\">\n",
      "         <a href=\"https://www.facebook.com/valuescom\">\n",
      "          Foundation for A Better Life\n",
      "         </a>\n",
      "        </blockquote>\n",
      "       </div>\n",
      "      </div>\n",
      "     </div>\n",
      "    </div>\n",
      "    <div class=\"row\">\n",
      "     <div class=\"col-12 text-center\">\n",
      "      <div class=\"quotes_pagination\">\n",
      "       <span class=\"previous_page disabled\">\n",
      "        ← Previous\n",
      "       </span>\n",
      "       <em class=\"current\">\n",
      "        1\n",
      "       </em>\n",
      "       <a href=\"/inspirational-quotes?page=2\" rel=\"next\">\n",
      "        2\n",
      "       </a>\n",
      "       <a href=\"/inspirational-quotes?page=3\">\n",
      "        3\n",
      "       </a>\n",
      "       <a href=\"/inspirational-quotes?page=4\">\n",
      "        4\n",
      "       </a>\n",
      "       <a href=\"/inspirational-quotes?page=5\">\n",
      "        5\n",
      "       </a>\n",
      "       <a href=\"/inspirational-quotes?page=6\">\n",
      "        6\n",
      "       </a>\n",
      "       <a href=\"/inspirational-quotes?page=7\">\n",
      "        7\n",
      "       </a>\n",
      "       <a href=\"/inspirational-quotes?page=8\">\n",
      "        8\n",
      "       </a>\n",
      "       <a href=\"/inspirational-quotes?page=9\">\n",
      "        9\n",
      "       </a>\n",
      "       <span class=\"gap\">\n",
      "        …\n",
      "       </span>\n",
      "       <a href=\"/inspirational-quotes?page=123\">\n",
      "        123\n",
      "       </a>\n",
      "       <a href=\"/inspirational-quotes?page=124\">\n",
      "        124\n",
      "       </a>\n",
      "       <a class=\"next_page\" href=\"/inspirational-quotes?page=2\" rel=\"next\">\n",
      "        Next →\n",
      "       </a>\n",
      "      </div>\n",
      "     </div>\n",
      "    </div>\n",
      "   </div>\n",
      "  </section>\n",
      "  <footer class=\"footer-classic-dark bg-extra-dark-gray padding-five-bottom sm-padding-30px-bottom\">\n",
      "   <div class=\"bg-dark-footer padding-50px-tb sm-padding-30px-tb\">\n",
      "    <div class=\"container\">\n",
      "     <div class=\"row align-items-center\">\n",
      "      <div class=\"col-lg-4 col-md-4 sm-text-center lg-text-left alt-font sm-margin-15px-bottom\">\n",
      "       <a href=\"/\">\n",
      "        <img alt=\"PassItOn.com The Foundation for a Better Life\" class=\"footer_logo\" data-rjs=\"/assets/site/passiton_fbl_logo-17c0ab162b56f1251713b3401d313c8d.png\" src=\"/assets/site/passiton_fbl_logo-17c0ab162b56f1251713b3401d313c8d.png\" style=\"max-width: 200px;\"/>\n",
      "       </a>\n",
      "      </div>\n",
      "      <div class=\"col-lg-4 col-md-4 text-center sm-margin-10px-bottom\">\n",
      "      </div>\n",
      "      <div class=\"col-lg-4 col-md-4 text-center\">\n",
      "       <span class=\"alt-font margin-20px-right\">\n",
      "        Follow us on social\n",
      "       </span>\n",
      "       <div class=\"social-icon-style-8 d-inline-block vertical-align-middle\">\n",
      "        <ul class=\"small-icon mb-0\">\n",
      "         <li>\n",
      "          <a class=\"facebook text-white-2\" href=\"https://www.facebook.com/valuescom\" target=\"_blank\">\n",
      "           <i aria-hidden=\"true\" class=\"fab fa-facebook-f\">\n",
      "           </i>\n",
      "          </a>\n",
      "         </li>\n",
      "         <li>\n",
      "          <a class=\"twitter text-white-2\" href=\"https://twitter.com/passiton_values\" target=\"_blank\">\n",
      "           <i class=\"fab fa-twitter\">\n",
      "           </i>\n",
      "          </a>\n",
      "         </li>\n",
      "         <li>\n",
      "          <a class=\"instagram text-white-2\" href=\"https://www.instagram.com/passiton_values/\" target=\"_blank\">\n",
      "           <i aria-hidden=\"true\" class=\"fab fa-instagram no-margin-right\">\n",
      "           </i>\n",
      "          </a>\n",
      "         </li>\n",
      "         <li>\n",
      "          <a class=\"pinterest text-white-2\" href=\"https://www.pinterest.com/passiton_values/\" target=\"_blank\">\n",
      "           <i aria-hidden=\"true\" class=\"fab fa-pinterest no-margin-right\">\n",
      "           </i>\n",
      "          </a>\n",
      "         </li>\n",
      "         <li>\n",
      "          <a class=\"youtube text-white-2\" href=\"https://www.youtube.com/c/passiton_values\" target=\"_blank\">\n",
      "           <i aria-hidden=\"true\" class=\"fab fa-youtube no-margin-right\">\n",
      "           </i>\n",
      "          </a>\n",
      "         </li>\n",
      "        </ul>\n",
      "       </div>\n",
      "      </div>\n",
      "     </div>\n",
      "    </div>\n",
      "   </div>\n",
      "   <div class=\"footer-widget-area padding-five-top padding-30px-bottom sm-padding-30px-top\">\n",
      "    <div class=\"container\">\n",
      "     <div class=\"row\">\n",
      "      <div class=\"col-lg-3 col-md-6 widget border-right border-color-medium-dark-gray padding-45px-left md-padding-15px-left md-no-border-right md-margin-30px-bottom text-center text-md-left\">\n",
      "       <div class=\"widget-title alt-font text-small text-medium-gray text-uppercase margin-10px-bottom font-weight-600\">\n",
      "        About Us\n",
      "       </div>\n",
      "       <ul class=\"list-unstyled\">\n",
      "        <li>\n",
      "         <a class=\"text-small\" href=\"/who-we-are\">\n",
      "          About The Foundation for a Better Life\n",
      "         </a>\n",
      "        </li>\n",
      "        <li>\n",
      "         <a class=\"text-small\" href=\"/faqs\">\n",
      "          FAQs\n",
      "         </a>\n",
      "        </li>\n",
      "        <li>\n",
      "         <a class=\"text-small\" href=\"/foundation-recognition\">\n",
      "          Foundation Recognition\n",
      "         </a>\n",
      "        </li>\n",
      "        <li>\n",
      "         <a class=\"text-small\" href=\"/contact-us\">\n",
      "          Contact Us\n",
      "         </a>\n",
      "        </li>\n",
      "       </ul>\n",
      "      </div>\n",
      "      <div class=\"col-lg-3 col-md-6 widget border-right border-color-medium-dark-gray padding-45px-left md-padding-15px-left md-no-border-right md-margin-30px-bottom text-center text-md-left\">\n",
      "       <div class=\"widget-title alt-font text-small text-medium-gray text-uppercase margin-10px-bottom font-weight-600\">\n",
      "        Be Inspired\n",
      "       </div>\n",
      "       <ul class=\"list-unstyled\">\n",
      "        <li>\n",
      "         <a class=\"text-small\" href=\"/teaching-values\">\n",
      "          Teaching Values\n",
      "         </a>\n",
      "        </li>\n",
      "        <li>\n",
      "         <a class=\"text-small\" href=\"/inspirational-quotes\">\n",
      "          Inspirational Quotations\n",
      "         </a>\n",
      "        </li>\n",
      "        <li>\n",
      "         <a class=\"text-small\" href=\"/inspirational-stories-tv-spots\">\n",
      "          Pass It On® Videos\n",
      "         </a>\n",
      "        </li>\n",
      "        <li>\n",
      "         <a class=\"text-small\" href=\"/positive-good-news-columns\">\n",
      "          Free Newspaper Stories\n",
      "         </a>\n",
      "        </li>\n",
      "        <li>\n",
      "         <a class=\"text-small\" href=\"/your-everyday-heroes\">\n",
      "          Who's Your Hero Stories\n",
      "         </a>\n",
      "        </li>\n",
      "        <li>\n",
      "         <a class=\"text-small\" href=\"/inspirational-sayings-billboards\">\n",
      "          Official Billboard Campaign\n",
      "         </a>\n",
      "        </li>\n",
      "        <li>\n",
      "         <a class=\"text-small\" href=\"/your-billboards\">\n",
      "          Create Your Own Billboard\n",
      "         </a>\n",
      "        </li>\n",
      "        <li>\n",
      "         <a class=\"text-small\" href=\"/radio\">\n",
      "          Radio Ads\n",
      "         </a>\n",
      "        </li>\n",
      "        <li>\n",
      "         <a class=\"text-small\" href=\"/passiton-blog\">\n",
      "          Pass It On® Blog\n",
      "         </a>\n",
      "        </li>\n",
      "        <li>\n",
      "         <a class=\"text-small\" href=\"/inspirational-audio-stories\">\n",
      "          Podcasts\n",
      "         </a>\n",
      "        </li>\n",
      "        <li>\n",
      "         <a class=\"text-small\" href=\"/pass-it-on-ecards\">\n",
      "          Send an Ecard\n",
      "         </a>\n",
      "        </li>\n",
      "       </ul>\n",
      "      </div>\n",
      "      <div class=\"col-lg-3 col-md-6 widget border-right border-color-medium-dark-gray padding-45px-left md-padding-15px-left md-no-border-right md-margin-30px-bottom text-center text-md-left\">\n",
      "       <div class=\"widget-title alt-font text-small text-medium-gray text-uppercase margin-10px-bottom font-weight-600\">\n",
      "        For Schools\n",
      "       </div>\n",
      "       <ul class=\"list-unstyled\">\n",
      "        <li>\n",
      "         <a class=\"text-small\" href=\"/poster-requests/new\">\n",
      "          Free Posters &amp; DVD for Schools\n",
      "         </a>\n",
      "        </li>\n",
      "        <li>\n",
      "         <a class=\"text-small\" href=\"/pass-it-on-downloads\">\n",
      "          Downloads\n",
      "         </a>\n",
      "        </li>\n",
      "       </ul>\n",
      "      </div>\n",
      "      <div class=\"col-lg-3 col-md-6 widget padding-45px-left md-padding-15px-left md-no-border-right md-margin-30px-bottom text-center text-md-left\">\n",
      "       <div class=\"widget-title alt-font text-small text-medium-gray text-uppercase margin-10px-bottom font-weight-600\">\n",
      "        For Media Companies\n",
      "       </div>\n",
      "       <ul class=\"list-unstyled\">\n",
      "        <li>\n",
      "         <a class=\"text-small\" href=\"/for-media-companies\">\n",
      "          For Media Companies\n",
      "         </a>\n",
      "        </li>\n",
      "        <li>\n",
      "         <a class=\"text-small\" href=\"https://www.passiton-media.com\">\n",
      "          Broadcast Quality PSA Downloads\n",
      "         </a>\n",
      "        </li>\n",
      "        <li>\n",
      "         <a class=\"text-small\" href=\"https://www.passiton-media.com\">\n",
      "          Pass It On Radio Ads\n",
      "         </a>\n",
      "        </li>\n",
      "        <li>\n",
      "         <a class=\"text-small\" href=\"https://www.passiton-media.com\">\n",
      "          Live Reads\n",
      "         </a>\n",
      "        </li>\n",
      "        <li>\n",
      "         <a class=\"text-small\" href=\"https://www.passiton-media.com\">\n",
      "          Out of Home Materials\n",
      "         </a>\n",
      "        </li>\n",
      "       </ul>\n",
      "       <div class=\"row sm-margin-30px-top\">\n",
      "        <div class=\"col-lg-4\">\n",
      "         <a href=\"/\">\n",
      "          <img alt=\"Values logo\" src=\"/assets/site/values_logo-cd29ec5f2f086673ac42962263d07e02.png\" style=\"max-width: 70px;\"/>\n",
      "         </a>\n",
      "        </div>\n",
      "        <div class=\"col-lg-7\">\n",
      "         <p class=\"text-medium-gray text-small padding-10px-top\">\n",
      "          VALUES.COM\n",
      "          <small>\n",
      "           ®\n",
      "          </small>\n",
      "          is now PassItOn.com\n",
      "          <small>\n",
      "           ®\n",
      "          </small>\n",
      "         </p>\n",
      "        </div>\n",
      "       </div>\n",
      "      </div>\n",
      "     </div>\n",
      "    </div>\n",
      "   </div>\n",
      "   <div class=\"container\">\n",
      "    <div class=\"footer-bottom border-top border-color-medium-dark-gray padding-30px-top\">\n",
      "     <div class=\"row\">\n",
      "      <div class=\"col-lg-6 col-md-6 text-small text-md-left text-center\">\n",
      "       ©1999-2022 The Foundation for a Better Life.\n",
      "      </div>\n",
      "      <div class=\"col-lg-6 col-md-6 text-small text-md-right text-center\">\n",
      "       <a href=\"/privacy-policy\">\n",
      "        Privacy Policy\n",
      "       </a>\n",
      "       |\n",
      "       <a href=\"/terms-of-use\">\n",
      "        Terms of Use\n",
      "       </a>\n",
      "      </div>\n",
      "     </div>\n",
      "    </div>\n",
      "   </div>\n",
      "  </footer>\n",
      "  <a class=\"scroll-top-arrow\" href=\"javascript:void(0);\">\n",
      "   <i class=\"ti-arrow-up\">\n",
      "   </i>\n",
      "  </a>\n",
      "  <script src=\"https://cdnjs.cloudflare.com/ajax/libs/jquery/1.12.4/jquery.js\">\n",
      "  </script>\n",
      "  <script crossorigin=\"anonymous\" integrity=\"sha384-UO2eT0CpHqdSJQ6hJty5KVphtPhzWj9WO1clHTMGa3JDZwrnQq4sF86dIHNDz0W1\" src=\"https://cdnjs.cloudflare.com/ajax/libs/popper.js/1.14.7/umd/popper.min.js\">\n",
      "  </script>\n",
      "  <script crossorigin=\"anonymous\" integrity=\"sha384-JjSmVgyd0p3pXB1rRibZUAYoIIy6OrQ6VrjIEaFf/nJGzIxFDsf4x0xIM+B07jRM\" src=\"https://stackpath.bootstrapcdn.com/bootstrap/4.3.1/js/bootstrap.min.js\">\n",
      "  </script>\n",
      "  <script src=\"/assets/pofo-a4dbe385403061795895066fbc319fa2.js\">\n",
      "  </script>\n",
      "  <div class=\"zoom-anim-dialog mfp-hide col-xl-6 col-lg-6 col-md-7 col-11 mx-auto bg-white text-center modal-popup-main padding-50px-all\" id=\"please_like_us_on_facebook\">\n",
      "   <span class=\"text-extra-dark-gray text-uppercase alt-font text-extra-large font-weight-600 margin-15px-bottom d-block\">\n",
      "    LIKE US ON FACEBOOK FOR A DAILY DOSE OF POSITIVITY\n",
      "   </span>\n",
      "   <iframe allow=\"autoplay; clipboard-write; encrypted-media; picture-in-picture; web-share\" allowfullscreen=\"true\" frameborder=\"0\" height=\"45\" scrolling=\"no\" src=\"https://www.facebook.com/plugins/like.php?href=https%3A%2F%2Fwww.facebook.com%2Fvaluescom&amp;width=450&amp;layout=standard&amp;action=like&amp;size=large&amp;share=true&amp;height=45&amp;appId\" style=\"border:none;overflow:hidden;font-size:1.4rem;\" width=\"450\">\n",
      "   </iframe>\n",
      "   <p class=\"padding-20px-all font-weight-600\">\n",
      "    Click the like button above to access our facebook page, then ‘like us’ to get a dose of positivity in your feed.\n",
      "   </p>\n",
      "   <a class=\"text-small alt-font popup-modal-dismiss text-decoration-underline\" href=\"#\">\n",
      "    No thanks\n",
      "   </a>\n",
      "  </div>\n",
      " </body>\n",
      "</html>\n"
     ]
    }
   ],
   "source": [
    "import requests\n",
    "from bs4 import BeautifulSoup\n",
    "URL =\"http://www.values.com/inspirational-quotes\"\n",
    "r = requests.get(URL)\n",
    "soup = BeautifulSoup(r.content, 'html5lib')\n",
    "# If this line causes an error, run 'pip install html5lib' or install html5lib\n",
    "print(soup.prettify())"
   ]
  },
  {
   "cell_type": "code",
   "execution_count": null,
   "id": "92ce7c75-b5c0-4cda-aa6b-1d6ecc087fb2",
   "metadata": {},
   "outputs": [],
   "source": []
  }
 ],
 "metadata": {
  "kernelspec": {
   "display_name": "Python 3 (ipykernel)",
   "language": "python",
   "name": "python3"
  },
  "language_info": {
   "codemirror_mode": {
    "name": "ipython",
    "version": 3
   },
   "file_extension": ".py",
   "mimetype": "text/x-python",
   "name": "python",
   "nbconvert_exporter": "python",
   "pygments_lexer": "ipython3",
   "version": "3.9.12"
  }
 },
 "nbformat": 4,
 "nbformat_minor": 5
}
