{
 "cells": [
  {
   "cell_type": "markdown",
   "id": "d6d2aaae-f332-4531-ac9b-f0931f6df9cd",
   "metadata": {},
   "source": [
    "Practice Hacker Rank:"
   ]
  },
  {
   "cell_type": "markdown",
   "id": "8e6a7e15-8b04-4013-a3df-1806adddf2a6",
   "metadata": {},
   "source": [
    "--Bubble Sort-- Find SumMax and Sum Min"
   ]
  },
  {
   "cell_type": "code",
   "execution_count": 4,
   "id": "877e4ba2-702d-4e98-b9e9-fc85759fef90",
   "metadata": {},
   "outputs": [
    {
     "name": "stdout",
     "output_type": "stream",
     "text": [
      "1\n",
      "3\n",
      "6\n",
      "10\n",
      "10 14\n"
     ]
    }
   ],
   "source": [
    "arr=[1,2,3,4,5]\n",
    "# bubble sort\n",
    "n=len(arr)\n",
    "for i in range(n):\n",
    "    already_sorted = True\n",
    "    for j in range(0,n-i-1):\n",
    "        if arr[j]>arr[j+1]:\n",
    "            arr[j], arr[j+1]=arr[j+1], arr[j]\n",
    "            already_sorted = False\n",
    "    if already_sorted:\n",
    "        break\n",
    "#sum first 4 and last 4 elements\n",
    "sumMin=0 \n",
    "sumMax=0\n",
    "for x in range(4):\n",
    "    sumMin+=arr[x]\n",
    "    print(sumMin)\n",
    "for x in range(4):\n",
    "    sumMax+=arr[-x-1]\n",
    "print(sumMin,sumMax)"
   ]
  },
  {
   "cell_type": "markdown",
   "id": "e3952454-ee51-46c2-bf33-400848747614",
   "metadata": {},
   "source": [
    "--Format to miltary time--"
   ]
  },
  {
   "cell_type": "code",
   "execution_count": 7,
   "id": "eee0eb32-0be6-42b6-8dc5-184c0820ce7e",
   "metadata": {},
   "outputs": [
    {
     "data": {
      "text/plain": [
       "'23:59:59'"
      ]
     },
     "execution_count": 7,
     "metadata": {},
     "output_type": "execute_result"
    }
   ],
   "source": [
    "s='11:59:59PM'\n",
    "if s[8]=='A' and s[0]=='1':\n",
    "    r= 12-int(s[0:2])\n",
    "    r=\"{:02d}\".format(r)\n",
    "    ns=str(r)\n",
    "    ns=ns+s[2:-2]\n",
    "elif s[8]=='A':\n",
    "    r= int(s[0:2])\n",
    "    r=\"{:02d}\".format(r)\n",
    "    ns=str(r)\n",
    "    ns=ns+s[2:-2]\n",
    "elif s[8]=='P' and s[0:2]=='12':\n",
    "    r= int(s[0:2])\n",
    "    r=\"{:02d}\".format(r)\n",
    "    ns=str(r)\n",
    "    ns=ns+s[2:-2]\n",
    "else:\n",
    "    r= 12+int(s[0:2])\n",
    "    r=\"{:02d}\".format(r)\n",
    "    ns=str(r)\n",
    "    ns=ns+s[2:-2]\n",
    "ns\n"
   ]
  },
  {
   "cell_type": "markdown",
   "id": "c9fefb0b-02c4-428e-abef-94fa0015e5fe",
   "metadata": {},
   "source": [
    "lonelyinteger"
   ]
  },
  {
   "cell_type": "code",
   "execution_count": 10,
   "id": "69b1d35d-0d6d-4a81-87a4-373dfb9ea20d",
   "metadata": {},
   "outputs": [],
   "source": [
    "a=[1,1,2,2,3,4,5]"
   ]
  },
  {
   "cell_type": "code",
   "execution_count": 11,
   "id": "bad6781c-7024-482c-89c0-d9613d511266",
   "metadata": {},
   "outputs": [
    {
     "name": "stdout",
     "output_type": "stream",
     "text": [
      "1\n",
      "1\n",
      "1\n",
      "1\n",
      "1\n",
      "2\n",
      "1\n",
      "2\n",
      "1\n",
      "3\n",
      "1\n",
      "4\n",
      "1\n",
      "5\n",
      "1\n",
      "1\n",
      "1\n",
      "1\n",
      "1\n",
      "2\n",
      "1\n",
      "2\n",
      "1\n",
      "3\n",
      "1\n",
      "4\n",
      "1\n",
      "5\n",
      "2\n",
      "1\n",
      "2\n",
      "1\n",
      "2\n",
      "2\n",
      "2\n",
      "2\n",
      "2\n",
      "3\n",
      "2\n",
      "4\n",
      "2\n",
      "5\n",
      "2\n",
      "1\n",
      "2\n",
      "1\n",
      "2\n",
      "2\n",
      "2\n",
      "2\n",
      "2\n",
      "3\n",
      "2\n",
      "4\n",
      "2\n",
      "5\n",
      "3\n",
      "1\n",
      "3\n",
      "1\n",
      "3\n",
      "2\n",
      "3\n",
      "2\n",
      "3\n",
      "3\n",
      "3\n",
      "4\n",
      "3\n",
      "5\n",
      "4\n",
      "1\n",
      "4\n",
      "1\n",
      "4\n",
      "2\n",
      "4\n",
      "2\n",
      "4\n",
      "3\n",
      "4\n",
      "4\n",
      "4\n",
      "5\n",
      "5\n",
      "1\n",
      "5\n",
      "1\n",
      "5\n",
      "2\n",
      "5\n",
      "2\n",
      "5\n",
      "3\n",
      "5\n",
      "4\n",
      "5\n",
      "5\n"
     ]
    }
   ],
   "source": [
    "\n",
    "for x in a:\n",
    "    for y in a:\n",
    "        if x\n",
    "            "
   ]
  },
  {
   "cell_type": "code",
   "execution_count": null,
   "id": "51ad6c27-62f2-4b74-b11b-079cc54ce770",
   "metadata": {},
   "outputs": [],
   "source": []
  }
 ],
 "metadata": {
  "kernelspec": {
   "display_name": "Python 3 (ipykernel)",
   "language": "python",
   "name": "python3"
  },
  "language_info": {
   "codemirror_mode": {
    "name": "ipython",
    "version": 3
   },
   "file_extension": ".py",
   "mimetype": "text/x-python",
   "name": "python",
   "nbconvert_exporter": "python",
   "pygments_lexer": "ipython3",
   "version": "3.9.12"
  }
 },
 "nbformat": 4,
 "nbformat_minor": 5
}
