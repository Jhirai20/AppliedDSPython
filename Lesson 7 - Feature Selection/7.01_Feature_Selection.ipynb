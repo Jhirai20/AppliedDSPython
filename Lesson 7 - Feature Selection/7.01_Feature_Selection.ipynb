{
 "cells": [
  {
   "cell_type": "markdown",
   "metadata": {
    "id": "kSFSfQrhpBIy"
   },
   "source": [
    "# **Feature Selection**"
   ]
  },
  {
   "cell_type": "markdown",
   "metadata": {
    "id": "HFCTwQXWpFVD"
   },
   "source": [
    "## **Agenda**"
   ]
  },
  {
   "cell_type": "markdown",
   "metadata": {
    "id": "KGUyaIQPpNGI"
   },
   "source": [
    "In this lesson, we will cover the following concepts with the help of a business use case:\n",
    "* Feature Selection\n",
    "* Dimensionality Reduction:\n",
    "  * Dimensionality Reduction Techniques\n",
    "  * Pros and Cons of Dimensionality Reduction\n",
    "* Prominent Methods Used for Feature Selection:\n",
    "    * Factor Analysis\n",
    "    * Principal Component Analysis\n",
    "    * LDA\n",
    "    "
   ]
  },
  {
   "cell_type": "markdown",
   "metadata": {
    "id": "xmob5c_rLq7j"
   },
   "source": [
    "## **What Is Feature Selection?**"
   ]
  },
  {
   "cell_type": "markdown",
   "metadata": {
    "id": "VA2XJ5h1Lynm"
   },
   "source": [
    "Feature selection is a method that helps in the inclusion of the significant variables that<br> help form a model with good predictive power. \n",
    "\n",
    "Features or variables that are redundant or irrelevant can negatively impact the<br> performance of the model, thus it becomes necessary to remove them."
   ]
  },
  {
   "cell_type": "markdown",
   "metadata": {
    "id": "3Sr_qFfvbP2y"
   },
   "source": [
    "### **Benefits of Feature Selection**"
   ]
  },
  {
   "cell_type": "markdown",
   "metadata": {
    "id": "4_0Mn4FKdRsm"
   },
   "source": [
    "* It reduces overfitting as the unwanted variables are removed, and the focus is on the significant variables.\n",
    "\n",
    "* It removes irrelevant information, which helps to improve the accuracy of the model’s predictions.\n",
    "\n",
    "* It reduces the computation time involved to get the model's predictions."
   ]
  },
  {
   "cell_type": "markdown",
   "metadata": {
    "id": "wrWVaY81T5Sc"
   },
   "source": [
    "## **Dimensionality Reduction**\n",
    "\n",
    "Dimensionality reduction is the method of transforming a collection of data having large dimensions into data of smaller dimensions while ensuring that identical information is conveyed concisely.\n",
    "\n",
    "### **Dimensionality Reduction Techniques**\n",
    "\n",
    "Some of the techniques used for dimensionality reduction are:\n",
    "\n",
    "1. Imputing missing values\n",
    "2. Dropping low-variance variables\n",
    "3. Decision trees (DT)\n",
    "4. Random forest (RF)\n",
    "5. Reducing highly correlated variables\n",
    "6. Backward feature elimination\n",
    "7. Factor analysis\n",
    "8. Principal component analysis (PCA)\n",
    "\n",
    "\n",
    "### **Pros of Dimensionality Reduction**\n",
    "\n",
    "- It helps to compress data, reducing the storage space needed.\n",
    "- It cuts down on computing time.\n",
    "- It also aids in the removal of redundant features.\n",
    "\n",
    "### **Cons of Dimensionality Reduction**\n",
    "\n",
    "- Some data may will be lost as a result.\n",
    "- PCA tends to find linear relationships between variables, which is not always ideal.\n",
    "- When mean and covariance are insufficient to describe datasets, PCA fails.\n",
    "- We use certain thumb rules when we do not know how many principal components to keep in practice."
   ]
  },
  {
   "cell_type": "markdown",
   "metadata": {
    "id": "VxAtmkqzsY9-"
   },
   "source": [
    "## **Gist of Factor Analysis**"
   ]
  },
  {
   "cell_type": "markdown",
   "metadata": {
    "id": "omeHf4JJsazA"
   },
   "source": [
    "* Factor analysis is used to:\n",
    "  * Explain variance among the observed variables\n",
    "  * Condense the set of observed variables into the factors \n",
    "\n",
    "  ![FA](https://labcontent.simplicdn.net/data-content/content-assets/Data_and_AI/Applied_Machine_Learning/Images/0.6_Feature_Selection/Trainer_PPT_and_IPYNB/FA.JPG)\n",
    "\n",
    "* Factor explains the amount of variance in the observed variables.\n",
    "\n",
    "* In other words, factor analysis is a method that investigates linear relation of a number of variables of interest V1, V2,……., Vl, with a smaller number of unobservable factors F1, F2,..……, Fk.\n",
    "<br><br>\n",
    "  ![FA1](https://labcontent.simplicdn.net/data-content/content-assets/Data_and_AI/Applied_Machine_Learning/Images/0.6_Feature_Selection/Trainer_PPT_and_IPYNB/FA1.JPG)\n",
    "\n",
    "\n"
   ]
  },
  {
   "cell_type": "markdown",
   "metadata": {
    "id": "PY30SMvIuOaU"
   },
   "source": [
    "### **Types of FA**"
   ]
  },
  {
   "cell_type": "markdown",
   "metadata": {
    "id": "WzP9afLCuQ0r"
   },
   "source": [
    "![FA2](https://labcontent.simplicdn.net/data-content/content-assets/Data_and_AI/Applied_Machine_Learning/Images/0.6_Feature_Selection/Trainer_PPT_and_IPYNB/FA2.JPG)"
   ]
  },
  {
   "cell_type": "markdown",
   "metadata": {
    "id": "neVrajUnu-Gk"
   },
   "source": [
    "### **Work Process of FA**"
   ]
  },
  {
   "cell_type": "markdown",
   "metadata": {
    "id": "cHgsVtDWyJIw"
   },
   "source": [
    "The objective of the factor analysis is the reduction of the number of observed variables and find the unobservable variables. \n",
    "\n",
    "It is a two-step process.\n",
    "\n",
    "![FA3](https://labcontent.simplicdn.net/data-content/content-assets/Data_and_AI/Applied_Machine_Learning/Images/0.6_Feature_Selection/Trainer_PPT_and_IPYNB/FA3.JPG)"
   ]
  },
  {
   "cell_type": "markdown",
   "metadata": {
    "id": "WznRxFwz0xT0"
   },
   "source": [
    "### **Choosing Factors**\n",
    "\n",
    "Note: Let us get accustomed to the term eigenvalue before moving to the selecting the number of factors."
   ]
  },
  {
   "cell_type": "markdown",
   "metadata": {
    "id": "P1ofi7fP0zC8"
   },
   "source": [
    "**Eigenvalues:**\n",
    "\n",
    "It represents the explained variance of each factor from the total variance and is also known as the characteristic roots."
   ]
  },
  {
   "cell_type": "markdown",
   "metadata": {
    "id": "PlYneF_q02Em"
   },
   "source": [
    "**Ways to Choose Factors:**\n",
    "\n",
    "* The eigenvalues are a good measure for identifying the significant factors. An eigenvalue greater than 1 is considered for the selection criteria of the feature.\n",
    "\n",
    "* Apart from observing values, the graphical approach is used that visually represents the factors' eigenvalues. This visualization is known as the scree plot. A Scree plot helps in determining the number of factors where the curve makes an elbow.\n",
    "\n"
   ]
  },
  {
   "cell_type": "markdown",
   "metadata": {
    "id": "jWLSxO2lce6l"
   },
   "source": [
    "### **Use Case: Feature Selection in Cancer Dataset Using FA**"
   ]
  },
  {
   "cell_type": "markdown",
   "metadata": {
    "id": "mAdVv1cKce6n"
   },
   "source": [
    "**Problem Statement**"
   ]
  },
  {
   "cell_type": "markdown",
   "metadata": {
    "id": "oZJFc7mece6o"
   },
   "source": [
    "John Cancer Hospital (JCH) is a leading cancer hospital in the USA. It specializes in preventing breast cancer. \n",
    "\n",
    "Over the last few years, JCH has collected breast cancer data from patients who came for screening or treatment. \n",
    "\n",
    "However, this data has 32 attributes and is difficult to run and interpret the result. As an ML expert,\n",
    "\n",
    " you have to reduce the number of attributes so that the results are meaningful and accurate. \n",
    "\n",
    "Use FA for feature selection."
   ]
  },
  {
   "cell_type": "markdown",
   "metadata": {
    "id": "0Pf2xDB6ce6o"
   },
   "source": [
    "#### **Dataset**"
   ]
  },
  {
   "cell_type": "markdown",
   "metadata": {
    "id": "pRcJ5Puvce6p"
   },
   "source": [
    "Features of the dataset are computed from a digitized image of a Fine-Needle Aspirate (FNA) of a breast mass. \n",
    "\n",
    "They describe the characteristics of the cell nuclei present in the image."
   ]
  },
  {
   "cell_type": "markdown",
   "metadata": {
    "id": "iTFnzjDRce6q"
   },
   "source": [
    "#### **Data Dictionary**"
   ]
  },
  {
   "cell_type": "markdown",
   "metadata": {
    "id": "gL5Y14LZce6r"
   },
   "source": [
    "**Dimensions:**\n",
    "* 32 variables\n",
    "* 569 observations"
   ]
  },
  {
   "cell_type": "markdown",
   "metadata": {
    "id": "k-_tp9Ypce6r"
   },
   "source": [
    "**Attribute Information:**\n",
    "\n",
    "1. ID number \n",
    "\n",
    "2. Diagnosis (M = malignant, B = benign)\n",
    "\n",
    "3. Attributes with mean values: <br>\n",
    "10 real-valued features are computed for each cell nucleus:\n",
    "  * radius_mean (mean of distances from center to points on the perimeter)\n",
    "  * texture_mean (standard deviation of gray-scale values) \n",
    "  * perimeter_mean\n",
    "  * area_mean\n",
    "  * smoothness_mean (local variation in radius lengths)\n",
    "  * compactness_mean (perimeter$^2$ / area - 1.0)\n",
    "  * concavity_mean (severity of concave portions of the contour) \n",
    "  * concave points_mean (number of concave portions of the contour) \n",
    "  * symmetry_mean\n",
    "  * fractal dimension_mean (\"coastline approximation\" - 1)\n",
    "\n",
    "4. Attributes with standard error and worst/largest:\n",
    "  * radius_se\t\n",
    "  * texture_se\n",
    "  * perimeter_se\t\n",
    "  * area_se\t\n",
    "  * smoothness_se\t\n",
    "  * compactness_se\t\n",
    "  * concavity_se\t\n",
    "  * concave points_se\t\n",
    "  * symmetry_se\t\n",
    "  * fractal_dimension_se\t\n",
    "  * radius_worst\t\n",
    "  * texture_worst\t\n",
    "  * perimeter_worst\t\n",
    "  * area_worst\t\n",
    "  * smoothness_worst\t\n",
    "  * compactness_worst\t\n",
    "  * concavity_worst\t\n",
    "  * concave points_worst\t\n",
    "  * symmetry_worst\n",
    "  * fractal_dimension_worst\n"
   ]
  },
  {
   "cell_type": "markdown",
   "metadata": {
    "id": "sNL6JVUEce6s"
   },
   "source": [
    "#### **Solution**"
   ]
  },
  {
   "cell_type": "markdown",
   "metadata": {
    "id": "IDogpt2Sce6s"
   },
   "source": [
    "##### **Import Libraries**     \n",
    "\n",
    "\n",
    "\n"
   ]
  },
  {
   "cell_type": "code",
   "execution_count": null,
   "metadata": {
    "id": "1-LinGPxaSsF"
   },
   "outputs": [],
   "source": []
  },
  {
   "cell_type": "markdown",
   "metadata": {
    "id": "_KVcSOGBabQH"
   },
   "source": [
    "In Python, Numpy is a package that includes multidimensional array objects as well as a number of derived objects.\n",
    "Matplotlib is an amazing visualization library in Python for 2D plots of arrays.\\n\n",
    "Pandas is used for data manipulation and analysis\\n\n",
    "So these are the core libraries that are used for the EDA process.\n",
    "\n",
    "These libraries are written with an import keyword."
   ]
  },
  {
   "cell_type": "code",
   "execution_count": null,
   "metadata": {
    "id": "CP_NZx7gce6s"
   },
   "outputs": [],
   "source": [
    "import matplotlib.pyplot as plt\n",
    "import pandas as pd\n",
    "import numpy as np\n",
    "%matplotlib inline"
   ]
  },
  {
   "cell_type": "markdown",
   "metadata": {
    "id": "l9zbLtunce6v"
   },
   "source": [
    "##### **Import and Check the Data**"
   ]
  },
  {
   "cell_type": "markdown",
   "metadata": {
    "id": "5qNQpYxFabQJ"
   },
   "source": [
    "Before reading data from a csv file, you need to download the \"breast-cancer-data.csv\" dataset from the resource section and upload it into the Lab.\n",
    "We will use the Up arrow icon, which is shown on the left side under the View icon. Click on the Up arrow icon and upload the file from\n",
    "wherever it has downloaded into your system.\n",
    "\n",
    "After this, you will see the downloaded file will be visible on the left side of your lab along with all the .pynb files."
   ]
  },
  {
   "cell_type": "code",
   "execution_count": null,
   "metadata": {
    "id": "_lVXiKc6ce6w"
   },
   "outputs": [],
   "source": [
    "df = pd.read_csv('breast-cancer-data.csv')\n",
    "df.head()"
   ]
  },
  {
   "cell_type": "markdown",
   "metadata": {
    "id": "hrscV9c7abQJ"
   },
   "source": [
    "pd.read_csv function is used to read the \"breast-cancer-data.csv\" file and df.head() will show the top 5 rows of the dataset.\n",
    "\n",
    "* dataframe or df is a variable that will store the data read by the csv file.\n",
    "* head will show the rows and () default take the 5 top rows as output.\n",
    "* one more example - df.head(3) will show the top 3 rows."
   ]
  },
  {
   "cell_type": "markdown",
   "metadata": {
    "id": "7UMyk59-abQJ"
   },
   "source": [
    "#### shape function"
   ]
  },
  {
   "cell_type": "code",
   "execution_count": null,
   "metadata": {
    "id": "tM3Y8scBce6z"
   },
   "outputs": [],
   "source": [
    "df.shape"
   ]
  },
  {
   "cell_type": "markdown",
   "metadata": {
    "id": "NVUQa7FEabQK"
   },
   "source": [
    "df.shape will show the number of rows and columns in the dataframe."
   ]
  },
  {
   "cell_type": "markdown",
   "metadata": {
    "id": "SQf4orHrabQK"
   },
   "source": [
    "#### info Function"
   ]
  },
  {
   "cell_type": "code",
   "execution_count": null,
   "metadata": {
    "id": "rkH9HDtk2qjT"
   },
   "outputs": [],
   "source": []
  },
  {
   "cell_type": "code",
   "execution_count": null,
   "metadata": {
    "id": "1yLNdq2Sce61"
   },
   "outputs": [],
   "source": [
    "# Check the data , there should be no missing values \n",
    "df.info()"
   ]
  },
  {
   "cell_type": "markdown",
   "metadata": {
    "id": "9-_Vad0wabQK"
   },
   "source": [
    "* The dataframe's information is printed using the info() function. \n",
    "* The number of columns, column labels, column data types, memory use, range index, and the number of cells in each column are all included in the data (non-null values)."
   ]
  },
  {
   "cell_type": "code",
   "execution_count": null,
   "metadata": {
    "id": "IlRPCvp2ce62"
   },
   "outputs": [],
   "source": [
    "# defining the array as np.array\n",
    "feature_names = np.array(['mean radius' 'mean texture' 'mean perimeter' 'mean area'\n",
    " 'mean smoothness' 'mean compactness' 'mean concavity'\n",
    " 'mean concave points' 'mean symmetry' 'mean fractal dimension'\n",
    " 'radius error' 'texture error' 'perimeter error' 'area error'\n",
    " 'smoothness error' 'compactness error' 'concavity error'\n",
    " 'concave points error' 'symmetry error' 'fractal dimension error'\n",
    " 'worst radius' 'worst texture' 'worst perimeter' 'worst area'\n",
    " 'worst smoothness' 'worst compactness' 'worst concavity'\n",
    " 'worst concave points' 'worst symmetry' 'worst fractal dimension'])"
   ]
  },
  {
   "cell_type": "code",
   "execution_count": null,
   "metadata": {
    "id": "IQVSwn2Xce64"
   },
   "outputs": [],
   "source": [
    "#### Convert diagnosis column to 1/0 and store in new column target\n",
    "from sklearn.preprocessing import LabelEncoder"
   ]
  },
  {
   "cell_type": "markdown",
   "metadata": {
    "id": "2evEvFaUabQL"
   },
   "source": [
    "\n",
    "* The sklearn.preprocessing package contains a number of useful utility methods and transformer classes for converting raw feature vectors into a format that is suitable for downstream estimators.\n",
    "* LabelEncoder encodes labels with a value between 0 and n_classes-1 where n is the number of distinct labels.\n",
    "* These libraries are written with an import keyword."
   ]
  },
  {
   "cell_type": "code",
   "execution_count": null,
   "metadata": {
    "id": "mi_rj_Yhce66"
   },
   "outputs": [],
   "source": [
    "# # Encode label diagnosis\n",
    "#M -> 1\n",
    "#B -> 0\n",
    "\n",
    "#Converting diagnosis to numerical variable in df\n",
    "df['diagnosis'] = df['diagnosis'].map({'M': 1, 'B': 0}).astype(int)"
   ]
  },
  {
   "cell_type": "markdown",
   "metadata": {
    "id": "wCYMBTQ4abQL"
   },
   "source": [
    "In the above code, we are encoding the column diagnosis in which we are encoding M as 1 and B as 0."
   ]
  },
  {
   "cell_type": "markdown",
   "metadata": {
    "id": "cXqK7XiNabQM"
   },
   "source": [
    "## Factor Analysis"
   ]
  },
  {
   "cell_type": "markdown",
   "metadata": {
    "id": "Fb0AXBpQabQM"
   },
   "source": [
    "* A linear statistical model is a factor analysis. \n",
    "* It is used to condense a group of observable variables into an unobserved variable termed factors and to explain the variance among the observed variables."
   ]
  },
  {
   "cell_type": "markdown",
   "metadata": {
    "id": "bRvKiS6_ce7A"
   },
   "source": [
    "#### **Adequacy Test**\n"
   ]
  },
  {
   "cell_type": "markdown",
   "metadata": {
    "id": "s8dFOAxaabQM"
   },
   "source": [
    "Before you perform factor analysis, you need to evaluate the “factorability” of our dataset. Can we find the factors in the dataset? Checking factorability or sampling adequacy can be done in two ways:\n",
    "\n",
    "1- The Bartlett's Test\n",
    "\n",
    "2- Test of Kaiser-Meyer-Olkin"
   ]
  },
  {
   "cell_type": "code",
   "execution_count": null,
   "metadata": {
    "id": "e9S0FafZhzej"
   },
   "outputs": [],
   "source": [
    "#Install factor analyzer\n",
    "#!pip install factor_analyzer"
   ]
  },
  {
   "cell_type": "markdown",
   "metadata": {
    "id": "L7Ns2vbyjVtB"
   },
   "source": [
    "#### **Bartlett's Test**\n",
    "\n",
    "Bartlett’s test of sphericity checks whether or not the observed variables intercorrelate at all using the observed correlation matrix against the identity matrix. If the test is found to be statistically insignificant, you should not employ a factor analysis.\n",
    "\n",
    "Note: This test checks for the intercorrelation of observed variables by comparing the observed correlation matrix against the identity matrix.\n",
    "\n",
    " "
   ]
  },
  {
   "cell_type": "code",
   "execution_count": null,
   "metadata": {
    "id": "Kz3-9N9cabQN"
   },
   "outputs": [],
   "source": [
    "!pip install factor_analyzer"
   ]
  },
  {
   "cell_type": "markdown",
   "metadata": {
    "id": "59jRTLxLabQN"
   },
   "source": [
    "* In the above code, we are installing the factor analyzer.\n",
    "* pip is used to install the packages.\n",
    "* Factor analysis is an exploratory data analysis method used to search for influential underlying factors or latent variables from a set of observed variables."
   ]
  },
  {
   "cell_type": "markdown",
   "metadata": {
    "id": "g9ZXXVQuabQN"
   },
   "source": [
    "Now, you are trying to perform factor analysis by using the factor analyzer module. Use the below code\n",
    "for calculating_bartlett_sphericity."
   ]
  },
  {
   "cell_type": "code",
   "execution_count": null,
   "metadata": {
    "id": "QaWYEa4Ifint"
   },
   "outputs": [],
   "source": [
    "from factor_analyzer import FactorAnalyzer\n",
    "from factor_analyzer.factor_analyzer import calculate_bartlett_sphericity\n",
    "chi_square_value,p_value=calculate_bartlett_sphericity(df)\n",
    "chi_square_value, p_value"
   ]
  },
  {
   "cell_type": "markdown",
   "metadata": {
    "id": "46v4RI5PabQN"
   },
   "source": [
    "* In the above code, you are importing the factor analyzer and calculate_bartlett_sphericity.\n",
    "* In this Bartlett’s test, the p-value is 0. The test was statistically significant, indicating that the observed correlation matrix is not an identity matrix."
   ]
  },
  {
   "cell_type": "markdown",
   "metadata": {
    "id": "Bfr2qW3ZjRAc"
   },
   "source": [
    "**Inference:**\n",
    "\n",
    "The p-value is 0, and this indicates that the test is statistically significant and highlights that the correlation matrix is not an identity matrix."
   ]
  },
  {
   "cell_type": "markdown",
   "metadata": {
    "id": "ArAG3cZEjlkn"
   },
   "source": [
    "#### **Kaiser-Meyer-Olkin Test**\n",
    "\n",
    "* The Kaiser-Meyer-Olkin (KMO) test determines if data is suitable for factor analysis.\n",
    "* It assesses the suitability of each observed variable as well as the entire model."
   ]
  },
  {
   "cell_type": "code",
   "execution_count": null,
   "metadata": {
    "id": "nXMWtlgkce7A"
   },
   "outputs": [],
   "source": [
    "from factor_analyzer.factor_analyzer import calculate_kmo\n",
    "kmo_all,kmo_model=calculate_kmo(df)"
   ]
  },
  {
   "cell_type": "code",
   "execution_count": null,
   "metadata": {
    "id": "HPTWaF7MmN07"
   },
   "outputs": [],
   "source": [
    "kmo_model"
   ]
  },
  {
   "cell_type": "markdown",
   "metadata": {
    "id": "YYgJghqCabQO"
   },
   "source": [
    "* In the above code, we are calculating the KMO. KMO estimates the proportion of variance among all the observed variables. \n",
    "* The overall KMO for the data is 0.25, which is excellent. This value indicates that you can proceed with your planned factor analysis.\n",
    "\n"
   ]
  },
  {
   "cell_type": "code",
   "execution_count": null,
   "metadata": {
    "id": "u40ACrK6oIHY"
   },
   "outputs": [],
   "source": [
    "df.head(2) "
   ]
  },
  {
   "cell_type": "markdown",
   "metadata": {
    "id": "xE-3rJYCce7C"
   },
   "source": [
    "**Inference:**\n",
    "\n",
    "The KMO value is less than 0.5, and this indicates that we need to delete the insignificant variables."
   ]
  },
  {
   "cell_type": "markdown",
   "metadata": {
    "id": "L5ARN-6mqKPF"
   },
   "source": [
    "**Finding Significant Variables**"
   ]
  },
  {
   "cell_type": "code",
   "execution_count": null,
   "metadata": {
    "id": "5EAqKzACce7C"
   },
   "outputs": [],
   "source": [
    "corr = df.corr()\n",
    "corr.style.background_gradient(cmap='coolwarm')"
   ]
  },
  {
   "cell_type": "markdown",
   "metadata": {
    "id": "wntI4Lo_abQP"
   },
   "source": [
    "\n",
    "\n",
    "If your main goal is to visualize the correlation matrix rather than creating a plot per se, the convenient pandas styling options are a viable built-in solution, as shown in the above code."
   ]
  },
  {
   "cell_type": "markdown",
   "metadata": {
    "id": "0u1-Jx_9sF9B"
   },
   "source": [
    "**Creating Dataset of Significant Variables**"
   ]
  },
  {
   "cell_type": "code",
   "execution_count": null,
   "metadata": {
    "id": "3dEgIDudrOxX"
   },
   "outputs": [],
   "source": [
    "df_corr = df[['radius_mean','perimeter_mean', 'area_mean','radius_worst','perimeter_worst','area_worst','concavity_mean','concave points_mean', 'concavity_worst','concave points_worst','diagnosis']]"
   ]
  },
  {
   "cell_type": "markdown",
   "metadata": {
    "id": "5UCx9ELIsUK-"
   },
   "source": [
    "**Running KMO Test**"
   ]
  },
  {
   "cell_type": "code",
   "execution_count": null,
   "metadata": {
    "id": "8cJuObwfr20a"
   },
   "outputs": [],
   "source": [
    "from factor_analyzer.factor_analyzer import calculate_kmo\n",
    "kmo_all,kmo_model=calculate_kmo(df_corr)\n",
    "kmo_model"
   ]
  },
  {
   "cell_type": "markdown",
   "metadata": {
    "id": "2eAjgSynabQQ"
   },
   "source": [
    "* In the above code, we are calculating the KMO. KMO estimates the proportion of variance among all the observed variables. \n",
    "* The overall KMO for the data is 0.82, which is excellent. This value indicates that you can proceed with your planned factor analysis."
   ]
  },
  {
   "cell_type": "code",
   "execution_count": null,
   "metadata": {
    "id": "A1za8nwW3jbB"
   },
   "outputs": [],
   "source": []
  },
  {
   "cell_type": "markdown",
   "metadata": {
    "id": "meiYWjRdce7R"
   },
   "source": [
    "**Inference:**\n",
    "\n",
    "The value of the KMO model is greater than 0.5. Therefore, the dataset is good enough for factor analysis."
   ]
  },
  {
   "cell_type": "markdown",
   "metadata": {
    "id": "m8M3sIztt30d"
   },
   "source": [
    "##### **Factor Analysis**"
   ]
  },
  {
   "cell_type": "code",
   "execution_count": null,
   "metadata": {
    "id": "Kx9sn4PBuA6W"
   },
   "outputs": [],
   "source": [
    "from factor_analyzer import FactorAnalyzer\n",
    "fa = FactorAnalyzer(rotation='varimax')\n",
    "fa.fit(df_corr,11)"
   ]
  },
  {
   "cell_type": "markdown",
   "metadata": {
    "id": "m0NCc4BlabQS"
   },
   "source": [
    "In the above code, we create a factor analysis object and perform factor analysis."
   ]
  },
  {
   "cell_type": "code",
   "execution_count": null,
   "metadata": {
    "id": "IUU8fESxwZFe"
   },
   "outputs": [],
   "source": [
    "ev, v = fa.get_eigenvalues()\n",
    "ev"
   ]
  },
  {
   "cell_type": "markdown",
   "metadata": {
    "id": "symxLmsnabQS"
   },
   "source": [
    "* Here, you can see only for 2-factors eigenvalues are greater than one. It means we only need to choose 6 factors (or unobserved variables).\n",
    "* In the above code, we are checking the Eigenvalues.\n",
    "* It measures how much of the variance of the variables a factor explains.\n",
    "* An eigenvalue of more than one means that the factor explains more variance than a unique variable.\n",
    "  "
   ]
  },
  {
   "cell_type": "code",
   "execution_count": null,
   "metadata": {
    "id": "kCmO6m1_1ERg"
   },
   "outputs": [],
   "source": [
    "plt.scatter(range(1,df_corr.shape[1]+1),ev)\n",
    "plt.plot(range(1,df_corr.shape[1]+1),ev)\n",
    "plt.title('Scree Plot')\n",
    "plt.xlabel('Factors')\n",
    "plt.ylabel('Eigenvalue')\n",
    "plt.grid()\n",
    "plt.show()"
   ]
  },
  {
   "cell_type": "markdown",
   "metadata": {
    "id": "D2k3xYUSabQS"
   },
   "source": [
    "In the above code, we are creating screen plot using matplotlib module."
   ]
  },
  {
   "cell_type": "markdown",
   "metadata": {
    "id": "ZJ2zQFbhxcL7"
   },
   "source": [
    "**Inference:**\n",
    "\n",
    "* Referring eigenvalues: There are only two values above 1. Therefore, we will choose only 2 factors (or unobserved variables).\n",
    "\n",
    "* Referring Scree plot: There are only two values after the elbow. Therefore, we will choose only 2 factors (or unobserved variables)."
   ]
  },
  {
   "cell_type": "code",
   "execution_count": null,
   "metadata": {
    "id": "vQ_ocrSO_s-o"
   },
   "outputs": [],
   "source": [
    "fa1 = FactorAnalyzer(rotation=\"varimax\", n_factors=2)\n",
    "fa1.fit(df, 2)"
   ]
  },
  {
   "cell_type": "code",
   "execution_count": null,
   "metadata": {
    "id": "0fa5hpF___bJ"
   },
   "outputs": [],
   "source": [
    "fa1.loadings_"
   ]
  },
  {
   "cell_type": "markdown",
   "metadata": {
    "id": "odbmkgjZ0AUU"
   },
   "source": [
    "##### **Confirmatory Factor Analysis**\n",
    "\n",
    "* It is used to determine the factors and factor loadings of measured variables.\n",
    "* The general assumption of CFA is that every factor has an association with a specific subset of the measured variables."
   ]
  },
  {
   "cell_type": "code",
   "execution_count": null,
   "metadata": {
    "id": "_WstnD140D54"
   },
   "outputs": [],
   "source": [
    "from factor_analyzer import (ConfirmatoryFactorAnalyzer, ModelSpecificationParser)    \n",
    "\n",
    "model_dict = {\"F1\": ['radius_mean','perimeter_mean', 'area_mean','radius_worst','perimeter_worst','diagnosis'], \"F2\": ['area_worst','concavity_mean','concave points_mean', 'concavity_worst','concave points_worst']}\n",
    "\n",
    "model_spec = ModelSpecificationParser.parse_model_specification_from_dict(df_corr,model_dict)\n",
    "\n",
    "\n",
    "cfa1 = ConfirmatoryFactorAnalyzer(model_spec, disp=False) \n",
    "cfa1.fit(df_corr.values) \n",
    "\n",
    "cfa1.loadings_ "
   ]
  },
  {
   "cell_type": "code",
   "execution_count": null,
   "metadata": {
    "id": "ufmAJKVR41_j"
   },
   "outputs": [],
   "source": [
    "cfa1.factor_varcovs_"
   ]
  },
  {
   "cell_type": "code",
   "execution_count": null,
   "metadata": {
    "id": "hpEes4kw44aP"
   },
   "outputs": [],
   "source": [
    "cfa1.transform(df_corr.values)"
   ]
  },
  {
   "cell_type": "markdown",
   "metadata": {
    "id": "AJGLqxzXzyDZ"
   },
   "source": [
    "Now, let us take a look at PCA and LDA-specific benefits. "
   ]
  },
  {
   "cell_type": "markdown",
   "metadata": {
    "id": "bjw7joWC066i"
   },
   "source": [
    "## **PCA and LDA**                  #  NO Review"
   ]
  },
  {
   "cell_type": "markdown",
   "metadata": {
    "id": "bPBRxNIu84TF"
   },
   "source": [
    "![PCA vs. LDA](https://labcontent.simplicdn.net/data-content/content-assets/Data_and_AI/Applied_Machine_Learning/Images/0.6_Feature_Selection/Trainer_PPT_and_IPYNB/PCA%20vs.%20LDA.JPG)"
   ]
  },
  {
   "cell_type": "markdown",
   "metadata": {
    "id": "zusBMWTg_eDL"
   },
   "source": [
    "## **Gist of PCA**"
   ]
  },
  {
   "cell_type": "markdown",
   "metadata": {
    "id": "ikf5R3-Q_ipc"
   },
   "source": [
    "![PCA scenario](https://labcontent.simplicdn.net/data-content/content-assets/Data_and_AI/Applied_Machine_Learning/Images/0.6_Feature_Selection/Trainer_PPT_and_IPYNB/PCA%20scenario.JPG)"
   ]
  },
  {
   "cell_type": "markdown",
   "metadata": {
    "id": "YXTpZxkSEzb7"
   },
   "source": [
    "### **What Is Principal Component?**"
   ]
  },
  {
   "cell_type": "markdown",
   "metadata": {
    "id": "i4RtQQaVE53k"
   },
   "source": [
    "A principal component is a normalized linear combination of the original predictors in a dataset."
   ]
  },
  {
   "cell_type": "markdown",
   "metadata": {
    "id": "Zk8RObmqI8FR"
   },
   "source": [
    "#### **First Principal Component (Z$^1$)** <br>"
   ]
  },
  {
   "cell_type": "markdown",
   "metadata": {
    "id": "4QwzizxZHFrL"
   },
   "source": [
    "* The aim of PCA is to find components that account for **maximum variance in the data** that includes the error and within-variable variance. \n",
    "\n",
    "* It finds the direction of the highest variability in the data. Greater the variability captured in the first component, the greater the information captured by the component.\n",
    "\n",
    "* The first principal component develops a line that is closest to the data points.<br>\n",
    "\n",
    "  In other words, it minimizes the sum of squared distance between a data point and the line."
   ]
  },
  {
   "cell_type": "markdown",
   "metadata": {
    "id": "TFxO1KbrH5_m"
   },
   "source": [
    "**Equation for first principal component:**<br>\n",
    "\n",
    "**Z¹ = Φ¹¹X¹ + Φ²¹X² + Φ³¹X³ + .... +Φp¹Xp**\n",
    "\n",
    "  * Z¹ = First principal component\n",
    "  * Φp¹ = Loading vector \n",
    "  * X¹ to Xp = Normalized predictors that have mean equals to **0** and standard deviation equals to **1**."
   ]
  },
  {
   "cell_type": "markdown",
   "metadata": {
    "id": "LXbw0cCmJAax"
   },
   "source": [
    "#### **Second Principal Component (Z$^2$)**"
   ]
  },
  {
   "cell_type": "markdown",
   "metadata": {
    "id": "5bGa1ZrPHY_2"
   },
   "source": [
    "The aim of the linear combination of original predictors is to capture the remaining variance in the dataset where Z² is uncorrelated to Z¹. \n",
    "\n",
    "In other words, the correlation between the first and second components should be zero."
   ]
  },
  {
   "cell_type": "markdown",
   "metadata": {
    "id": "LOmAMK5RIB2U"
   },
   "source": [
    "**Equation for first principal component:**<br>\n",
    "\n",
    "**Z² = Φ¹²X¹ + Φ²²X² + Φ³²X³ + .... + Φp2Xp**"
   ]
  },
  {
   "cell_type": "markdown",
   "metadata": {
    "id": "LahRW2KhTrOP"
   },
   "source": [
    "#### **Graphical Representation of Uncorrelated Principal Components:**"
   ]
  },
  {
   "cell_type": "markdown",
   "metadata": {
    "id": "ABeq8rc1Ungw"
   },
   "source": [
    "![PC1 and PC2](https://labcontent.simplicdn.net/data-content/content-assets/Data_and_AI/Applied_Machine_Learning/Images/0.6_Feature_Selection/Trainer_PPT_and_IPYNB/PC1%20and%20PC2.JPG)"
   ]
  },
  {
   "cell_type": "markdown",
   "metadata": {
    "id": "8sxp-1znS_TS"
   },
   "source": [
    "When we talk of all the succeeding principal components, they will follow a similar concept, i.e., capturing the remaining variation without being correlated to the previous component.\n",
    " "
   ]
  },
  {
   "cell_type": "markdown",
   "metadata": {
    "id": "br4M3OWrkkag"
   },
   "source": [
    "### **How Does PCA work?**"
   ]
  },
  {
   "cell_type": "markdown",
   "metadata": {
    "id": "JEvMh2caktiR"
   },
   "source": [
    "PCA is built on the concept of Eigen vectors and Eigen values. So, let us first understand the Eigen vector and value in brief."
   ]
  },
  {
   "cell_type": "markdown",
   "metadata": {
    "id": "gu6tYTq4YadX"
   },
   "source": [
    "#### **Eigenvectors and Eigenvalues**"
   ]
  },
  {
   "cell_type": "markdown",
   "metadata": {
    "id": "-KaHCcrvYitA"
   },
   "source": [
    "##### **Eigenvectors**"
   ]
  },
  {
   "cell_type": "markdown",
   "metadata": {
    "id": "psOwtlGZYo8K"
   },
   "source": [
    "When the vectors are plotted on a two-dimensional plane they showcase both the magnitude and direction. \n",
    "\n",
    "Usually, the direction of a vector is along its span but there are special vectors that on linear transformation get squished or stretched instead of falling off their span."
   ]
  },
  {
   "cell_type": "markdown",
   "metadata": {
    "id": "21wEA9UeZ0Xp"
   },
   "source": [
    "##### **Eigenvalues**"
   ]
  },
  {
   "cell_type": "markdown",
   "metadata": {
    "id": "8xhvytO0YhLP"
   },
   "source": [
    "These are the constant values that increase or decrease the Eigenvectors along their span when transformed linearly.\n",
    "\n"
   ]
  },
  {
   "cell_type": "markdown",
   "metadata": {
    "id": "Cbeb4FVwk2Qs"
   },
   "source": [
    "#### **PCA Process**"
   ]
  },
  {
   "cell_type": "markdown",
   "metadata": {
    "id": "ga3rmKkTWZmj"
   },
   "source": [
    "###### **Finding PC1**"
   ]
  },
  {
   "cell_type": "markdown",
   "metadata": {
    "id": "eFY9jBjZWR0G"
   },
   "source": [
    "![Find PC1](https://labcontent.simplicdn.net/data-content/content-assets/Data_and_AI/Applied_Machine_Learning/Images/0.6_Feature_Selection/Trainer_PPT_and_IPYNB/Find%20PC1.JPG)"
   ]
  },
  {
   "cell_type": "markdown",
   "metadata": {
    "id": "8q7IqaIyWi0c"
   },
   "source": [
    "###### **Result of Eigen Decomposition**"
   ]
  },
  {
   "cell_type": "markdown",
   "metadata": {
    "id": "FuWmcIV5W77A"
   },
   "source": [
    "![Eigenvalue Decopm](https://labcontent.simplicdn.net/data-content/content-assets/Data_and_AI/Applied_Machine_Learning/Images/0.6_Feature_Selection/Trainer_PPT_and_IPYNB/Eigenvalue%20decomp.JPG)\n"
   ]
  },
  {
   "cell_type": "markdown",
   "metadata": {
    "id": "s2QJhWCzX9Dq"
   },
   "source": [
    "\n",
    "![eigenvalue](https://labcontent.simplicdn.net/data-content/content-assets/Data_and_AI/Applied_Machine_Learning/Images/0.6_Feature_Selection/Trainer_PPT_and_IPYNB/eigenvalue.JPG)"
   ]
  },
  {
   "cell_type": "markdown",
   "metadata": {
    "id": "YJAKTVXr0AFg"
   },
   "source": [
    "### **Use Case: Feature Selection in Cancer Dataset Using PCA**"
   ]
  },
  {
   "cell_type": "markdown",
   "metadata": {
    "id": "hnGoEA-xwSpC"
   },
   "source": [
    "**Problem Statement**"
   ]
  },
  {
   "cell_type": "markdown",
   "metadata": {
    "id": "P2q2VcowxeaG"
   },
   "source": [
    "John Cancer Hospital (JCH) is a leading cancer hospital in the USA. It specializes in preventing breast cancer. \n",
    "\n",
    "Over the last few years, JCH has collected breast cancer data from patients who came for screening or treatment. \n",
    "\n",
    "However, this data has 32 attributes and is difficult to run and interpret the result. As an ML expert,\n",
    "\n",
    " you have to reduce the number of attributes so that the results are meaningful and accurate. \n",
    "\n",
    "Use PCA for feature selection."
   ]
  },
  {
   "cell_type": "markdown",
   "metadata": {
    "id": "pbzSqLppxfKB"
   },
   "source": [
    "#### **Dataset**"
   ]
  },
  {
   "cell_type": "markdown",
   "metadata": {
    "id": "k04SjF2lxT9V"
   },
   "source": [
    "Features of the dataset are computed from a digitized image of a Fine-Needle Aspirate (FNA) of a breast mass. \n",
    "\n",
    "They describe the characteristics of the cell nuclei present in the image."
   ]
  },
  {
   "cell_type": "markdown",
   "metadata": {
    "id": "BxWJJg5s7CQw"
   },
   "source": [
    "##### **Links to the Dataset**"
   ]
  },
  {
   "cell_type": "markdown",
   "metadata": {
    "id": "ZUfrIMWn5LPW"
   },
   "source": [
    "This database is available at:\n",
    "* The UCI Machine Learning Repository: <br>\n",
    "https://archive.ics.uci.edu/ml/datasets/Breast+Cancer+Wisconsin+%28Diagnostic%29"
   ]
  },
  {
   "cell_type": "markdown",
   "metadata": {
    "id": "5YmU1CSR5Z6A"
   },
   "source": [
    "#### **Data Dictionary**"
   ]
  },
  {
   "cell_type": "markdown",
   "metadata": {
    "id": "95DEP_OsK7-3"
   },
   "source": [
    "**Dimensions:**\n",
    "* 32 variables\n",
    "* 569 observations"
   ]
  },
  {
   "cell_type": "markdown",
   "metadata": {
    "id": "Ajcz39Cm5Skp"
   },
   "source": [
    "**Attribute Information:**\n",
    "\n",
    "1. ID number \n",
    "\n",
    "2. Diagnosis (M = malignant, B = benign)\n",
    "\n",
    "3. Attributes with mean values: <br>\n",
    "Ten real-valued features are computed for each cell nucleus:\n",
    "  * radius_mean (mean of distances from center to points on the perimeter)\n",
    "  * texture_mean (standard deviation of gray-scale values) \n",
    "  * perimeter_mean\n",
    "  * area_mean\n",
    "  * smoothness_mean (local variation in radius lengths)\n",
    "  * compactness_mean (perimeter$^2$ / area - 1.0)\n",
    "  * concavity_mean (severity of concave portions of the contour) \n",
    "  * concave points_mean (number of concave portions of the contour) \n",
    "  * symmetry_mean\n",
    "  * fractal dimension_mean (\"coastline approximation\" - 1)\n",
    "\n",
    "4. Attributes with standard error and worst/largest:\n",
    "  * radius_se\t\n",
    "  * texture_se\n",
    "  * perimeter_se\t\n",
    "  * area_se\t\n",
    "  * smoothness_se\t\n",
    "  * compactness_se\t\n",
    "  * concavity_se\t\n",
    "  * concave points_se\t\n",
    "  * symmetry_se\t\n",
    "  * fractal_dimension_se\t\n",
    "  * radius_worst\t\n",
    "  * texture_worst\t\n",
    "  * perimeter_worst\t\n",
    "  * area_worst\t\n",
    "  * smoothness_worst\t\n",
    "  * compactness_worst\t\n",
    "  * concavity_worst\t\n",
    "  * concave points_worst\t\n",
    "  * symmetry_worst\n",
    "  * fractal_dimension_worst\n"
   ]
  },
  {
   "cell_type": "markdown",
   "metadata": {
    "id": "MeFqVj8-7Svw"
   },
   "source": [
    "#### **Solution**"
   ]
  },
  {
   "cell_type": "markdown",
   "metadata": {
    "id": "PUkFpe7P0qF2"
   },
   "source": [
    "##### **Import Libraries**\n",
    "\n",
    "> Indented block        # CE Review\n",
    "\n"
   ]
  },
  {
   "cell_type": "code",
   "execution_count": 1,
   "metadata": {
    "id": "z7a2l8IJwdz9"
   },
   "outputs": [],
   "source": [
    "import matplotlib.pyplot as plt\n",
    "import pandas as pd\n",
    "import numpy as np\n",
    "import seaborn as sns\n",
    "%matplotlib inline"
   ]
  },
  {
   "cell_type": "markdown",
   "metadata": {
    "id": "RKa3Gw_XwkzY"
   },
   "source": [
    "##### **Import and Check the Data**"
   ]
  },
  {
   "cell_type": "markdown",
   "metadata": {
    "id": "rNJZojwVabQb"
   },
   "source": [
    "Before reading data from a csv file, you need to download the \"breast-cancer-data.csv\" dataset from the resource section and upload it into the lab.\n",
    "We will use the Up arrow icon which is shown on the left side under the View icon. Click on the Up arrow icon and upload the filewherever \n",
    "it has been downloaded into your system.\n",
    "\n",
    "After this, you will see the downloaded file will be visible on the left side of your lab along with all the .pynb files."
   ]
  },
  {
   "cell_type": "code",
   "execution_count": 2,
   "metadata": {
    "id": "cooXVKkQwn_U"
   },
   "outputs": [
    {
     "data": {
      "text/html": [
       "<div>\n",
       "<style scoped>\n",
       "    .dataframe tbody tr th:only-of-type {\n",
       "        vertical-align: middle;\n",
       "    }\n",
       "\n",
       "    .dataframe tbody tr th {\n",
       "        vertical-align: top;\n",
       "    }\n",
       "\n",
       "    .dataframe thead th {\n",
       "        text-align: right;\n",
       "    }\n",
       "</style>\n",
       "<table border=\"1\" class=\"dataframe\">\n",
       "  <thead>\n",
       "    <tr style=\"text-align: right;\">\n",
       "      <th></th>\n",
       "      <th>id</th>\n",
       "      <th>diagnosis</th>\n",
       "      <th>radius_mean</th>\n",
       "      <th>texture_mean</th>\n",
       "      <th>perimeter_mean</th>\n",
       "      <th>area_mean</th>\n",
       "      <th>smoothness_mean</th>\n",
       "      <th>compactness_mean</th>\n",
       "      <th>concavity_mean</th>\n",
       "      <th>concave points_mean</th>\n",
       "      <th>...</th>\n",
       "      <th>radius_worst</th>\n",
       "      <th>texture_worst</th>\n",
       "      <th>perimeter_worst</th>\n",
       "      <th>area_worst</th>\n",
       "      <th>smoothness_worst</th>\n",
       "      <th>compactness_worst</th>\n",
       "      <th>concavity_worst</th>\n",
       "      <th>concave points_worst</th>\n",
       "      <th>symmetry_worst</th>\n",
       "      <th>fractal_dimension_worst</th>\n",
       "    </tr>\n",
       "  </thead>\n",
       "  <tbody>\n",
       "    <tr>\n",
       "      <th>0</th>\n",
       "      <td>842302</td>\n",
       "      <td>M</td>\n",
       "      <td>17.99</td>\n",
       "      <td>10.38</td>\n",
       "      <td>122.80</td>\n",
       "      <td>1001.0</td>\n",
       "      <td>0.11840</td>\n",
       "      <td>0.27760</td>\n",
       "      <td>0.3001</td>\n",
       "      <td>0.14710</td>\n",
       "      <td>...</td>\n",
       "      <td>25.38</td>\n",
       "      <td>17.33</td>\n",
       "      <td>184.60</td>\n",
       "      <td>2019.0</td>\n",
       "      <td>0.1622</td>\n",
       "      <td>0.6656</td>\n",
       "      <td>0.7119</td>\n",
       "      <td>0.2654</td>\n",
       "      <td>0.4601</td>\n",
       "      <td>0.11890</td>\n",
       "    </tr>\n",
       "    <tr>\n",
       "      <th>1</th>\n",
       "      <td>842517</td>\n",
       "      <td>M</td>\n",
       "      <td>20.57</td>\n",
       "      <td>17.77</td>\n",
       "      <td>132.90</td>\n",
       "      <td>1326.0</td>\n",
       "      <td>0.08474</td>\n",
       "      <td>0.07864</td>\n",
       "      <td>0.0869</td>\n",
       "      <td>0.07017</td>\n",
       "      <td>...</td>\n",
       "      <td>24.99</td>\n",
       "      <td>23.41</td>\n",
       "      <td>158.80</td>\n",
       "      <td>1956.0</td>\n",
       "      <td>0.1238</td>\n",
       "      <td>0.1866</td>\n",
       "      <td>0.2416</td>\n",
       "      <td>0.1860</td>\n",
       "      <td>0.2750</td>\n",
       "      <td>0.08902</td>\n",
       "    </tr>\n",
       "    <tr>\n",
       "      <th>2</th>\n",
       "      <td>84300903</td>\n",
       "      <td>M</td>\n",
       "      <td>19.69</td>\n",
       "      <td>21.25</td>\n",
       "      <td>130.00</td>\n",
       "      <td>1203.0</td>\n",
       "      <td>0.10960</td>\n",
       "      <td>0.15990</td>\n",
       "      <td>0.1974</td>\n",
       "      <td>0.12790</td>\n",
       "      <td>...</td>\n",
       "      <td>23.57</td>\n",
       "      <td>25.53</td>\n",
       "      <td>152.50</td>\n",
       "      <td>1709.0</td>\n",
       "      <td>0.1444</td>\n",
       "      <td>0.4245</td>\n",
       "      <td>0.4504</td>\n",
       "      <td>0.2430</td>\n",
       "      <td>0.3613</td>\n",
       "      <td>0.08758</td>\n",
       "    </tr>\n",
       "    <tr>\n",
       "      <th>3</th>\n",
       "      <td>84348301</td>\n",
       "      <td>M</td>\n",
       "      <td>11.42</td>\n",
       "      <td>20.38</td>\n",
       "      <td>77.58</td>\n",
       "      <td>386.1</td>\n",
       "      <td>0.14250</td>\n",
       "      <td>0.28390</td>\n",
       "      <td>0.2414</td>\n",
       "      <td>0.10520</td>\n",
       "      <td>...</td>\n",
       "      <td>14.91</td>\n",
       "      <td>26.50</td>\n",
       "      <td>98.87</td>\n",
       "      <td>567.7</td>\n",
       "      <td>0.2098</td>\n",
       "      <td>0.8663</td>\n",
       "      <td>0.6869</td>\n",
       "      <td>0.2575</td>\n",
       "      <td>0.6638</td>\n",
       "      <td>0.17300</td>\n",
       "    </tr>\n",
       "    <tr>\n",
       "      <th>4</th>\n",
       "      <td>84358402</td>\n",
       "      <td>M</td>\n",
       "      <td>20.29</td>\n",
       "      <td>14.34</td>\n",
       "      <td>135.10</td>\n",
       "      <td>1297.0</td>\n",
       "      <td>0.10030</td>\n",
       "      <td>0.13280</td>\n",
       "      <td>0.1980</td>\n",
       "      <td>0.10430</td>\n",
       "      <td>...</td>\n",
       "      <td>22.54</td>\n",
       "      <td>16.67</td>\n",
       "      <td>152.20</td>\n",
       "      <td>1575.0</td>\n",
       "      <td>0.1374</td>\n",
       "      <td>0.2050</td>\n",
       "      <td>0.4000</td>\n",
       "      <td>0.1625</td>\n",
       "      <td>0.2364</td>\n",
       "      <td>0.07678</td>\n",
       "    </tr>\n",
       "  </tbody>\n",
       "</table>\n",
       "<p>5 rows × 32 columns</p>\n",
       "</div>"
      ],
      "text/plain": [
       "         id diagnosis  radius_mean  texture_mean  perimeter_mean  area_mean  \\\n",
       "0    842302         M        17.99         10.38          122.80     1001.0   \n",
       "1    842517         M        20.57         17.77          132.90     1326.0   \n",
       "2  84300903         M        19.69         21.25          130.00     1203.0   \n",
       "3  84348301         M        11.42         20.38           77.58      386.1   \n",
       "4  84358402         M        20.29         14.34          135.10     1297.0   \n",
       "\n",
       "   smoothness_mean  compactness_mean  concavity_mean  concave points_mean  \\\n",
       "0          0.11840           0.27760          0.3001              0.14710   \n",
       "1          0.08474           0.07864          0.0869              0.07017   \n",
       "2          0.10960           0.15990          0.1974              0.12790   \n",
       "3          0.14250           0.28390          0.2414              0.10520   \n",
       "4          0.10030           0.13280          0.1980              0.10430   \n",
       "\n",
       "   ...  radius_worst  texture_worst  perimeter_worst  area_worst  \\\n",
       "0  ...         25.38          17.33           184.60      2019.0   \n",
       "1  ...         24.99          23.41           158.80      1956.0   \n",
       "2  ...         23.57          25.53           152.50      1709.0   \n",
       "3  ...         14.91          26.50            98.87       567.7   \n",
       "4  ...         22.54          16.67           152.20      1575.0   \n",
       "\n",
       "   smoothness_worst  compactness_worst  concavity_worst  concave points_worst  \\\n",
       "0            0.1622             0.6656           0.7119                0.2654   \n",
       "1            0.1238             0.1866           0.2416                0.1860   \n",
       "2            0.1444             0.4245           0.4504                0.2430   \n",
       "3            0.2098             0.8663           0.6869                0.2575   \n",
       "4            0.1374             0.2050           0.4000                0.1625   \n",
       "\n",
       "   symmetry_worst  fractal_dimension_worst  \n",
       "0          0.4601                  0.11890  \n",
       "1          0.2750                  0.08902  \n",
       "2          0.3613                  0.08758  \n",
       "3          0.6638                  0.17300  \n",
       "4          0.2364                  0.07678  \n",
       "\n",
       "[5 rows x 32 columns]"
      ]
     },
     "execution_count": 2,
     "metadata": {},
     "output_type": "execute_result"
    }
   ],
   "source": [
    "df = pd.read_csv('breast-cancer-data.csv')\n",
    "df.head()\n"
   ]
  },
  {
   "cell_type": "markdown",
   "metadata": {
    "id": "AbFtqJCJabQb"
   },
   "source": [
    "pd.read_csv function is used to read the \"breast-cancer-data.csv\" file and df.head() will show the top 5 rows of the dataset.\n",
    "\n",
    "* dataframe or df  is a variable that will store the data read by the csv file.\n",
    "* head will show the rows and () default take the top 5 rows as output."
   ]
  },
  {
   "cell_type": "code",
   "execution_count": 3,
   "metadata": {
    "id": "3fntXDUXhWFT"
   },
   "outputs": [
    {
     "data": {
      "text/plain": [
       "(569, 32)"
      ]
     },
     "execution_count": 3,
     "metadata": {},
     "output_type": "execute_result"
    }
   ],
   "source": [
    "df.shape"
   ]
  },
  {
   "cell_type": "code",
   "execution_count": 4,
   "metadata": {
    "id": "5kt2wp7NwtE-"
   },
   "outputs": [
    {
     "name": "stdout",
     "output_type": "stream",
     "text": [
      "<class 'pandas.core.frame.DataFrame'>\n",
      "RangeIndex: 569 entries, 0 to 568\n",
      "Data columns (total 32 columns):\n",
      " #   Column                   Non-Null Count  Dtype  \n",
      "---  ------                   --------------  -----  \n",
      " 0   id                       569 non-null    int64  \n",
      " 1   diagnosis                569 non-null    object \n",
      " 2   radius_mean              569 non-null    float64\n",
      " 3   texture_mean             569 non-null    float64\n",
      " 4   perimeter_mean           569 non-null    float64\n",
      " 5   area_mean                569 non-null    float64\n",
      " 6   smoothness_mean          569 non-null    float64\n",
      " 7   compactness_mean         569 non-null    float64\n",
      " 8   concavity_mean           569 non-null    float64\n",
      " 9   concave points_mean      569 non-null    float64\n",
      " 10  symmetry_mean            569 non-null    float64\n",
      " 11  fractal_dimension_mean   569 non-null    float64\n",
      " 12  radius_se                569 non-null    float64\n",
      " 13  texture_se               569 non-null    float64\n",
      " 14  perimeter_se             569 non-null    float64\n",
      " 15  area_se                  569 non-null    float64\n",
      " 16  smoothness_se            569 non-null    float64\n",
      " 17  compactness_se           569 non-null    float64\n",
      " 18  concavity_se             569 non-null    float64\n",
      " 19  concave points_se        569 non-null    float64\n",
      " 20  symmetry_se              569 non-null    float64\n",
      " 21  fractal_dimension_se     569 non-null    float64\n",
      " 22  radius_worst             569 non-null    float64\n",
      " 23  texture_worst            569 non-null    float64\n",
      " 24  perimeter_worst          569 non-null    float64\n",
      " 25  area_worst               569 non-null    float64\n",
      " 26  smoothness_worst         569 non-null    float64\n",
      " 27  compactness_worst        569 non-null    float64\n",
      " 28  concavity_worst          569 non-null    float64\n",
      " 29  concave points_worst     569 non-null    float64\n",
      " 30  symmetry_worst           569 non-null    float64\n",
      " 31  fractal_dimension_worst  569 non-null    float64\n",
      "dtypes: float64(30), int64(1), object(1)\n",
      "memory usage: 142.4+ KB\n"
     ]
    }
   ],
   "source": [
    "# Check the data , there should be no missing values \n",
    "df.info()"
   ]
  },
  {
   "cell_type": "markdown",
   "metadata": {
    "id": "Y4kb8U2babQc"
   },
   "source": [
    "* The dataframe's information is printed using the info() function. \n",
    "* The number of columns, column labels, column data types, memory use, range index, and the number of cells in   each column are all included in the data (non-null values)."
   ]
  },
  {
   "cell_type": "code",
   "execution_count": 5,
   "metadata": {
    "id": "u-LBaMGjw0up"
   },
   "outputs": [],
   "source": [
    "feature_names = np.array(['mean radius' 'mean texture' 'mean perimeter' 'mean area'\n",
    " 'mean smoothness' 'mean compactness' 'mean concavity'\n",
    " 'mean concave points' 'mean symmetry' 'mean fractal dimension'\n",
    " 'radius error' 'texture error' 'perimeter error' 'area error'\n",
    " 'smoothness error' 'compactness error' 'concavity error'\n",
    " 'concave points error' 'symmetry error' 'fractal dimension error'\n",
    " 'worst radius' 'worst texture' 'worst perimeter' 'worst area'\n",
    " 'worst smoothness' 'worst compactness' 'worst concavity'\n",
    " 'worst concave points' 'worst symmetry' 'worst fractal dimension'])"
   ]
  },
  {
   "cell_type": "code",
   "execution_count": 6,
   "metadata": {
    "id": "tSrF_Rhzw8Xf"
   },
   "outputs": [],
   "source": [
    "#### Convert diagnosis column to 1/0 and store in new column target\n",
    "from sklearn.preprocessing import LabelEncoder"
   ]
  },
  {
   "cell_type": "code",
   "execution_count": 7,
   "metadata": {
    "id": "5r2adM2bxJEJ"
   },
   "outputs": [],
   "source": [
    "# # Encode label diagnosis\n",
    "#M -> 1\n",
    "#B -> 0"
   ]
  },
  {
   "cell_type": "code",
   "execution_count": 8,
   "metadata": {
    "id": "HwQ_qcemxJrA"
   },
   "outputs": [],
   "source": [
    "target_data=df[\"diagnosis\"]\n",
    "encoder = LabelEncoder()\n",
    "target_data = encoder.fit_transform(target_data)"
   ]
  },
  {
   "cell_type": "markdown",
   "metadata": {
    "id": "TfiZhK1LabQd"
   },
   "source": [
    "In the above code, in output we are getting all the rows, but only with the last column."
   ]
  },
  {
   "cell_type": "code",
   "execution_count": 9,
   "metadata": {
    "id": "-VlWpZAsxQ7G"
   },
   "outputs": [],
   "source": [
    "df.drop([\"diagnosis\"],axis = 1, inplace = True)"
   ]
  },
  {
   "cell_type": "markdown",
   "metadata": {
    "id": "NFLHmT02UFKZ"
   },
   "source": []
  },
  {
   "cell_type": "markdown",
   "metadata": {
    "id": "fFTG_BqqabQd"
   },
   "source": [
    "In the above code, you store the encoded column in a dataframe and drop the diagnosis column for simpilcity."
   ]
  },
  {
   "cell_type": "markdown",
   "metadata": {
    "id": "64rGwpGexVeH"
   },
   "source": [
    "##### **Principal Component Analysis**\n",
    "\n",
    "Let's use PCA to find the first two principal components and visualize the data in this new, two-dimensional space with a single scatter-plot."
   ]
  },
  {
   "cell_type": "code",
   "execution_count": 10,
   "metadata": {
    "id": "JYLwTcyo-tCd"
   },
   "outputs": [],
   "source": [
    "from sklearn.preprocessing import StandardScaler"
   ]
  },
  {
   "cell_type": "markdown",
   "metadata": {
    "id": "PW7L4FHMabQd"
   },
   "source": [
    "In the above code, you will scale data so that each feature has a single unit variance."
   ]
  },
  {
   "cell_type": "code",
   "execution_count": 11,
   "metadata": {
    "id": "nwa9M6bQ-zNw"
   },
   "outputs": [
    {
     "data": {
      "text/plain": [
       "StandardScaler()"
      ]
     },
     "execution_count": 11,
     "metadata": {},
     "output_type": "execute_result"
    }
   ],
   "source": [
    "scaler = StandardScaler()\n",
    "scaler.fit(df)"
   ]
  },
  {
   "cell_type": "code",
   "execution_count": 12,
   "metadata": {
    "id": "CMovjOl5-1Pm"
   },
   "outputs": [],
   "source": [
    "scaled_data = scaler.transform(df)"
   ]
  },
  {
   "cell_type": "markdown",
   "metadata": {
    "id": "6FS_Sm9aabQe"
   },
   "source": [
    "In the above code, you will initially create an object of the StandardScaler() function. Further, you will use fit() along with the object assigned to df and standardize it."
   ]
  },
  {
   "cell_type": "markdown",
   "metadata": {
    "id": "JosA28hnAjq3"
   },
   "source": [
    "###### **Two Principal Components**"
   ]
  },
  {
   "cell_type": "code",
   "execution_count": 13,
   "metadata": {
    "id": "qtnGsJrV-3yB"
   },
   "outputs": [],
   "source": [
    "from sklearn.decomposition import PCA"
   ]
  },
  {
   "cell_type": "markdown",
   "metadata": {
    "id": "rzALdqr3abQe"
   },
   "source": [
    "In the above code, you can transform this data into its first 2 principal components."
   ]
  },
  {
   "cell_type": "code",
   "execution_count": 14,
   "metadata": {
    "id": "rLpKqZaj-7BW"
   },
   "outputs": [],
   "source": [
    "pca = PCA(n_components=2)"
   ]
  },
  {
   "cell_type": "markdown",
   "metadata": {
    "id": "JwOnx9W3abQf"
   },
   "source": [
    "Now, you will pass the number of components (n_components=2)."
   ]
  },
  {
   "cell_type": "code",
   "execution_count": 15,
   "metadata": {
    "id": "TuoIPHU2--Gw"
   },
   "outputs": [
    {
     "data": {
      "text/plain": [
       "PCA(n_components=2)"
      ]
     },
     "execution_count": 15,
     "metadata": {},
     "output_type": "execute_result"
    }
   ],
   "source": [
    "pca.fit(scaled_data)"
   ]
  },
  {
   "cell_type": "code",
   "execution_count": 16,
   "metadata": {
    "id": "GokrRt0d_AzT"
   },
   "outputs": [],
   "source": [
    "x_pca = pca.transform(scaled_data)"
   ]
  },
  {
   "cell_type": "markdown",
   "metadata": {
    "id": "KAewA2u7abQf"
   },
   "source": [
    "Finally, call fit function to aggregate the data. Here, several components represent the lower dimension in which you will project your higher dimension data."
   ]
  },
  {
   "cell_type": "code",
   "execution_count": 17,
   "metadata": {
    "id": "lXYnVUEF_Cby"
   },
   "outputs": [
    {
     "data": {
      "text/plain": [
       "(569, 31)"
      ]
     },
     "execution_count": 17,
     "metadata": {},
     "output_type": "execute_result"
    }
   ],
   "source": [
    "#shape of data \n",
    "scaled_data.shape"
   ]
  },
  {
   "cell_type": "code",
   "execution_count": 18,
   "metadata": {
    "id": "aCsvA7l4_ThM"
   },
   "outputs": [
    {
     "data": {
      "text/plain": [
       "(569, 2)"
      ]
     },
     "execution_count": 18,
     "metadata": {},
     "output_type": "execute_result"
    }
   ],
   "source": [
    "x_pca.shape"
   ]
  },
  {
   "cell_type": "markdown",
   "metadata": {
    "id": "Lfd1Bha3_b_C"
   },
   "source": [
    "**Plot**   # NO Review"
   ]
  },
  {
   "cell_type": "code",
   "execution_count": 19,
   "metadata": {
    "id": "rVgf1GJz_Nxa"
   },
   "outputs": [
    {
     "data": {
      "text/plain": [
       "Text(0, 0.5, 'Second Principal Component')"
      ]
     },
     "execution_count": 19,
     "metadata": {},
     "output_type": "execute_result"
    },
    {
     "data": {
      "image/png": "[encoded data removed]",
      "text/plain": [
       "<Figure size 648x432 with 1 Axes>"
      ]
     },
     "metadata": {
      "needs_background": "light"
     },
     "output_type": "display_data"
    }
   ],
   "source": [
    "# Reduced 30 dimensions to just 2! Let's plot these two dimensions out!\n",
    "# Draw inference from the plot?\n",
    "plt.figure(figsize=(9,6))\n",
    "plt.scatter(x_pca[:,0],x_pca[:,1],c=target_data,cmap='viridis')\n",
    "plt.xlabel('First Principal Component')\n",
    "plt.ylabel('Second Principal Component')"
   ]
  },
  {
   "cell_type": "markdown",
   "metadata": {
    "id": "MQZSkCFBwcMP"
   },
   "source": [
    "**Interpreting the components:**\n",
    "\n",
    "Unfortunately, with this great power of dimensionality reduction, comes the cost of being able to easily understand what these components represent.\n",
    "\n",
    "The components correspond to combinations of the original features. The components themselves are stored as an attribute of the fitted PCA object:"
   ]
  },
  {
   "cell_type": "code",
   "execution_count": 20,
   "metadata": {
    "id": "MQe6DR4j_8Kc"
   },
   "outputs": [
    {
     "data": {
      "text/plain": [
       "array([[ 0.02291216,  0.21891302,  0.10384388,  0.22753491,  0.22104577,\n",
       "         0.14241471,  0.2390673 ,  0.25828025,  0.26073811,  0.13797774,\n",
       "         0.06414779,  0.20611747,  0.01741339,  0.21144652,  0.20307642,\n",
       "         0.01467821,  0.1702884 ,  0.15354367,  0.18340675,  0.04241552,\n",
       "         0.10249607,  0.22800935,  0.10451545,  0.23663734,  0.22493214,\n",
       "         0.12782441,  0.20988456,  0.22860218,  0.2507462 ,  0.12267993,\n",
       "         0.13156024],\n",
       "       [-0.03406849, -0.2332714 , -0.0600442 , -0.214589  , -0.23066882,\n",
       "         0.18642221,  0.15245473,  0.06054163, -0.03416739,  0.19068498,\n",
       "         0.36653106, -0.1059357 ,  0.08954779, -0.08980704, -0.15277129,\n",
       "         0.20318988,  0.23250336,  0.19684608,  0.12996518,  0.18355863,\n",
       "         0.27958414, -0.21929604, -0.04550122, -0.19929599, -0.21898546,\n",
       "         0.17256296,  0.14425364,  0.09852652, -0.00753437,  0.14261944,\n",
       "         0.27570208]])"
      ]
     },
     "execution_count": 20,
     "metadata": {},
     "output_type": "execute_result"
    }
   ],
   "source": [
    "pca.components_"
   ]
  },
  {
   "cell_type": "markdown",
   "metadata": {
    "id": "3DltT566wfcM"
   },
   "source": [
    "**Explained Variance:**\n",
    "\n",
    "The explained variance tells you how much information (variance) can be attributed to each of the principal components. This is important as you can convert n-dimensional space to 2-dimensional space; you lose some of the variance (information)."
   ]
  },
  {
   "cell_type": "code",
   "execution_count": 21,
   "metadata": {
    "id": "v-jPpt-HARxY"
   },
   "outputs": [
    {
     "data": {
      "text/plain": [
       "array([0.42864701, 0.18376792])"
      ]
     },
     "execution_count": 21,
     "metadata": {},
     "output_type": "execute_result"
    }
   ],
   "source": [
    "pca.explained_variance_ratio_"
   ]
  },
  {
   "cell_type": "markdown",
   "metadata": {
    "id": "3cz7HtJYAXz3"
   },
   "source": [
    "###### **Three Principal Components**"
   ]
  },
  {
   "cell_type": "code",
   "execution_count": 22,
   "metadata": {
    "id": "2QkMkwFvA3TQ"
   },
   "outputs": [],
   "source": [
    "pca_3 = PCA(n_components=3)\n",
    "pca_3.fit(scaled_data)\n",
    "x_pca_3 = pca_3.transform(scaled_data)"
   ]
  },
  {
   "cell_type": "markdown",
   "metadata": {
    "id": "40vyleINBXLC"
   },
   "source": [
    "In this Numpy matrix array, each row represents a principal component, and each column relates back to the original features. You can visualize this relationship with a heatmap:"
   ]
  },
  {
   "cell_type": "code",
   "execution_count": 23,
   "metadata": {
    "id": "m_st4_poBUMM"
   },
   "outputs": [
    {
     "data": {
      "text/plain": [
       "(569, 3)"
      ]
     },
     "execution_count": 23,
     "metadata": {},
     "output_type": "execute_result"
    }
   ],
   "source": [
    "x_pca_3.shape"
   ]
  },
  {
   "cell_type": "markdown",
   "metadata": {
    "id": "TH4BFXAvA07e"
   },
   "source": [
    "**What is the total variance attributed by three Components?**"
   ]
  },
  {
   "cell_type": "code",
   "execution_count": 24,
   "metadata": {
    "id": "Z76NmvBxB0_G"
   },
   "outputs": [
    {
     "data": {
      "text/plain": [
       "array([0.42864701, 0.18376792, 0.09146436])"
      ]
     },
     "execution_count": 24,
     "metadata": {},
     "output_type": "execute_result"
    }
   ],
   "source": [
    "pca_3.explained_variance_ratio_"
   ]
  },
  {
   "cell_type": "markdown",
   "metadata": {
    "id": "4oQTErVYZ-0x"
   },
   "source": [
    "## **Gist of LDA** "
   ]
  },
  {
   "cell_type": "markdown",
   "metadata": {
    "id": "x9Zmemx6aEIr"
   },
   "source": [
    "LDA identifies the linear combination of the observed variables that maximize\n",
    "the class<br> separation on the availability of the prior information of the classes.\n",
    "\n",
    "**For example:**<br>\n",
    "A variable in the training dataset that specifies the class of each observation"
   ]
  },
  {
   "cell_type": "markdown",
   "metadata": {
    "id": "AsO_qi71wBn2"
   },
   "source": [
    "### **LDA Process**"
   ]
  },
  {
   "cell_type": "markdown",
   "metadata": {
    "id": "XGwzNHcsuAW1"
   },
   "source": [
    "* Assume a set of D - dimensional samples {X(1, X(2, …, X(N}, N1 of which belong to class ω1 and N2 to class ω2\n",
    "* Obtain a scalar **y** by projecting the samples **x** onto a line: **Y = W$^T$ X**\n",
    "* Of all the possible lines, select the one that maximizes the separability of the scalars"
   ]
  },
  {
   "cell_type": "markdown",
   "metadata": {
    "id": "MzukDvb9wGYY"
   },
   "source": [
    "### **Line of Maximum Separability**"
   ]
  },
  {
   "cell_type": "markdown",
   "metadata": {
    "id": "tyAW-PGcv_nQ"
   },
   "source": [
    "The maximum separable line finds out the feature subspace such that class separability is also optimized.\n",
    "\n",
    "![Max S line](https://labcontent.simplicdn.net/data-content/content-assets/Data_and_AI/Applied_Machine_Learning/Images/0.6_Feature_Selection/Trainer_PPT_and_IPYNB/Max%20S%20line.JPG)\n"
   ]
  },
  {
   "cell_type": "markdown",
   "metadata": {
    "id": "9LSRhRKcD4UO"
   },
   "source": [
    "### **Finding Maximum Separable Line**"
   ]
  },
  {
   "cell_type": "markdown",
   "metadata": {
    "id": "qd9w8O84D7ed"
   },
   "source": [
    "#### **1. Measure of Separation**"
   ]
  },
  {
   "cell_type": "markdown",
   "metadata": {
    "id": "zh_m2tYHEugx"
   },
   "source": [
    "![MSL1](https://labcontent.simplicdn.net/data-content/content-assets/Data_and_AI/Applied_Machine_Learning/Images/0.6_Feature_Selection/Trainer_PPT_and_IPYNB/MSL1.JPG)"
   ]
  },
  {
   "cell_type": "markdown",
   "metadata": {
    "id": "iIQDMeQ6GBP7"
   },
   "source": [
    "#### **2. Linear Discriminant**"
   ]
  },
  {
   "cell_type": "markdown",
   "metadata": {
    "id": "emx55GzZFqls"
   },
   "source": [
    "![MSL2](https://labcontent.simplicdn.net/data-content/content-assets/Data_and_AI/Applied_Machine_Learning/Images/0.6_Feature_Selection/Trainer_PPT_and_IPYNB/MSL2.JPG)\n",
    "\n",
    "Note: Variables from same class are projected very close to each other and at the same time, the projected means are as farther apart as possible\n"
   ]
  },
  {
   "cell_type": "markdown",
   "metadata": {
    "id": "ha3o4Ue-Gfjs"
   },
   "source": [
    "#### **3. Optimum Projection**"
   ]
  },
  {
   "cell_type": "markdown",
   "metadata": {
    "id": "IA4DGgtdGifX"
   },
   "source": [
    "![MSL3](https://labcontent.simplicdn.net/data-content/content-assets/Data_and_AI/Applied_Machine_Learning/Images/0.6_Feature_Selection/Trainer_PPT_and_IPYNB/MSL3.JPG)"
   ]
  },
  {
   "cell_type": "markdown",
   "metadata": {
    "id": "b4VYUorfIG7S"
   },
   "source": [
    "#### **4. Obtain the Maxima**"
   ]
  },
  {
   "cell_type": "markdown",
   "metadata": {
    "id": "cyNQm_dyINie"
   },
   "source": [
    "![MSL4](https://labcontent.simplicdn.net/data-content/content-assets/Data_and_AI/Applied_Machine_Learning/Images/0.6_Feature_Selection/Trainer_PPT_and_IPYNB/MSL4.JPG)"
   ]
  },
  {
   "cell_type": "markdown",
   "metadata": {
    "id": "JCpPKcheJp_S"
   },
   "source": [
    "Let us perform LDA using the same dataset that we used for PCA."
   ]
  },
  {
   "cell_type": "markdown",
   "metadata": {
    "id": "RIjDR5IxKCjV"
   },
   "source": [
    "### **Use Case: Feature Selection in Cancer Dataset Using LDA**"
   ]
  },
  {
   "cell_type": "markdown",
   "metadata": {
    "id": "kFEot95iKOTP"
   },
   "source": [
    "Note: We are leveraging the problem statement, dataset, and data dictionary from the previous use case."
   ]
  },
  {
   "cell_type": "markdown",
   "metadata": {
    "id": "2GwCTiYJ4Hy-"
   },
   "source": [
    "#### **Problem Statement**"
   ]
  },
  {
   "cell_type": "markdown",
   "metadata": {
    "id": "poRkAj0T4Laa"
   },
   "source": [
    "John Cancer Hospital (JCH) is a leading cancer hospital in the USA. It specializes in preventing breast cancer. \n",
    "\n",
    "Over the last few years, JCH has collected breast cancer data from patients who came for screening or treatment. \n",
    "\n",
    "However, this data has 32 attributes and is difficult to run and interpret the result. As an ML expert,\n",
    "\n",
    " you have to reduce the number of attributes so that the results are meaningful and accurate. \n",
    "\n",
    " Use LDA for feature selection."
   ]
  },
  {
   "cell_type": "markdown",
   "metadata": {
    "id": "kWkqbieY4cmj"
   },
   "source": [
    "#### **Dataset**"
   ]
  },
  {
   "cell_type": "markdown",
   "metadata": {
    "id": "N34j4EX44gWz"
   },
   "source": [
    "Features of the dataset are computed from a digitized image of a Fine-Needle Aspirate (FNA) of a breast mass. \n",
    "\n",
    "They describe the characteristics of the cell nuclei present in the image."
   ]
  },
  {
   "cell_type": "markdown",
   "metadata": {
    "id": "6iuc3JR44j_j"
   },
   "source": [
    "#### **Data Dictionary**"
   ]
  },
  {
   "cell_type": "markdown",
   "metadata": {
    "id": "9CLyCeyZ4keo"
   },
   "source": [
    "**Dimensions:**\n",
    "* 32 variables\n",
    "* 569 observations"
   ]
  },
  {
   "cell_type": "markdown",
   "metadata": {
    "id": "z2MFYINo4m95"
   },
   "source": [
    "**Attribute Information:**\n",
    "\n",
    "1. ID number \n",
    "\n",
    "2. Diagnosis (M = malignant, B = benign)\n",
    "\n",
    "3. Attributes with mean values: <br>\n",
    "Ten real-valued features are computed for each cell nucleus:\n",
    "  * radius_mean (mean of distances from center to points on the perimeter)\n",
    "  * texture_mean (standard deviation of gray-scale values) \n",
    "  * perimeter_mean\n",
    "  * area_mean\n",
    "  * smoothness_mean (local variation in radius lengths)\n",
    "  * compactness_mean (perimeter$^2$ / area - 1.0)\n",
    "  * concavity_mean (severity of concave portions of the contour) \n",
    "  * concave points_mean (number of concave portions of the contour) \n",
    "  * symmetry_mean\n",
    "  * fractal dimension_mean (\"coastline approximation\" - 1)\n",
    "\n",
    "4. Attributes with standard error and worst/largest:\n",
    "  * radius_se\t\n",
    "  * texture_se\n",
    "  * perimeter_se\t\n",
    "  * area_se\t\n",
    "  * smoothness_se\t\n",
    "  * compactness_se\t\n",
    "  * concavity_se\t\n",
    "  * concave points_se\t\n",
    "  * symmetry_se\t\n",
    "  * fractal_dimension_se\t\n",
    "  * radius_worst\t\n",
    "  * texture_worst\t\n",
    "  * perimeter_worst\t\n",
    "  * area_worst\t\n",
    "  * smoothness_worst\t\n",
    "  * compactness_worst\t\n",
    "  * concavity_worst\t\n",
    "  * concave points_worst\t\n",
    "  * symmetry_worst\n",
    "  * fractal_dimension_worst\n"
   ]
  },
  {
   "cell_type": "markdown",
   "metadata": {
    "id": "sG04PZQG4uXR"
   },
   "source": [
    "#### **Solution**"
   ]
  },
  {
   "cell_type": "markdown",
   "metadata": {
    "id": "bx6dwqAAGJf2"
   },
   "source": [
    "##### **Import and Check the Data**  # CE Review"
   ]
  },
  {
   "cell_type": "code",
   "execution_count": 25,
   "metadata": {
    "id": "tPe9kQa3fNKw"
   },
   "outputs": [],
   "source": [
    "import pandas as pd\n",
    "import numpy as np\n",
    "from matplotlib import pyplot as plt\n",
    "from sklearn.discriminant_analysis import LinearDiscriminantAnalysis\n",
    "from sklearn.model_selection import KFold, cross_val_score, GridSearchCV, train_test_split\n",
    "from sklearn.metrics import accuracy_score, classification_report, confusion_matrix\n",
    "import seaborn as sns"
   ]
  },
  {
   "cell_type": "markdown",
   "metadata": {
    "id": "pqnSgJ94abQq"
   },
   "source": [
    "In the above code, you are importing different files: pandas, numpy, pyplot, LinearDiscriminantAnalysis, KFold, cross_val_score, GridSearchCV, train_test_split,accuracy_score, classification_report, confusion_matrix and seaborn. To get to know them better, you can start the notebook from the beginning."
   ]
  },
  {
   "cell_type": "code",
   "execution_count": 26,
   "metadata": {
    "id": "Q79TV8lAfNqh"
   },
   "outputs": [],
   "source": [
    "\n",
    "# load data\n",
    "\n",
    "df = pd.read_csv('breast-cancer-data.csv')"
   ]
  },
  {
   "cell_type": "markdown",
   "metadata": {
    "id": "odsPvUeoabQr"
   },
   "source": [
    "Before reading data from a csv file, you need to download the \"breast-cancer-data.csv\" dataset from the resource section and upload it into the lab.\n",
    "We will use the Up arrow icon, which is shown on the left side under the View icon. Click on the Up arrow icon and upload the filewhereever it has been downloaded into your system.\n",
    "\n",
    "After this, you will see the downloaded file will be visible on the left side of your lab with all the .pynb files."
   ]
  },
  {
   "cell_type": "code",
   "execution_count": 27,
   "metadata": {
    "id": "HrUnze6qfPrB"
   },
   "outputs": [],
   "source": [
    "\n",
    "df = df.head(559)"
   ]
  },
  {
   "cell_type": "code",
   "execution_count": 28,
   "metadata": {
    "id": "xKubCVWffRwL"
   },
   "outputs": [
    {
     "data": {
      "text/plain": [
       "(559, 32)"
      ]
     },
     "execution_count": 28,
     "metadata": {},
     "output_type": "execute_result"
    }
   ],
   "source": [
    "df.shape"
   ]
  },
  {
   "cell_type": "markdown",
   "metadata": {
    "id": "k2eN0nxFabQs"
   },
   "source": [
    "df.shape will show the number of rows and columns in the dataframe."
   ]
  },
  {
   "cell_type": "code",
   "execution_count": 29,
   "metadata": {
    "id": "SG0s7Q2afWi2"
   },
   "outputs": [],
   "source": [
    "# map categorical variable 'diagnosis' into numeric\n",
    "\n",
    "df.diagnosis = df.diagnosis.map({'M': 1, 'B': 0})"
   ]
  },
  {
   "cell_type": "markdown",
   "metadata": {
    "id": "N0C0bb-2abQs"
   },
   "source": [
    "In the above code, you are encoding the column diagnosis in which we are encoding M as 1 and B as 0."
   ]
  },
  {
   "cell_type": "code",
   "execution_count": 30,
   "metadata": {
    "id": "mdSR7qLEfYry"
   },
   "outputs": [
    {
     "data": {
      "text/html": [
       "<div>\n",
       "<style scoped>\n",
       "    .dataframe tbody tr th:only-of-type {\n",
       "        vertical-align: middle;\n",
       "    }\n",
       "\n",
       "    .dataframe tbody tr th {\n",
       "        vertical-align: top;\n",
       "    }\n",
       "\n",
       "    .dataframe thead th {\n",
       "        text-align: right;\n",
       "    }\n",
       "</style>\n",
       "<table border=\"1\" class=\"dataframe\">\n",
       "  <thead>\n",
       "    <tr style=\"text-align: right;\">\n",
       "      <th></th>\n",
       "      <th>id</th>\n",
       "      <th>diagnosis</th>\n",
       "      <th>radius_mean</th>\n",
       "      <th>texture_mean</th>\n",
       "      <th>perimeter_mean</th>\n",
       "      <th>area_mean</th>\n",
       "      <th>smoothness_mean</th>\n",
       "      <th>compactness_mean</th>\n",
       "      <th>concavity_mean</th>\n",
       "      <th>concave points_mean</th>\n",
       "      <th>...</th>\n",
       "      <th>radius_worst</th>\n",
       "      <th>texture_worst</th>\n",
       "      <th>perimeter_worst</th>\n",
       "      <th>area_worst</th>\n",
       "      <th>smoothness_worst</th>\n",
       "      <th>compactness_worst</th>\n",
       "      <th>concavity_worst</th>\n",
       "      <th>concave points_worst</th>\n",
       "      <th>symmetry_worst</th>\n",
       "      <th>fractal_dimension_worst</th>\n",
       "    </tr>\n",
       "  </thead>\n",
       "  <tbody>\n",
       "    <tr>\n",
       "      <th>0</th>\n",
       "      <td>842302</td>\n",
       "      <td>1</td>\n",
       "      <td>17.99</td>\n",
       "      <td>10.38</td>\n",
       "      <td>122.80</td>\n",
       "      <td>1001.0</td>\n",
       "      <td>0.11840</td>\n",
       "      <td>0.27760</td>\n",
       "      <td>0.3001</td>\n",
       "      <td>0.14710</td>\n",
       "      <td>...</td>\n",
       "      <td>25.38</td>\n",
       "      <td>17.33</td>\n",
       "      <td>184.60</td>\n",
       "      <td>2019.0</td>\n",
       "      <td>0.1622</td>\n",
       "      <td>0.6656</td>\n",
       "      <td>0.7119</td>\n",
       "      <td>0.2654</td>\n",
       "      <td>0.4601</td>\n",
       "      <td>0.11890</td>\n",
       "    </tr>\n",
       "    <tr>\n",
       "      <th>1</th>\n",
       "      <td>842517</td>\n",
       "      <td>1</td>\n",
       "      <td>20.57</td>\n",
       "      <td>17.77</td>\n",
       "      <td>132.90</td>\n",
       "      <td>1326.0</td>\n",
       "      <td>0.08474</td>\n",
       "      <td>0.07864</td>\n",
       "      <td>0.0869</td>\n",
       "      <td>0.07017</td>\n",
       "      <td>...</td>\n",
       "      <td>24.99</td>\n",
       "      <td>23.41</td>\n",
       "      <td>158.80</td>\n",
       "      <td>1956.0</td>\n",
       "      <td>0.1238</td>\n",
       "      <td>0.1866</td>\n",
       "      <td>0.2416</td>\n",
       "      <td>0.1860</td>\n",
       "      <td>0.2750</td>\n",
       "      <td>0.08902</td>\n",
       "    </tr>\n",
       "    <tr>\n",
       "      <th>2</th>\n",
       "      <td>84300903</td>\n",
       "      <td>1</td>\n",
       "      <td>19.69</td>\n",
       "      <td>21.25</td>\n",
       "      <td>130.00</td>\n",
       "      <td>1203.0</td>\n",
       "      <td>0.10960</td>\n",
       "      <td>0.15990</td>\n",
       "      <td>0.1974</td>\n",
       "      <td>0.12790</td>\n",
       "      <td>...</td>\n",
       "      <td>23.57</td>\n",
       "      <td>25.53</td>\n",
       "      <td>152.50</td>\n",
       "      <td>1709.0</td>\n",
       "      <td>0.1444</td>\n",
       "      <td>0.4245</td>\n",
       "      <td>0.4504</td>\n",
       "      <td>0.2430</td>\n",
       "      <td>0.3613</td>\n",
       "      <td>0.08758</td>\n",
       "    </tr>\n",
       "    <tr>\n",
       "      <th>3</th>\n",
       "      <td>84348301</td>\n",
       "      <td>1</td>\n",
       "      <td>11.42</td>\n",
       "      <td>20.38</td>\n",
       "      <td>77.58</td>\n",
       "      <td>386.1</td>\n",
       "      <td>0.14250</td>\n",
       "      <td>0.28390</td>\n",
       "      <td>0.2414</td>\n",
       "      <td>0.10520</td>\n",
       "      <td>...</td>\n",
       "      <td>14.91</td>\n",
       "      <td>26.50</td>\n",
       "      <td>98.87</td>\n",
       "      <td>567.7</td>\n",
       "      <td>0.2098</td>\n",
       "      <td>0.8663</td>\n",
       "      <td>0.6869</td>\n",
       "      <td>0.2575</td>\n",
       "      <td>0.6638</td>\n",
       "      <td>0.17300</td>\n",
       "    </tr>\n",
       "    <tr>\n",
       "      <th>4</th>\n",
       "      <td>84358402</td>\n",
       "      <td>1</td>\n",
       "      <td>20.29</td>\n",
       "      <td>14.34</td>\n",
       "      <td>135.10</td>\n",
       "      <td>1297.0</td>\n",
       "      <td>0.10030</td>\n",
       "      <td>0.13280</td>\n",
       "      <td>0.1980</td>\n",
       "      <td>0.10430</td>\n",
       "      <td>...</td>\n",
       "      <td>22.54</td>\n",
       "      <td>16.67</td>\n",
       "      <td>152.20</td>\n",
       "      <td>1575.0</td>\n",
       "      <td>0.1374</td>\n",
       "      <td>0.2050</td>\n",
       "      <td>0.4000</td>\n",
       "      <td>0.1625</td>\n",
       "      <td>0.2364</td>\n",
       "      <td>0.07678</td>\n",
       "    </tr>\n",
       "  </tbody>\n",
       "</table>\n",
       "<p>5 rows × 32 columns</p>\n",
       "</div>"
      ],
      "text/plain": [
       "         id  diagnosis  radius_mean  texture_mean  perimeter_mean  area_mean  \\\n",
       "0    842302          1        17.99         10.38          122.80     1001.0   \n",
       "1    842517          1        20.57         17.77          132.90     1326.0   \n",
       "2  84300903          1        19.69         21.25          130.00     1203.0   \n",
       "3  84348301          1        11.42         20.38           77.58      386.1   \n",
       "4  84358402          1        20.29         14.34          135.10     1297.0   \n",
       "\n",
       "   smoothness_mean  compactness_mean  concavity_mean  concave points_mean  \\\n",
       "0          0.11840           0.27760          0.3001              0.14710   \n",
       "1          0.08474           0.07864          0.0869              0.07017   \n",
       "2          0.10960           0.15990          0.1974              0.12790   \n",
       "3          0.14250           0.28390          0.2414              0.10520   \n",
       "4          0.10030           0.13280          0.1980              0.10430   \n",
       "\n",
       "   ...  radius_worst  texture_worst  perimeter_worst  area_worst  \\\n",
       "0  ...         25.38          17.33           184.60      2019.0   \n",
       "1  ...         24.99          23.41           158.80      1956.0   \n",
       "2  ...         23.57          25.53           152.50      1709.0   \n",
       "3  ...         14.91          26.50            98.87       567.7   \n",
       "4  ...         22.54          16.67           152.20      1575.0   \n",
       "\n",
       "   smoothness_worst  compactness_worst  concavity_worst  concave points_worst  \\\n",
       "0            0.1622             0.6656           0.7119                0.2654   \n",
       "1            0.1238             0.1866           0.2416                0.1860   \n",
       "2            0.1444             0.4245           0.4504                0.2430   \n",
       "3            0.2098             0.8663           0.6869                0.2575   \n",
       "4            0.1374             0.2050           0.4000                0.1625   \n",
       "\n",
       "   symmetry_worst  fractal_dimension_worst  \n",
       "0          0.4601                  0.11890  \n",
       "1          0.2750                  0.08902  \n",
       "2          0.3613                  0.08758  \n",
       "3          0.6638                  0.17300  \n",
       "4          0.2364                  0.07678  \n",
       "\n",
       "[5 rows x 32 columns]"
      ]
     },
     "execution_count": 30,
     "metadata": {},
     "output_type": "execute_result"
    }
   ],
   "source": [
    "# head will show the rows and () default take 5 top rows as output.\n",
    "df.head(5)"
   ]
  },
  {
   "cell_type": "code",
   "execution_count": 31,
   "metadata": {
    "id": "B30VKmvafbCA"
   },
   "outputs": [
    {
     "data": {
      "text/plain": [
       "Index(['id', 'diagnosis', 'radius_mean', 'texture_mean', 'perimeter_mean',\n",
       "       'area_mean', 'smoothness_mean', 'compactness_mean', 'concavity_mean',\n",
       "       'concave points_mean', 'symmetry_mean', 'fractal_dimension_mean',\n",
       "       'radius_se', 'texture_se', 'perimeter_se', 'area_se', 'smoothness_se',\n",
       "       'compactness_se', 'concavity_se', 'concave points_se', 'symmetry_se',\n",
       "       'fractal_dimension_se', 'radius_worst', 'texture_worst',\n",
       "       'perimeter_worst', 'area_worst', 'smoothness_worst',\n",
       "       'compactness_worst', 'concavity_worst', 'concave points_worst',\n",
       "       'symmetry_worst', 'fractal_dimension_worst'],\n",
       "      dtype='object')"
      ]
     },
     "execution_count": 31,
     "metadata": {},
     "output_type": "execute_result"
    }
   ],
   "source": [
    "df.columns"
   ]
  },
  {
   "cell_type": "code",
   "execution_count": 32,
   "metadata": {
    "id": "Fa3aGeFwfeP6"
   },
   "outputs": [],
   "source": [
    "# Drop redundant column 'id'\n",
    "\n",
    "df.drop('id', axis=1, inplace=True)"
   ]
  },
  {
   "cell_type": "code",
   "execution_count": 33,
   "metadata": {
    "id": "wVrGs5kdfea9"
   },
   "outputs": [
    {
     "data": {
      "text/plain": [
       "diagnosis                  False\n",
       "radius_mean                False\n",
       "texture_mean               False\n",
       "perimeter_mean             False\n",
       "area_mean                  False\n",
       "smoothness_mean            False\n",
       "compactness_mean           False\n",
       "concavity_mean             False\n",
       "concave points_mean        False\n",
       "symmetry_mean              False\n",
       "fractal_dimension_mean     False\n",
       "radius_se                  False\n",
       "texture_se                 False\n",
       "perimeter_se               False\n",
       "area_se                    False\n",
       "smoothness_se              False\n",
       "compactness_se             False\n",
       "concavity_se               False\n",
       "concave points_se          False\n",
       "symmetry_se                False\n",
       "fractal_dimension_se       False\n",
       "radius_worst               False\n",
       "texture_worst              False\n",
       "perimeter_worst            False\n",
       "area_worst                 False\n",
       "smoothness_worst           False\n",
       "compactness_worst          False\n",
       "concavity_worst            False\n",
       "concave points_worst       False\n",
       "symmetry_worst             False\n",
       "fractal_dimension_worst    False\n",
       "dtype: bool"
      ]
     },
     "execution_count": 33,
     "metadata": {},
     "output_type": "execute_result"
    }
   ],
   "source": [
    "# Check for NA values\n",
    "\n",
    "df.isna().any()"
   ]
  },
  {
   "cell_type": "code",
   "execution_count": 34,
   "metadata": {
    "id": "OnFJGb9MfcO7"
   },
   "outputs": [],
   "source": [
    "X_train, X_val, y_train, y_val = train_test_split(df.iloc[:,:-1], df['diagnosis'], train_size=0.8, test_size=0.2, random_state=120)"
   ]
  },
  {
   "cell_type": "markdown",
   "metadata": {
    "id": "Poimqol4abQu"
   },
   "source": [
    "In the above code, you split the data into training and validation sets (since we already have a separate test set).\n"
   ]
  },
  {
   "cell_type": "code",
   "execution_count": 37,
   "metadata": {
    "id": "0uM1mKJQfcdO"
   },
   "outputs": [],
   "source": [
    "from sklearn.preprocessing import Normalizer\n",
    "\n",
    "norm = Normalizer()\n",
    "norm.fit(X_train)\n",
    "X_train_norm = norm.transform(X_train)\n",
    "X_val_norm = norm.transform(X_val)"
   ]
  },
  {
   "cell_type": "code",
   "execution_count": 43,
   "metadata": {},
   "outputs": [
    {
     "data": {
      "text/html": [
       "<div>\n",
       "<style scoped>\n",
       "    .dataframe tbody tr th:only-of-type {\n",
       "        vertical-align: middle;\n",
       "    }\n",
       "\n",
       "    .dataframe tbody tr th {\n",
       "        vertical-align: top;\n",
       "    }\n",
       "\n",
       "    .dataframe thead th {\n",
       "        text-align: right;\n",
       "    }\n",
       "</style>\n",
       "<table border=\"1\" class=\"dataframe\">\n",
       "  <thead>\n",
       "    <tr style=\"text-align: right;\">\n",
       "      <th></th>\n",
       "      <th>0</th>\n",
       "      <th>1</th>\n",
       "      <th>2</th>\n",
       "      <th>3</th>\n",
       "      <th>4</th>\n",
       "      <th>5</th>\n",
       "      <th>6</th>\n",
       "      <th>7</th>\n",
       "      <th>8</th>\n",
       "      <th>9</th>\n",
       "      <th>...</th>\n",
       "      <th>20</th>\n",
       "      <th>21</th>\n",
       "      <th>22</th>\n",
       "      <th>23</th>\n",
       "      <th>24</th>\n",
       "      <th>25</th>\n",
       "      <th>26</th>\n",
       "      <th>27</th>\n",
       "      <th>28</th>\n",
       "      <th>29</th>\n",
       "    </tr>\n",
       "  </thead>\n",
       "  <tbody>\n",
       "    <tr>\n",
       "      <th>0</th>\n",
       "      <td>0.000576</td>\n",
       "      <td>0.011009</td>\n",
       "      <td>0.015153</td>\n",
       "      <td>0.074413</td>\n",
       "      <td>0.652480</td>\n",
       "      <td>0.000070</td>\n",
       "      <td>0.000103</td>\n",
       "      <td>0.000112</td>\n",
       "      <td>0.000085</td>\n",
       "      <td>0.000094</td>\n",
       "      <td>...</td>\n",
       "      <td>0.000006</td>\n",
       "      <td>0.011718</td>\n",
       "      <td>0.018860</td>\n",
       "      <td>0.081445</td>\n",
       "      <td>0.748161</td>\n",
       "      <td>0.000080</td>\n",
       "      <td>0.000162</td>\n",
       "      <td>0.000140</td>\n",
       "      <td>0.000106</td>\n",
       "      <td>0.000133</td>\n",
       "    </tr>\n",
       "    <tr>\n",
       "      <th>1</th>\n",
       "      <td>0.000747</td>\n",
       "      <td>0.010967</td>\n",
       "      <td>0.015038</td>\n",
       "      <td>0.070776</td>\n",
       "      <td>0.511362</td>\n",
       "      <td>0.000074</td>\n",
       "      <td>0.000054</td>\n",
       "      <td>0.000055</td>\n",
       "      <td>0.000039</td>\n",
       "      <td>0.000118</td>\n",
       "      <td>...</td>\n",
       "      <td>0.000002</td>\n",
       "      <td>0.014246</td>\n",
       "      <td>0.023069</td>\n",
       "      <td>0.092187</td>\n",
       "      <td>0.850154</td>\n",
       "      <td>0.000109</td>\n",
       "      <td>0.000140</td>\n",
       "      <td>0.000218</td>\n",
       "      <td>0.000120</td>\n",
       "      <td>0.000226</td>\n",
       "    </tr>\n",
       "    <tr>\n",
       "      <th>2</th>\n",
       "      <td>0.000000</td>\n",
       "      <td>0.013731</td>\n",
       "      <td>0.009846</td>\n",
       "      <td>0.089734</td>\n",
       "      <td>0.652229</td>\n",
       "      <td>0.000091</td>\n",
       "      <td>0.000113</td>\n",
       "      <td>0.000104</td>\n",
       "      <td>0.000054</td>\n",
       "      <td>0.000156</td>\n",
       "      <td>...</td>\n",
       "      <td>0.000002</td>\n",
       "      <td>0.014848</td>\n",
       "      <td>0.012395</td>\n",
       "      <td>0.098201</td>\n",
       "      <td>0.745717</td>\n",
       "      <td>0.000135</td>\n",
       "      <td>0.000260</td>\n",
       "      <td>0.000350</td>\n",
       "      <td>0.000127</td>\n",
       "      <td>0.000223</td>\n",
       "    </tr>\n",
       "    <tr>\n",
       "      <th>3</th>\n",
       "      <td>0.000945</td>\n",
       "      <td>0.013630</td>\n",
       "      <td>0.018687</td>\n",
       "      <td>0.089307</td>\n",
       "      <td>0.607320</td>\n",
       "      <td>0.000092</td>\n",
       "      <td>0.000108</td>\n",
       "      <td>0.000089</td>\n",
       "      <td>0.000055</td>\n",
       "      <td>0.000178</td>\n",
       "      <td>...</td>\n",
       "      <td>0.000004</td>\n",
       "      <td>0.015436</td>\n",
       "      <td>0.029170</td>\n",
       "      <td>0.103504</td>\n",
       "      <td>0.781150</td>\n",
       "      <td>0.000135</td>\n",
       "      <td>0.000286</td>\n",
       "      <td>0.000302</td>\n",
       "      <td>0.000148</td>\n",
       "      <td>0.000257</td>\n",
       "    </tr>\n",
       "    <tr>\n",
       "      <th>4</th>\n",
       "      <td>0.000000</td>\n",
       "      <td>0.020079</td>\n",
       "      <td>0.031810</td>\n",
       "      <td>0.127067</td>\n",
       "      <td>0.632124</td>\n",
       "      <td>0.000184</td>\n",
       "      <td>0.000097</td>\n",
       "      <td>0.000020</td>\n",
       "      <td>0.000011</td>\n",
       "      <td>0.000367</td>\n",
       "      <td>...</td>\n",
       "      <td>0.000005</td>\n",
       "      <td>0.021888</td>\n",
       "      <td>0.042356</td>\n",
       "      <td>0.138371</td>\n",
       "      <td>0.748860</td>\n",
       "      <td>0.000250</td>\n",
       "      <td>0.000172</td>\n",
       "      <td>0.000085</td>\n",
       "      <td>0.000046</td>\n",
       "      <td>0.000522</td>\n",
       "    </tr>\n",
       "    <tr>\n",
       "      <th>...</th>\n",
       "      <td>...</td>\n",
       "      <td>...</td>\n",
       "      <td>...</td>\n",
       "      <td>...</td>\n",
       "      <td>...</td>\n",
       "      <td>...</td>\n",
       "      <td>...</td>\n",
       "      <td>...</td>\n",
       "      <td>...</td>\n",
       "      <td>...</td>\n",
       "      <td>...</td>\n",
       "      <td>...</td>\n",
       "      <td>...</td>\n",
       "      <td>...</td>\n",
       "      <td>...</td>\n",
       "      <td>...</td>\n",
       "      <td>...</td>\n",
       "      <td>...</td>\n",
       "      <td>...</td>\n",
       "      <td>...</td>\n",
       "      <td>...</td>\n",
       "    </tr>\n",
       "    <tr>\n",
       "      <th>442</th>\n",
       "      <td>0.000417</td>\n",
       "      <td>0.008136</td>\n",
       "      <td>0.007874</td>\n",
       "      <td>0.053950</td>\n",
       "      <td>0.507005</td>\n",
       "      <td>0.000048</td>\n",
       "      <td>0.000068</td>\n",
       "      <td>0.000092</td>\n",
       "      <td>0.000044</td>\n",
       "      <td>0.000075</td>\n",
       "      <td>...</td>\n",
       "      <td>0.000002</td>\n",
       "      <td>0.010802</td>\n",
       "      <td>0.010932</td>\n",
       "      <td>0.071281</td>\n",
       "      <td>0.855284</td>\n",
       "      <td>0.000062</td>\n",
       "      <td>0.000171</td>\n",
       "      <td>0.000255</td>\n",
       "      <td>0.000082</td>\n",
       "      <td>0.000124</td>\n",
       "    </tr>\n",
       "    <tr>\n",
       "      <th>443</th>\n",
       "      <td>0.000000</td>\n",
       "      <td>0.015782</td>\n",
       "      <td>0.016536</td>\n",
       "      <td>0.101777</td>\n",
       "      <td>0.623475</td>\n",
       "      <td>0.000109</td>\n",
       "      <td>0.000098</td>\n",
       "      <td>0.000050</td>\n",
       "      <td>0.000032</td>\n",
       "      <td>0.000198</td>\n",
       "      <td>...</td>\n",
       "      <td>0.000005</td>\n",
       "      <td>0.017550</td>\n",
       "      <td>0.020284</td>\n",
       "      <td>0.113836</td>\n",
       "      <td>0.765337</td>\n",
       "      <td>0.000148</td>\n",
       "      <td>0.000273</td>\n",
       "      <td>0.000219</td>\n",
       "      <td>0.000104</td>\n",
       "      <td>0.000317</td>\n",
       "    </tr>\n",
       "    <tr>\n",
       "      <th>444</th>\n",
       "      <td>0.000709</td>\n",
       "      <td>0.011360</td>\n",
       "      <td>0.016479</td>\n",
       "      <td>0.072824</td>\n",
       "      <td>0.565713</td>\n",
       "      <td>0.000058</td>\n",
       "      <td>0.000047</td>\n",
       "      <td>0.000023</td>\n",
       "      <td>0.000024</td>\n",
       "      <td>0.000108</td>\n",
       "      <td>...</td>\n",
       "      <td>0.000002</td>\n",
       "      <td>0.013607</td>\n",
       "      <td>0.024024</td>\n",
       "      <td>0.087785</td>\n",
       "      <td>0.815455</td>\n",
       "      <td>0.000084</td>\n",
       "      <td>0.000110</td>\n",
       "      <td>0.000103</td>\n",
       "      <td>0.000071</td>\n",
       "      <td>0.000209</td>\n",
       "    </tr>\n",
       "    <tr>\n",
       "      <th>445</th>\n",
       "      <td>0.000000</td>\n",
       "      <td>0.017871</td>\n",
       "      <td>0.033696</td>\n",
       "      <td>0.116794</td>\n",
       "      <td>0.664131</td>\n",
       "      <td>0.000103</td>\n",
       "      <td>0.000159</td>\n",
       "      <td>0.000118</td>\n",
       "      <td>0.000044</td>\n",
       "      <td>0.000178</td>\n",
       "      <td>...</td>\n",
       "      <td>0.000011</td>\n",
       "      <td>0.018643</td>\n",
       "      <td>0.042580</td>\n",
       "      <td>0.129563</td>\n",
       "      <td>0.724344</td>\n",
       "      <td>0.000130</td>\n",
       "      <td>0.000477</td>\n",
       "      <td>0.000432</td>\n",
       "      <td>0.000162</td>\n",
       "      <td>0.000325</td>\n",
       "    </tr>\n",
       "    <tr>\n",
       "      <th>446</th>\n",
       "      <td>0.000000</td>\n",
       "      <td>0.017071</td>\n",
       "      <td>0.018034</td>\n",
       "      <td>0.108767</td>\n",
       "      <td>0.634995</td>\n",
       "      <td>0.000132</td>\n",
       "      <td>0.000074</td>\n",
       "      <td>0.000028</td>\n",
       "      <td>0.000028</td>\n",
       "      <td>0.000225</td>\n",
       "      <td>...</td>\n",
       "      <td>0.000004</td>\n",
       "      <td>0.018600</td>\n",
       "      <td>0.026059</td>\n",
       "      <td>0.119016</td>\n",
       "      <td>0.754181</td>\n",
       "      <td>0.000180</td>\n",
       "      <td>0.000174</td>\n",
       "      <td>0.000122</td>\n",
       "      <td>0.000099</td>\n",
       "      <td>0.000356</td>\n",
       "    </tr>\n",
       "  </tbody>\n",
       "</table>\n",
       "<p>447 rows × 30 columns</p>\n",
       "</div>"
      ],
      "text/plain": [
       "           0         1         2         3         4         5         6   \\\n",
       "0    0.000576  0.011009  0.015153  0.074413  0.652480  0.000070  0.000103   \n",
       "1    0.000747  0.010967  0.015038  0.070776  0.511362  0.000074  0.000054   \n",
       "2    0.000000  0.013731  0.009846  0.089734  0.652229  0.000091  0.000113   \n",
       "3    0.000945  0.013630  0.018687  0.089307  0.607320  0.000092  0.000108   \n",
       "4    0.000000  0.020079  0.031810  0.127067  0.632124  0.000184  0.000097   \n",
       "..        ...       ...       ...       ...       ...       ...       ...   \n",
       "442  0.000417  0.008136  0.007874  0.053950  0.507005  0.000048  0.000068   \n",
       "443  0.000000  0.015782  0.016536  0.101777  0.623475  0.000109  0.000098   \n",
       "444  0.000709  0.011360  0.016479  0.072824  0.565713  0.000058  0.000047   \n",
       "445  0.000000  0.017871  0.033696  0.116794  0.664131  0.000103  0.000159   \n",
       "446  0.000000  0.017071  0.018034  0.108767  0.634995  0.000132  0.000074   \n",
       "\n",
       "           7         8         9   ...        20        21        22  \\\n",
       "0    0.000112  0.000085  0.000094  ...  0.000006  0.011718  0.018860   \n",
       "1    0.000055  0.000039  0.000118  ...  0.000002  0.014246  0.023069   \n",
       "2    0.000104  0.000054  0.000156  ...  0.000002  0.014848  0.012395   \n",
       "3    0.000089  0.000055  0.000178  ...  0.000004  0.015436  0.029170   \n",
       "4    0.000020  0.000011  0.000367  ...  0.000005  0.021888  0.042356   \n",
       "..        ...       ...       ...  ...       ...       ...       ...   \n",
       "442  0.000092  0.000044  0.000075  ...  0.000002  0.010802  0.010932   \n",
       "443  0.000050  0.000032  0.000198  ...  0.000005  0.017550  0.020284   \n",
       "444  0.000023  0.000024  0.000108  ...  0.000002  0.013607  0.024024   \n",
       "445  0.000118  0.000044  0.000178  ...  0.000011  0.018643  0.042580   \n",
       "446  0.000028  0.000028  0.000225  ...  0.000004  0.018600  0.026059   \n",
       "\n",
       "           23        24        25        26        27        28        29  \n",
       "0    0.081445  0.748161  0.000080  0.000162  0.000140  0.000106  0.000133  \n",
       "1    0.092187  0.850154  0.000109  0.000140  0.000218  0.000120  0.000226  \n",
       "2    0.098201  0.745717  0.000135  0.000260  0.000350  0.000127  0.000223  \n",
       "3    0.103504  0.781150  0.000135  0.000286  0.000302  0.000148  0.000257  \n",
       "4    0.138371  0.748860  0.000250  0.000172  0.000085  0.000046  0.000522  \n",
       "..        ...       ...       ...       ...       ...       ...       ...  \n",
       "442  0.071281  0.855284  0.000062  0.000171  0.000255  0.000082  0.000124  \n",
       "443  0.113836  0.765337  0.000148  0.000273  0.000219  0.000104  0.000317  \n",
       "444  0.087785  0.815455  0.000084  0.000110  0.000103  0.000071  0.000209  \n",
       "445  0.129563  0.724344  0.000130  0.000477  0.000432  0.000162  0.000325  \n",
       "446  0.119016  0.754181  0.000180  0.000174  0.000122  0.000099  0.000356  \n",
       "\n",
       "[447 rows x 30 columns]"
      ]
     },
     "execution_count": 43,
     "metadata": {},
     "output_type": "execute_result"
    }
   ],
   "source": [
    "pd.DataFrame(X_train_norm)"
   ]
  },
  {
   "cell_type": "code",
   "execution_count": 42,
   "metadata": {},
   "outputs": [
    {
     "data": {
      "text/html": [
       "<div>\n",
       "<style scoped>\n",
       "    .dataframe tbody tr th:only-of-type {\n",
       "        vertical-align: middle;\n",
       "    }\n",
       "\n",
       "    .dataframe tbody tr th {\n",
       "        vertical-align: top;\n",
       "    }\n",
       "\n",
       "    .dataframe thead th {\n",
       "        text-align: right;\n",
       "    }\n",
       "</style>\n",
       "<table border=\"1\" class=\"dataframe\">\n",
       "  <thead>\n",
       "    <tr style=\"text-align: right;\">\n",
       "      <th></th>\n",
       "      <th>0</th>\n",
       "      <th>1</th>\n",
       "      <th>2</th>\n",
       "      <th>3</th>\n",
       "      <th>4</th>\n",
       "      <th>5</th>\n",
       "      <th>6</th>\n",
       "      <th>7</th>\n",
       "      <th>8</th>\n",
       "      <th>9</th>\n",
       "      <th>...</th>\n",
       "      <th>20</th>\n",
       "      <th>21</th>\n",
       "      <th>22</th>\n",
       "      <th>23</th>\n",
       "      <th>24</th>\n",
       "      <th>25</th>\n",
       "      <th>26</th>\n",
       "      <th>27</th>\n",
       "      <th>28</th>\n",
       "      <th>29</th>\n",
       "    </tr>\n",
       "  </thead>\n",
       "  <tbody>\n",
       "    <tr>\n",
       "      <th>0</th>\n",
       "      <td>0.000000</td>\n",
       "      <td>0.015202</td>\n",
       "      <td>0.021504</td>\n",
       "      <td>0.099673</td>\n",
       "      <td>0.581984</td>\n",
       "      <td>0.000144</td>\n",
       "      <td>0.000196</td>\n",
       "      <td>0.000057</td>\n",
       "      <td>0.000063</td>\n",
       "      <td>0.000202</td>\n",
       "      <td>...</td>\n",
       "      <td>0.000004</td>\n",
       "      <td>0.017763</td>\n",
       "      <td>0.028763</td>\n",
       "      <td>0.117211</td>\n",
       "      <td>0.796318</td>\n",
       "      <td>0.000172</td>\n",
       "      <td>0.000349</td>\n",
       "      <td>0.000147</td>\n",
       "      <td>0.000129</td>\n",
       "      <td>0.000305</td>\n",
       "    </tr>\n",
       "    <tr>\n",
       "      <th>1</th>\n",
       "      <td>0.000000</td>\n",
       "      <td>0.015234</td>\n",
       "      <td>0.021300</td>\n",
       "      <td>0.099342</td>\n",
       "      <td>0.629315</td>\n",
       "      <td>0.000119</td>\n",
       "      <td>0.000129</td>\n",
       "      <td>0.000097</td>\n",
       "      <td>0.000061</td>\n",
       "      <td>0.000204</td>\n",
       "      <td>...</td>\n",
       "      <td>0.000003</td>\n",
       "      <td>0.016689</td>\n",
       "      <td>0.030671</td>\n",
       "      <td>0.109750</td>\n",
       "      <td>0.761357</td>\n",
       "      <td>0.000161</td>\n",
       "      <td>0.000290</td>\n",
       "      <td>0.000388</td>\n",
       "      <td>0.000164</td>\n",
       "      <td>0.000301</td>\n",
       "    </tr>\n",
       "    <tr>\n",
       "      <th>2</th>\n",
       "      <td>0.000000</td>\n",
       "      <td>0.022305</td>\n",
       "      <td>0.038917</td>\n",
       "      <td>0.142552</td>\n",
       "      <td>0.605483</td>\n",
       "      <td>0.000208</td>\n",
       "      <td>0.000193</td>\n",
       "      <td>0.000119</td>\n",
       "      <td>0.000060</td>\n",
       "      <td>0.000485</td>\n",
       "      <td>...</td>\n",
       "      <td>0.000010</td>\n",
       "      <td>0.025076</td>\n",
       "      <td>0.044469</td>\n",
       "      <td>0.163983</td>\n",
       "      <td>0.758738</td>\n",
       "      <td>0.000255</td>\n",
       "      <td>0.000314</td>\n",
       "      <td>0.000237</td>\n",
       "      <td>0.000120</td>\n",
       "      <td>0.000612</td>\n",
       "    </tr>\n",
       "    <tr>\n",
       "      <th>3</th>\n",
       "      <td>0.000809</td>\n",
       "      <td>0.011690</td>\n",
       "      <td>0.016357</td>\n",
       "      <td>0.076439</td>\n",
       "      <td>0.519920</td>\n",
       "      <td>0.000080</td>\n",
       "      <td>0.000098</td>\n",
       "      <td>0.000095</td>\n",
       "      <td>0.000048</td>\n",
       "      <td>0.000158</td>\n",
       "      <td>...</td>\n",
       "      <td>0.000002</td>\n",
       "      <td>0.014828</td>\n",
       "      <td>0.024366</td>\n",
       "      <td>0.095377</td>\n",
       "      <td>0.844557</td>\n",
       "      <td>0.000126</td>\n",
       "      <td>0.000328</td>\n",
       "      <td>0.000402</td>\n",
       "      <td>0.000149</td>\n",
       "      <td>0.000384</td>\n",
       "    </tr>\n",
       "    <tr>\n",
       "      <th>4</th>\n",
       "      <td>0.001007</td>\n",
       "      <td>0.013198</td>\n",
       "      <td>0.015665</td>\n",
       "      <td>0.087796</td>\n",
       "      <td>0.533764</td>\n",
       "      <td>0.000141</td>\n",
       "      <td>0.000178</td>\n",
       "      <td>0.000208</td>\n",
       "      <td>0.000097</td>\n",
       "      <td>0.000194</td>\n",
       "      <td>...</td>\n",
       "      <td>0.000007</td>\n",
       "      <td>0.016420</td>\n",
       "      <td>0.022551</td>\n",
       "      <td>0.107115</td>\n",
       "      <td>0.832760</td>\n",
       "      <td>0.000187</td>\n",
       "      <td>0.000413</td>\n",
       "      <td>0.000642</td>\n",
       "      <td>0.000200</td>\n",
       "      <td>0.000317</td>\n",
       "    </tr>\n",
       "    <tr>\n",
       "      <th>...</th>\n",
       "      <td>...</td>\n",
       "      <td>...</td>\n",
       "      <td>...</td>\n",
       "      <td>...</td>\n",
       "      <td>...</td>\n",
       "      <td>...</td>\n",
       "      <td>...</td>\n",
       "      <td>...</td>\n",
       "      <td>...</td>\n",
       "      <td>...</td>\n",
       "      <td>...</td>\n",
       "      <td>...</td>\n",
       "      <td>...</td>\n",
       "      <td>...</td>\n",
       "      <td>...</td>\n",
       "      <td>...</td>\n",
       "      <td>...</td>\n",
       "      <td>...</td>\n",
       "      <td>...</td>\n",
       "      <td>...</td>\n",
       "      <td>...</td>\n",
       "    </tr>\n",
       "    <tr>\n",
       "      <th>107</th>\n",
       "      <td>0.000000</td>\n",
       "      <td>0.014656</td>\n",
       "      <td>0.018212</td>\n",
       "      <td>0.093589</td>\n",
       "      <td>0.622976</td>\n",
       "      <td>0.000093</td>\n",
       "      <td>0.000065</td>\n",
       "      <td>0.000015</td>\n",
       "      <td>0.000012</td>\n",
       "      <td>0.000171</td>\n",
       "      <td>...</td>\n",
       "      <td>0.000002</td>\n",
       "      <td>0.016392</td>\n",
       "      <td>0.024953</td>\n",
       "      <td>0.106140</td>\n",
       "      <td>0.768164</td>\n",
       "      <td>0.000122</td>\n",
       "      <td>0.000143</td>\n",
       "      <td>0.000086</td>\n",
       "      <td>0.000054</td>\n",
       "      <td>0.000250</td>\n",
       "    </tr>\n",
       "    <tr>\n",
       "      <th>108</th>\n",
       "      <td>0.000665</td>\n",
       "      <td>0.010487</td>\n",
       "      <td>0.015225</td>\n",
       "      <td>0.070246</td>\n",
       "      <td>0.520099</td>\n",
       "      <td>0.000077</td>\n",
       "      <td>0.000116</td>\n",
       "      <td>0.000142</td>\n",
       "      <td>0.000063</td>\n",
       "      <td>0.000139</td>\n",
       "      <td>...</td>\n",
       "      <td>0.000004</td>\n",
       "      <td>0.013418</td>\n",
       "      <td>0.020270</td>\n",
       "      <td>0.086595</td>\n",
       "      <td>0.845344</td>\n",
       "      <td>0.000123</td>\n",
       "      <td>0.000327</td>\n",
       "      <td>0.000489</td>\n",
       "      <td>0.000135</td>\n",
       "      <td>0.000218</td>\n",
       "    </tr>\n",
       "    <tr>\n",
       "      <th>109</th>\n",
       "      <td>0.000000</td>\n",
       "      <td>0.017520</td>\n",
       "      <td>0.024979</td>\n",
       "      <td>0.115106</td>\n",
       "      <td>0.660937</td>\n",
       "      <td>0.000149</td>\n",
       "      <td>0.000186</td>\n",
       "      <td>0.000109</td>\n",
       "      <td>0.000040</td>\n",
       "      <td>0.000256</td>\n",
       "      <td>...</td>\n",
       "      <td>0.000008</td>\n",
       "      <td>0.018198</td>\n",
       "      <td>0.032369</td>\n",
       "      <td>0.126607</td>\n",
       "      <td>0.728755</td>\n",
       "      <td>0.000205</td>\n",
       "      <td>0.000371</td>\n",
       "      <td>0.000340</td>\n",
       "      <td>0.000104</td>\n",
       "      <td>0.000361</td>\n",
       "    </tr>\n",
       "    <tr>\n",
       "      <th>110</th>\n",
       "      <td>0.000845</td>\n",
       "      <td>0.012941</td>\n",
       "      <td>0.014589</td>\n",
       "      <td>0.087177</td>\n",
       "      <td>0.602551</td>\n",
       "      <td>0.000113</td>\n",
       "      <td>0.000193</td>\n",
       "      <td>0.000207</td>\n",
       "      <td>0.000105</td>\n",
       "      <td>0.000203</td>\n",
       "      <td>...</td>\n",
       "      <td>0.000007</td>\n",
       "      <td>0.014977</td>\n",
       "      <td>0.019142</td>\n",
       "      <td>0.101199</td>\n",
       "      <td>0.784591</td>\n",
       "      <td>0.000149</td>\n",
       "      <td>0.000380</td>\n",
       "      <td>0.000374</td>\n",
       "      <td>0.000188</td>\n",
       "      <td>0.000275</td>\n",
       "    </tr>\n",
       "    <tr>\n",
       "      <th>111</th>\n",
       "      <td>0.000000</td>\n",
       "      <td>0.019905</td>\n",
       "      <td>0.034720</td>\n",
       "      <td>0.127569</td>\n",
       "      <td>0.615564</td>\n",
       "      <td>0.000199</td>\n",
       "      <td>0.000145</td>\n",
       "      <td>0.000050</td>\n",
       "      <td>0.000035</td>\n",
       "      <td>0.000374</td>\n",
       "      <td>...</td>\n",
       "      <td>0.000006</td>\n",
       "      <td>0.022103</td>\n",
       "      <td>0.053159</td>\n",
       "      <td>0.142562</td>\n",
       "      <td>0.760542</td>\n",
       "      <td>0.000278</td>\n",
       "      <td>0.000278</td>\n",
       "      <td>0.000209</td>\n",
       "      <td>0.000129</td>\n",
       "      <td>0.000573</td>\n",
       "    </tr>\n",
       "  </tbody>\n",
       "</table>\n",
       "<p>112 rows × 30 columns</p>\n",
       "</div>"
      ],
      "text/plain": [
       "           0         1         2         3         4         5         6   \\\n",
       "0    0.000000  0.015202  0.021504  0.099673  0.581984  0.000144  0.000196   \n",
       "1    0.000000  0.015234  0.021300  0.099342  0.629315  0.000119  0.000129   \n",
       "2    0.000000  0.022305  0.038917  0.142552  0.605483  0.000208  0.000193   \n",
       "3    0.000809  0.011690  0.016357  0.076439  0.519920  0.000080  0.000098   \n",
       "4    0.001007  0.013198  0.015665  0.087796  0.533764  0.000141  0.000178   \n",
       "..        ...       ...       ...       ...       ...       ...       ...   \n",
       "107  0.000000  0.014656  0.018212  0.093589  0.622976  0.000093  0.000065   \n",
       "108  0.000665  0.010487  0.015225  0.070246  0.520099  0.000077  0.000116   \n",
       "109  0.000000  0.017520  0.024979  0.115106  0.660937  0.000149  0.000186   \n",
       "110  0.000845  0.012941  0.014589  0.087177  0.602551  0.000113  0.000193   \n",
       "111  0.000000  0.019905  0.034720  0.127569  0.615564  0.000199  0.000145   \n",
       "\n",
       "           7         8         9   ...        20        21        22  \\\n",
       "0    0.000057  0.000063  0.000202  ...  0.000004  0.017763  0.028763   \n",
       "1    0.000097  0.000061  0.000204  ...  0.000003  0.016689  0.030671   \n",
       "2    0.000119  0.000060  0.000485  ...  0.000010  0.025076  0.044469   \n",
       "3    0.000095  0.000048  0.000158  ...  0.000002  0.014828  0.024366   \n",
       "4    0.000208  0.000097  0.000194  ...  0.000007  0.016420  0.022551   \n",
       "..        ...       ...       ...  ...       ...       ...       ...   \n",
       "107  0.000015  0.000012  0.000171  ...  0.000002  0.016392  0.024953   \n",
       "108  0.000142  0.000063  0.000139  ...  0.000004  0.013418  0.020270   \n",
       "109  0.000109  0.000040  0.000256  ...  0.000008  0.018198  0.032369   \n",
       "110  0.000207  0.000105  0.000203  ...  0.000007  0.014977  0.019142   \n",
       "111  0.000050  0.000035  0.000374  ...  0.000006  0.022103  0.053159   \n",
       "\n",
       "           23        24        25        26        27        28        29  \n",
       "0    0.117211  0.796318  0.000172  0.000349  0.000147  0.000129  0.000305  \n",
       "1    0.109750  0.761357  0.000161  0.000290  0.000388  0.000164  0.000301  \n",
       "2    0.163983  0.758738  0.000255  0.000314  0.000237  0.000120  0.000612  \n",
       "3    0.095377  0.844557  0.000126  0.000328  0.000402  0.000149  0.000384  \n",
       "4    0.107115  0.832760  0.000187  0.000413  0.000642  0.000200  0.000317  \n",
       "..        ...       ...       ...       ...       ...       ...       ...  \n",
       "107  0.106140  0.768164  0.000122  0.000143  0.000086  0.000054  0.000250  \n",
       "108  0.086595  0.845344  0.000123  0.000327  0.000489  0.000135  0.000218  \n",
       "109  0.126607  0.728755  0.000205  0.000371  0.000340  0.000104  0.000361  \n",
       "110  0.101199  0.784591  0.000149  0.000380  0.000374  0.000188  0.000275  \n",
       "111  0.142562  0.760542  0.000278  0.000278  0.000209  0.000129  0.000573  \n",
       "\n",
       "[112 rows x 30 columns]"
      ]
     },
     "execution_count": 42,
     "metadata": {},
     "output_type": "execute_result"
    }
   ],
   "source": [
    "pd.DataFrame(X_val_norm)"
   ]
  },
  {
   "cell_type": "markdown",
   "metadata": {
    "id": "WjDrhJnSabQz"
   },
   "source": [
    "In above code, you are Normalizing the features."
   ]
  },
  {
   "cell_type": "markdown",
   "metadata": {
    "id": "gUDnp3AB8CJX"
   },
   "source": [
    "##### **LDA**"
   ]
  },
  {
   "cell_type": "markdown",
   "metadata": {
    "id": "fg1HvU17r-JV"
   },
   "source": [
    "Let's throw in linear classifiers, i.e., Linear Discriminant Analysis for good measure and because our dataset is small."
   ]
  },
  {
   "cell_type": "code",
   "execution_count": 38,
   "metadata": {
    "id": "FUXTLA4Yfcvu"
   },
   "outputs": [
    {
     "name": "stdout",
     "output_type": "stream",
     "text": [
      "LDA Accuracy is: 1.0\n",
      "LDA Classification Report\n",
      "              precision    recall  f1-score   support\n",
      "\n",
      "           0       1.00      1.00      1.00        76\n",
      "           1       1.00      1.00      1.00        36\n",
      "\n",
      "    accuracy                           1.00       112\n",
      "   macro avg       1.00      1.00      1.00       112\n",
      "weighted avg       1.00      1.00      1.00       112\n",
      "\n"
     ]
    }
   ],
   "source": [
    "lda = LinearDiscriminantAnalysis()\n",
    "lda.fit(X_train_norm, y_train)\n",
    "lda_predicted = lda.predict(X_val_norm)\n",
    "\n",
    "print('LDA Accuracy is: {}'.format(accuracy_score(y_val,lda_predicted)))\n",
    "\n",
    "print('LDA Classification Report')\n",
    "print(classification_report(y_val, lda_predicted))"
   ]
  },
  {
   "cell_type": "markdown",
   "metadata": {
    "id": "jAoo9GaHabQ0"
   },
   "source": [
    "* In the above code, you are doing the Linear Discriminant Analysis, in which you find the LDA Accuracy and LDA Classification Report.\n",
    "* Analogous to the principle of beam search, let us stick with the three best algorithms, LDA, RFC, and GBC, and tune these models further, picking the one that gives the highest accuracy after tuning. Instantiate a new LDA model and check its performance."
   ]
  },
  {
   "cell_type": "code",
   "execution_count": 40,
   "metadata": {
    "id": "kYWREBDqfdAh"
   },
   "outputs": [
    {
     "data": {
      "text/html": [
       "<div>\n",
       "<style scoped>\n",
       "    .dataframe tbody tr th:only-of-type {\n",
       "        vertical-align: middle;\n",
       "    }\n",
       "\n",
       "    .dataframe tbody tr th {\n",
       "        vertical-align: top;\n",
       "    }\n",
       "\n",
       "    .dataframe thead th {\n",
       "        text-align: right;\n",
       "    }\n",
       "</style>\n",
       "<table border=\"1\" class=\"dataframe\">\n",
       "  <thead>\n",
       "    <tr style=\"text-align: right;\">\n",
       "      <th></th>\n",
       "      <th>Predicted Negative</th>\n",
       "      <th>Predicted Postive</th>\n",
       "    </tr>\n",
       "  </thead>\n",
       "  <tbody>\n",
       "    <tr>\n",
       "      <th>Actual Negative</th>\n",
       "      <td>76</td>\n",
       "      <td>0</td>\n",
       "    </tr>\n",
       "    <tr>\n",
       "      <th>Actual Positive</th>\n",
       "      <td>0</td>\n",
       "      <td>36</td>\n",
       "    </tr>\n",
       "  </tbody>\n",
       "</table>\n",
       "</div>"
      ],
      "text/plain": [
       "                 Predicted Negative  Predicted Postive\n",
       "Actual Negative                  76                  0\n",
       "Actual Positive                   0                 36"
      ]
     },
     "execution_count": 40,
     "metadata": {},
     "output_type": "execute_result"
    }
   ],
   "source": [
    "confusion_matrix_lda = pd.DataFrame(confusion_matrix(y_val, lda_predicted),\n",
    "                                  index = ['Actual Negative','Actual Positive'],\n",
    "                        columns = ['Predicted Negative','Predicted Postive'] )\n",
    "confusion_matrix_lda"
   ]
  },
  {
   "cell_type": "code",
   "execution_count": null,
   "metadata": {
    "id": "asmSLpjTabQ0"
   },
   "outputs": [],
   "source": []
  },
  {
   "cell_type": "markdown",
   "metadata": {
    "id": "eIuuR7q8YE5f"
   },
   "source": [
    "**Note: In this lesson, we saw the use of the feature selection methods, but in the next lesson we are going to use one of these methods as a sub-component of \"Supervised Learning - Regression and Classification\".**"
   ]
  },
  {
   "cell_type": "markdown",
   "metadata": {
    "id": "sd-UtEKgZl5Q"
   },
   "source": [
    "![Simplilearn_Logo](https://labcontent.simplicdn.net/data-content/content-assets/Data_and_AI/Logo_Powered_By_Simplilearn/SL_Logo_1.png)"
   ]
  }
 ],
 "metadata": {
  "colab": {
   "collapsed_sections": [],
   "name": "7.01_Feature_Selection.ipynb",
   "private_outputs": true,
   "provenance": []
  },
  "kernelspec": {
   "display_name": "Python 3 (ipykernel)",
   "language": "python",
   "name": "python3"
  },
  "language_info": {
   "codemirror_mode": {
    "name": "ipython",
    "version": 3
   },
   "file_extension": ".py",
   "mimetype": "text/x-python",
   "name": "python",
   "nbconvert_exporter": "python",
   "pygments_lexer": "ipython3",
   "version": "3.9.12"
  }
 },
 "nbformat": 4,
 "nbformat_minor": 4
}
