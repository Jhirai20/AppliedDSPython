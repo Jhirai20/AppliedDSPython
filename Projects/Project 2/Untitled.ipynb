{
 "cells": [
  {
   "cell_type": "code",
   "execution_count": null,
   "id": "8ef91f11-55d5-499f-a5cd-0b5bb4b1dd2f",
   "metadata": {},
   "outputs": [],
   "source": [
    "Project 2"
   ]
  },
  {
   "cell_type": "code",
   "execution_count": null,
   "id": "136eb695-3581-4994-b7e5-3ea4566dcc88",
   "metadata": {},
   "outputs": [],
   "source": [
    "Perform the following steps:\n",
    "\n",
    "1. Understand the dataset:\n",
    "\n",
    "Identify the shape of the dataset\n",
    "\n",
    "Identify variables with null values\n",
    "\n",
    "2. Perform basic data exploratory analysis:\n",
    "\n",
    "Utilize missing value treatment\n",
    "\n",
    "Analyze the date column and remove the entries if it has an incorrect timeline\n",
    "\n",
    "Draw a frequency plot for city-wise complaints\n",
    "\n",
    "Draw scatter and hexbin plots for complaint concentration across Brooklyn\n",
    "\n",
    "3. Find major types of complaints:\n",
    "\n",
    "Plot a bar graph of count vs. complaint types\n",
    "\n",
    "Find the top 10 types of complaints\n",
    "\n",
    "Display the types of complaints in each city in a separate dataset\n",
    "\n",
    " \n",
    "\n",
    "4. Visualize the major types of complaints in each city\n",
    "\n",
    "5. Check if the average response time across various types of complaints\n",
    "\n",
    "6. Identify significant variables by performing a statistical analysis using p-values and chi-square values"
   ]
  }
 ],
 "metadata": {
  "kernelspec": {
   "display_name": "Python 3 (ipykernel)",
   "language": "python",
   "name": "python3"
  },
  "language_info": {
   "codemirror_mode": {
    "name": "ipython",
    "version": 3
   },
   "file_extension": ".py",
   "mimetype": "text/x-python",
   "name": "python",
   "nbconvert_exporter": "python",
   "pygments_lexer": "ipython3",
   "version": "3.9.12"
  }
 },
 "nbformat": 4,
 "nbformat_minor": 5
}
