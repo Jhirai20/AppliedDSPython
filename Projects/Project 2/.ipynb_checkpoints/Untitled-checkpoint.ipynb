{
 "cells": [
  {
   "cell_type": "code",
   "execution_count": null,
   "id": "8ef91f11-55d5-499f-a5cd-0b5bb4b1dd2f",
   "metadata": {},
   "outputs": [],
   "source": [
    "Project 2"
   ]
  },
  {
   "cell_type": "markdown",
   "id": "9725f0bc-4d40-4ea1-abb7-a3ed57144e13",
   "metadata": {},
   "source": [
    "Perform the following steps:\n",
    "\n",
    "1. Understand the dataset:\n",
    "\n",
    "Identify the shape of the dataset\n",
    "\n",
    "Identify variables with null values\n",
    "\n",
    "2. Perform basic data exploratory analysis:\n",
    "\n",
    "Utilize missing value treatment\n",
    "\n",
    "Analyze the date column and remove the entries if it has an incorrect timeline\n",
    "\n",
    "Draw a frequency plot for city-wise complaints\n",
    "\n",
    "Draw scatter and hexbin plots for complaint concentration across Brooklyn\n",
    "\n",
    "3. Find major types of complaints:\n",
    "\n",
    "Plot a bar graph of count vs. complaint types\n",
    "\n",
    "Find the top 10 types of complaints\n",
    "\n",
    "Display the types of complaints in each city in a separate dataset\n",
    "\n",
    " \n",
    "\n",
    "4. Visualize the major types of complaints in each city\n",
    "\n",
    "5. Check if the average response time across various types of complaints\n",
    "\n",
    "6. Identify significant variables by performing a statistical analysis using p-values and chi-square values"
   ]
  },
  {
   "cell_type": "code",
   "execution_count": 9,
   "id": "068cf818-90c8-4858-b693-933b25a90986",
   "metadata": {},
   "outputs": [],
   "source": [
    "# imports\n",
    "import numpy as np\n",
    "import pandas as pd\n",
    "\n",
    "import matplotlib.pyplot as plt\n",
    "%matplotlib inline\n",
    "import seaborn as sns\n",
    "\n",
    "import warnings\n",
    "warnings.filterwarnings('ignore')\n",
    "\n",
    "import scipy.stats as stats\n",
    "from scipy.stats import skew,norm\n",
    "from scipy.stats.stats import pearsonr\n",
    "ds = pd.read_csv(r'C:\\Users\\jhira\\Documents\\311_Service_Requests_from_2010_to_Present.csv')"
   ]
  },
  {
   "cell_type": "markdown",
   "id": "00d2edf4-93ff-49f9-9831-aa71906ce06a",
   "metadata": {},
   "source": [
    "### 1. Understand the dataset:"
   ]
  },
  {
   "cell_type": "markdown",
   "id": "764e9c83-5078-4baf-bbc6-7a43ae3eb7e2",
   "metadata": {},
   "source": [
    "#### Identify the shape of the dataset"
   ]
  },
  {
   "cell_type": "code",
   "execution_count": 5,
   "id": "0aa2a683-8097-418f-908c-f48724586d95",
   "metadata": {},
   "outputs": [
    {
     "data": {
      "text/plain": [
       "(364558, 53)"
      ]
     },
     "execution_count": 5,
     "metadata": {},
     "output_type": "execute_result"
    }
   ],
   "source": [
    "ds.shape"
   ]
  },
  {
   "cell_type": "markdown",
   "id": "b8ed7269-98c9-495f-ba82-320febdf41a6",
   "metadata": {},
   "source": [
    "#### Identify variables with null values"
   ]
  },
  {
   "cell_type": "code",
   "execution_count": 6,
   "id": "72d4ff19-7dc5-4afe-9080-da0c4a423bcd",
   "metadata": {},
   "outputs": [
    {
     "data": {
      "text/plain": [
       "Unique Key                             0\n",
       "Created Date                           0\n",
       "Closed Date                         2381\n",
       "Agency                                 0\n",
       "Agency Name                            0\n",
       "Complaint Type                         0\n",
       "Descriptor                          6501\n",
       "Location Type                        133\n",
       "Incident Zip                        2998\n",
       "Incident Address                   51699\n",
       "Street Name                        51699\n",
       "Cross Street 1                     57188\n",
       "Cross Street 2                     57805\n",
       "Intersection Street 1             313438\n",
       "Intersection Street 2             314046\n",
       "Address Type                        3252\n",
       "City                                2997\n",
       "Landmark                          364183\n",
       "Facility Type                       2389\n",
       "Status                                 0\n",
       "Due Date                               3\n",
       "Resolution Description                 0\n",
       "Resolution Action Updated Date      2402\n",
       "Community Board                        0\n",
       "Borough                                0\n",
       "X Coordinate (State Plane)          4030\n",
       "Y Coordinate (State Plane)          4030\n",
       "Park Facility Name                     0\n",
       "Park Borough                           0\n",
       "School Name                            0\n",
       "School Number                          0\n",
       "School Region                          1\n",
       "School Code                            1\n",
       "School Phone Number                    0\n",
       "School Address                         0\n",
       "School City                            0\n",
       "School State                           0\n",
       "School Zip                             1\n",
       "School Not Found                       0\n",
       "School or Citywide Complaint      364558\n",
       "Vehicle Type                      364558\n",
       "Taxi Company Borough              364558\n",
       "Taxi Pick Up Location             364558\n",
       "Bridge Highway Name               364261\n",
       "Bridge Highway Direction          364261\n",
       "Road Ramp                         364296\n",
       "Bridge Highway Segment            364296\n",
       "Garage Lot Name                   364558\n",
       "Ferry Direction                   364557\n",
       "Ferry Terminal Name               364556\n",
       "Latitude                            4030\n",
       "Longitude                           4030\n",
       "Location                            4030\n",
       "dtype: int64"
      ]
     },
     "execution_count": 6,
     "metadata": {},
     "output_type": "execute_result"
    }
   ],
   "source": [
    "ds.isna().sum(axis=0)"
   ]
  },
  {
   "cell_type": "markdown",
   "id": "972981cc-67ca-4f6c-8ed1-c556c3bf3d6f",
   "metadata": {},
   "source": [
    "### 2. Perform basic data exploratory analysis:"
   ]
  },
  {
   "cell_type": "markdown",
   "id": "522fc286-6380-4c14-a4fe-7f8ab30db701",
   "metadata": {
    "tags": []
   },
   "source": [
    "#### Utilize missing value treatment"
   ]
  },
  {
   "cell_type": "code",
   "execution_count": null,
   "id": "9618827d-ccf2-4863-913b-4df1acdddfc7",
   "metadata": {},
   "outputs": [],
   "source": []
  },
  {
   "cell_type": "markdown",
   "id": "c2a0ebc4-1bf7-463e-8860-c59fdd31b60c",
   "metadata": {
    "jp-MarkdownHeadingCollapsed": true,
    "tags": []
   },
   "source": [
    "#### Analyze the date column and remove the entries if it has an incorrect timeline"
   ]
  },
  {
   "cell_type": "markdown",
   "id": "dfb93082-a444-4619-a87b-d2ca927c6d08",
   "metadata": {},
   "source": [
    "#### Draw a frequency plot for city-wise complaints"
   ]
  },
  {
   "cell_type": "markdown",
   "id": "2efaa2e3-424d-4c60-afb5-6f693dafdb03",
   "metadata": {},
   "source": [
    "#### Draw scatter and hexbin plots for complaint concentration across Brooklyn"
   ]
  },
  {
   "cell_type": "code",
   "execution_count": null,
   "id": "a406a959-2f60-450e-b8fa-f70bd8cab905",
   "metadata": {},
   "outputs": [],
   "source": []
  }
 ],
 "metadata": {
  "kernelspec": {
   "display_name": "Python 3 (ipykernel)",
   "language": "python",
   "name": "python3"
  },
  "language_info": {
   "codemirror_mode": {
    "name": "ipython",
    "version": 3
   },
   "file_extension": ".py",
   "mimetype": "text/x-python",
   "name": "python",
   "nbconvert_exporter": "python",
   "pygments_lexer": "ipython3",
   "version": "3.9.12"
  }
 },
 "nbformat": 4,
 "nbformat_minor": 5
}
