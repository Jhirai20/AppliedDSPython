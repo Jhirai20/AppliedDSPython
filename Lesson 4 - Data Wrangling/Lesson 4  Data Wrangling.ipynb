{
 "cells": [
  {
   "cell_type": "markdown",
   "id": "c401d618-d004-4d86-856e-88a36a89e91e",
   "metadata": {},
   "source": [
    "--DATA WRANGLING--"
   ]
  },
  {
   "cell_type": "code",
   "execution_count": null,
   "id": "cf3fc706-302c-4e61-a1fe-e143754b0395",
   "metadata": {},
   "outputs": [],
   "source": []
  },
  {
   "cell_type": "code",
   "execution_count": 24,
   "id": "43306b2a-8444-4d8a-b23c-5f67e5f557cc",
   "metadata": {},
   "outputs": [],
   "source": [
    "import math\n",
    "import os\n",
    "import random\n",
    "import re\n",
    "import sys\n",
    "\n"
   ]
  },
  {
   "cell_type": "code",
   "execution_count": 68,
   "id": "4827ddfe-0d62-42b7-9497-6653f5c53ca7",
   "metadata": {},
   "outputs": [
    {
     "name": "stdout",
     "output_type": "stream",
     "text": [
      "1\n",
      "3\n",
      "6\n",
      "10\n",
      "10 14\n"
     ]
    }
   ],
   "source": [
    "arr=[1,2,3,4,5]\n",
    "# bubble sort\n",
    "n=len(arr)\n",
    "for i in range(n):\n",
    "    already_sorted = True\n",
    "    for j in range(0,n-i-1):\n",
    "        if arr[j]>arr[j+1]:\n",
    "            arr[j], arr[j+1]=arr[j+1], arr[j]\n",
    "            already_sorted = False\n",
    "    if already_sorted:\n",
    "        break\n",
    "#sum first 4 and last 4 elements\n",
    "sumMin=0 \n",
    "sumMax=0\n",
    "for x in range(4):\n",
    "    sumMin+=arr[x]\n",
    "    print(sumMin)\n",
    "for x in range(4):\n",
    "    sumMax+=arr[-x-1]\n",
    "print(sumMin,sumMax)"
   ]
  },
  {
   "cell_type": "markdown",
   "id": "52f09b4b-9b11-4417-a98c-1f0694f644fa",
   "metadata": {},
   "source": [
    "Format to Military Time"
   ]
  },
  {
   "cell_type": "code",
   "execution_count": 55,
   "id": "9b9a216f-e429-4de0-9a25-0cd971de12c7",
   "metadata": {},
   "outputs": [
    {
     "data": {
      "text/plain": [
       "'23:59:59'"
      ]
     },
     "execution_count": 55,
     "metadata": {},
     "output_type": "execute_result"
    }
   ],
   "source": [
    "s='11:59:59PM'\n",
    "if s[8]=='A' and s[0]=='1':\n",
    "    r= 12-int(s[0:2])\n",
    "    r=\"{:02d}\".format(r)\n",
    "    ns=str(r)\n",
    "    ns=ns+s[2:-2]\n",
    "elif s[8]=='A':\n",
    "    r= int(s[0:2])\n",
    "    r=\"{:02d}\".format(r)\n",
    "    ns=str(r)\n",
    "    ns=ns+s[2:-2]\n",
    "elif s[8]=='P' and s[0:2]=='12':\n",
    "    r= int(s[0:2])\n",
    "    r=\"{:02d}\".format(r)\n",
    "    ns=str(r)\n",
    "    ns=ns+s[2:-2]\n",
    "else:\n",
    "    r= 12+int(s[0:2])\n",
    "    r=\"{:02d}\".format(r)\n",
    "    ns=str(r)\n",
    "    ns=ns+s[2:-2]\n",
    "ns\n",
    "\n"
   ]
  },
  {
   "cell_type": "code",
   "execution_count": null,
   "id": "448c0c39-c043-4ae2-9df3-12f15b2cce19",
   "metadata": {},
   "outputs": [],
   "source": []
  }
 ],
 "metadata": {
  "kernelspec": {
   "display_name": "Python 3 (ipykernel)",
   "language": "python",
   "name": "python3"
  },
  "language_info": {
   "codemirror_mode": {
    "name": "ipython",
    "version": 3
   },
   "file_extension": ".py",
   "mimetype": "text/x-python",
   "name": "python",
   "nbconvert_exporter": "python",
   "pygments_lexer": "ipython3",
   "version": "3.9.12"
  }
 },
 "nbformat": 4,
 "nbformat_minor": 5
}
